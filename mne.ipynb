{
 "cells": [
  {
   "cell_type": "code",
   "execution_count": 2,
   "metadata": {},
   "outputs": [],
   "source": [
    "# RQA -- in between - raw quality assessment (amplitude * power frequency ratio * alpha band psd ratio)\n",
    "# Extract file ---> collective data ---> Bad channel removal ----- Not needed [sampling rate correction (500Hz)] -----\n",
    "# filtering (butterworth bandpass - tune coefficient)  ----- rereferencing ----- epoching ----- ERP ----- baseline removal ---- "
   ]
  },
  {
   "cell_type": "code",
   "execution_count": 3,
   "metadata": {},
   "outputs": [],
   "source": [
    "import numpy as np\n",
    "import pandas as pd\n",
    "import matplotlib.pyplot as plt\n",
    "from scipy import fftpack,  signal\n",
    "import time\n",
    "import mne\n",
    "import matplotlib\n",
    "from collections import UserDict\n"
   ]
  },
  {
   "cell_type": "markdown",
   "metadata": {},
   "source": [
    "## Reading the eeg data"
   ]
  },
  {
   "cell_type": "code",
   "execution_count": 4,
   "metadata": {},
   "outputs": [],
   "source": [
    "channel_str='Channel 1:P8\\\n",
    "\tChannel 2:T8\\\n",
    "\tChannel 3:CP6\\\n",
    "\tChannel 4:FC6\\\n",
    "\tChannel 5:F8\\\n",
    "\tChannel 6:F4\\\n",
    "\tChannel 7:C4\\\n",
    "\tChannel 8:P4\\\n",
    "\tChannel 9:AF4\\\n",
    "\tChannel 10:Fp2\\\n",
    "\tChannel 11:Fp1\\\n",
    "\tChannel 12:AF3\\\n",
    "\tChannel 13:Fz\\\n",
    "\tChannel 14:FC2\\\n",
    "\tChannel 15:Cz\\\n",
    "\tChannel 16:CP2\\\n",
    "\tChannel 17:PO3\\\n",
    "\tChannel 18:O1\\\n",
    "\tChannel 19:Oz\\\n",
    "\tChannel 20:O2\\\n",
    "\tChannel 21:PO4\\\n",
    "\tChannel 22:Pz\\\n",
    "\tChannel 23:CP1\\\n",
    "\tChannel 24:FC1\\\n",
    "\tChannel 25:P3\\\n",
    "\tChannel 26:C3\\\n",
    "\tChannel 27:F3\\\n",
    "\tChannel 28:F7\\\n",
    "\tChannel 29:FC5\\\n",
    "\tChannel 30:CP5\\\n",
    "\tChannel 31:T7\\\n",
    "\tChannel 32:P7'\n",
    "\n",
    "string_channels = channel_str.replace('\\t', ':').split(':')\n",
    "channel_names = [string_channels[i] for i in range(len(string_channels)) if i % 2 != 0]\n",
    "channel_names.append('ax')\n",
    "channel_names.append('ay')\n",
    "channel_names.append('az')\n",
    "channel_names.append('trigger')\n",
    "channel_names.append('timestamp(ms)')"
   ]
  },
  {
   "cell_type": "code",
   "execution_count": 5,
   "metadata": {},
   "outputs": [
    {
     "data": {
      "text/html": [
       "<div>\n",
       "<style scoped>\n",
       "    .dataframe tbody tr th:only-of-type {\n",
       "        vertical-align: middle;\n",
       "    }\n",
       "\n",
       "    .dataframe tbody tr th {\n",
       "        vertical-align: top;\n",
       "    }\n",
       "\n",
       "    .dataframe thead th {\n",
       "        text-align: right;\n",
       "    }\n",
       "</style>\n",
       "<table border=\"1\" class=\"dataframe\">\n",
       "  <thead>\n",
       "    <tr style=\"text-align: right;\">\n",
       "      <th></th>\n",
       "      <th>P8</th>\n",
       "      <th>T8</th>\n",
       "      <th>CP6</th>\n",
       "      <th>FC6</th>\n",
       "      <th>F8</th>\n",
       "      <th>F4</th>\n",
       "      <th>C4</th>\n",
       "      <th>P4</th>\n",
       "      <th>AF4</th>\n",
       "      <th>Fp2</th>\n",
       "      <th>...</th>\n",
       "      <th>F7</th>\n",
       "      <th>FC5</th>\n",
       "      <th>CP5</th>\n",
       "      <th>T7</th>\n",
       "      <th>P7</th>\n",
       "      <th>ax</th>\n",
       "      <th>ay</th>\n",
       "      <th>az</th>\n",
       "      <th>trigger</th>\n",
       "      <th>timestamp(ms)</th>\n",
       "    </tr>\n",
       "  </thead>\n",
       "  <tbody>\n",
       "    <tr>\n",
       "      <th>0</th>\n",
       "      <td>31399486</td>\n",
       "      <td>41813101</td>\n",
       "      <td>37317782</td>\n",
       "      <td>43707527</td>\n",
       "      <td>3615337</td>\n",
       "      <td>26556925</td>\n",
       "      <td>36763121</td>\n",
       "      <td>21657737</td>\n",
       "      <td>9144579</td>\n",
       "      <td>20491800</td>\n",
       "      <td>...</td>\n",
       "      <td>20403151</td>\n",
       "      <td>24447225</td>\n",
       "      <td>23063074</td>\n",
       "      <td>20909999</td>\n",
       "      <td>38154017</td>\n",
       "      <td>-490</td>\n",
       "      <td>-9865</td>\n",
       "      <td>-68</td>\n",
       "      <td>0</td>\n",
       "      <td>1689692114103</td>\n",
       "    </tr>\n",
       "    <tr>\n",
       "      <th>1</th>\n",
       "      <td>31407662</td>\n",
       "      <td>41821620</td>\n",
       "      <td>37328919</td>\n",
       "      <td>43716121</td>\n",
       "      <td>3626461</td>\n",
       "      <td>26563954</td>\n",
       "      <td>36772044</td>\n",
       "      <td>21666019</td>\n",
       "      <td>9151566</td>\n",
       "      <td>20499466</td>\n",
       "      <td>...</td>\n",
       "      <td>20413408</td>\n",
       "      <td>24458780</td>\n",
       "      <td>23074804</td>\n",
       "      <td>20922896</td>\n",
       "      <td>38166180</td>\n",
       "      <td>-107</td>\n",
       "      <td>-9747</td>\n",
       "      <td>225</td>\n",
       "      <td>0</td>\n",
       "      <td>1689692114105</td>\n",
       "    </tr>\n",
       "    <tr>\n",
       "      <th>2</th>\n",
       "      <td>31414594</td>\n",
       "      <td>41827732</td>\n",
       "      <td>37333736</td>\n",
       "      <td>43719642</td>\n",
       "      <td>3632327</td>\n",
       "      <td>26566235</td>\n",
       "      <td>36775766</td>\n",
       "      <td>21669698</td>\n",
       "      <td>9148165</td>\n",
       "      <td>20499951</td>\n",
       "      <td>...</td>\n",
       "      <td>20418334</td>\n",
       "      <td>24465610</td>\n",
       "      <td>23081071</td>\n",
       "      <td>20930846</td>\n",
       "      <td>38175052</td>\n",
       "      <td>-304</td>\n",
       "      <td>-9865</td>\n",
       "      <td>-29</td>\n",
       "      <td>0</td>\n",
       "      <td>1689692114107</td>\n",
       "    </tr>\n",
       "    <tr>\n",
       "      <th>3</th>\n",
       "      <td>31417887</td>\n",
       "      <td>41829310</td>\n",
       "      <td>37334285</td>\n",
       "      <td>43720062</td>\n",
       "      <td>3633515</td>\n",
       "      <td>26566595</td>\n",
       "      <td>36776069</td>\n",
       "      <td>21672006</td>\n",
       "      <td>9144064</td>\n",
       "      <td>20498742</td>\n",
       "      <td>...</td>\n",
       "      <td>20418375</td>\n",
       "      <td>24465020</td>\n",
       "      <td>23084448</td>\n",
       "      <td>20931321</td>\n",
       "      <td>38178422</td>\n",
       "      <td>-264</td>\n",
       "      <td>-9904</td>\n",
       "      <td>68</td>\n",
       "      <td>0</td>\n",
       "      <td>1689692114109</td>\n",
       "    </tr>\n",
       "    <tr>\n",
       "      <th>4</th>\n",
       "      <td>31422884</td>\n",
       "      <td>41828356</td>\n",
       "      <td>37333614</td>\n",
       "      <td>43717552</td>\n",
       "      <td>3630525</td>\n",
       "      <td>26564635</td>\n",
       "      <td>36775617</td>\n",
       "      <td>21674890</td>\n",
       "      <td>9146353</td>\n",
       "      <td>20502239</td>\n",
       "      <td>...</td>\n",
       "      <td>20418384</td>\n",
       "      <td>24464380</td>\n",
       "      <td>23088964</td>\n",
       "      <td>20932807</td>\n",
       "      <td>38181743</td>\n",
       "      <td>-411</td>\n",
       "      <td>-9708</td>\n",
       "      <td>-68</td>\n",
       "      <td>0</td>\n",
       "      <td>1689692114111</td>\n",
       "    </tr>\n",
       "  </tbody>\n",
       "</table>\n",
       "<p>5 rows × 37 columns</p>\n",
       "</div>"
      ],
      "text/plain": [
       "         P8        T8       CP6       FC6       F8        F4        C4  \\\n",
       "0  31399486  41813101  37317782  43707527  3615337  26556925  36763121   \n",
       "1  31407662  41821620  37328919  43716121  3626461  26563954  36772044   \n",
       "2  31414594  41827732  37333736  43719642  3632327  26566235  36775766   \n",
       "3  31417887  41829310  37334285  43720062  3633515  26566595  36776069   \n",
       "4  31422884  41828356  37333614  43717552  3630525  26564635  36775617   \n",
       "\n",
       "         P4      AF4       Fp2  ...        F7       FC5       CP5        T7  \\\n",
       "0  21657737  9144579  20491800  ...  20403151  24447225  23063074  20909999   \n",
       "1  21666019  9151566  20499466  ...  20413408  24458780  23074804  20922896   \n",
       "2  21669698  9148165  20499951  ...  20418334  24465610  23081071  20930846   \n",
       "3  21672006  9144064  20498742  ...  20418375  24465020  23084448  20931321   \n",
       "4  21674890  9146353  20502239  ...  20418384  24464380  23088964  20932807   \n",
       "\n",
       "         P7   ax    ay   az  trigger  timestamp(ms)  \n",
       "0  38154017 -490 -9865  -68        0  1689692114103  \n",
       "1  38166180 -107 -9747  225        0  1689692114105  \n",
       "2  38175052 -304 -9865  -29        0  1689692114107  \n",
       "3  38178422 -264 -9904   68        0  1689692114109  \n",
       "4  38181743 -411 -9708  -68        0  1689692114111  \n",
       "\n",
       "[5 rows x 37 columns]"
      ]
     },
     "execution_count": 5,
     "metadata": {},
     "output_type": "execute_result"
    }
   ],
   "source": [
    "import pandas as pd\n",
    "\n",
    "folder_path = 'E:/IITD/Depression-IITD/Depression-Sample-dataset-AIIMS/'\n",
    "sham_or_active = 'Active/' # Active\n",
    "patient = 'Preeti singh/'\n",
    "pre_post_intervention = 'pre/'\n",
    "directory = folder_path + sham_or_active + patient + pre_post_intervention\n",
    "file_path = directory + '20230718202514_Preeti singh_22.08.23-01_GNG.easy'\n",
    "\n",
    "df = pd.read_csv(file_path, sep='\\t')\n",
    "df.columns=channel_names\n",
    "df.head()"
   ]
  },
  {
   "cell_type": "markdown",
   "metadata": {},
   "source": [
    "## MNE Analysis"
   ]
  },
  {
   "cell_type": "code",
   "execution_count": 6,
   "metadata": {},
   "outputs": [
    {
     "name": "stdout",
     "output_type": "stream",
     "text": [
      "Creating RawArray with float64 data, n_channels=32, n_times=149999\n",
      "    Range : 0 ... 149998 =      0.000 ...   299.996 secs\n",
      "Ready.\n"
     ]
    }
   ],
   "source": [
    "transposed_data=df.T\n",
    "\n",
    "# Create a MNE-Python info object and specifying sampling rate of data\n",
    "ch_names = df.columns.tolist()[:-5]\n",
    "ch_types = ['eeg' for i in range(32)]\n",
    "info = mne.create_info(ch_names=ch_names,ch_types=ch_types, sfreq=500)\n",
    "\n",
    "# Create a Raw object from the DataFrame\n",
    "raw = mne.io.RawArray(transposed_data.values[:-5,:], info)"
   ]
  },
  {
   "cell_type": "code",
   "execution_count": 7,
   "metadata": {},
   "outputs": [
    {
     "name": "stdout",
     "output_type": "stream",
     "text": [
      "num of channels: 32\n",
      "Shape of the data: (32, 149999)\n"
     ]
    }
   ],
   "source": [
    "# Printing information about the number of channels and the shape of the data\n",
    "print(f\"num of channels: {raw.info.get('nchan')}\")\n",
    "print(f'Shape of the data: {raw.get_data().shape}')"
   ]
  },
  {
   "cell_type": "markdown",
   "metadata": {},
   "source": [
    "### 1. Time amplitude plot"
   ]
  },
  {
   "cell_type": "code",
   "execution_count": 8,
   "metadata": {},
   "outputs": [],
   "source": [
    "def time_amplitude():\n",
    "    # To plot raw eeg plot\n",
    "    plt.switch_backend('TkAgg')\n",
    "\n",
    "    # Bandpass butterworth filter added\n",
    "    # Cutoffs at 0.01, 45.00 Hz: -6.02, -6.02 dB\n",
    "    # Applied only in currently plot\n",
    "    raw.plot(n_channels=32, \n",
    "    lowpass=45, \n",
    "    highpass=0.01,\n",
    "    scalings={'eeg': 1e5} \n",
    "    )\n",
    "\n",
    "    # In interactive plot, mark bad channels and they will be assigned to 'bads'\n",
    "    print(raw.info)"
   ]
  },
  {
   "cell_type": "markdown",
   "metadata": {},
   "source": [
    "### 2. Power spectral density plot"
   ]
  },
  {
   "cell_type": "code",
   "execution_count": 9,
   "metadata": {},
   "outputs": [],
   "source": [
    "def psd():\n",
    "    # To plot power spectral density plot\n",
    "    raw.compute_psd(fmax=150,picks=np.array(channel_names[:-5])).plot(picks=np.array(channel_names[:-5]), exclude=\"bads\")"
   ]
  },
  {
   "cell_type": "code",
   "execution_count": 10,
   "metadata": {},
   "outputs": [],
   "source": [
    "# Can plot graph before preprocessing"
   ]
  },
  {
   "cell_type": "markdown",
   "metadata": {},
   "source": [
    "### Preprocessing"
   ]
  },
  {
   "cell_type": "markdown",
   "metadata": {},
   "source": [
    "1. Bad channels removal\n",
    "\n",
    "Interpolation required to estimate missing or bad channel values."
   ]
  },
  {
   "cell_type": "code",
   "execution_count": 11,
   "metadata": {},
   "outputs": [
    {
     "name": "stderr",
     "output_type": "stream",
     "text": [
      "C:\\Users\\vishw\\AppData\\Local\\Temp\\ipykernel_13768\\3426324698.py:2: RuntimeWarning: No bad channels to interpolate. Doing nothing...\n",
      "  raw = raw.interpolate_bads(reset_bads=False)\n"
     ]
    }
   ],
   "source": [
    "# raw.info['bads'] = # can set manually through interactive plot\n",
    "raw = raw.interpolate_bads(reset_bads=False)"
   ]
  },
  {
   "cell_type": "markdown",
   "metadata": {},
   "source": [
    "2. Band pass filtering"
   ]
  },
  {
   "cell_type": "code",
   "execution_count": 12,
   "metadata": {},
   "outputs": [
    {
     "name": "stdout",
     "output_type": "stream",
     "text": [
      "Filtering raw data in 1 contiguous segment\n",
      "Setting up band-pass filter from 0.01 - 45 Hz\n",
      "\n",
      "FIR filter parameters\n",
      "---------------------\n",
      "Designing a one-pass, zero-phase, non-causal bandpass filter:\n",
      "- Windowed time-domain design (firwin) method\n",
      "- Hamming window with 0.0194 passband ripple and 53 dB stopband attenuation\n",
      "- Lower passband edge: 0.01\n",
      "- Lower transition bandwidth: 0.01 Hz (-6 dB cutoff frequency: 0.01 Hz)\n",
      "- Upper passband edge: 45.00 Hz\n",
      "- Upper transition bandwidth: 11.25 Hz (-6 dB cutoff frequency: 50.62 Hz)\n",
      "- Filter length: 165001 samples (330.002 s)\n",
      "\n"
     ]
    },
    {
     "name": "stderr",
     "output_type": "stream",
     "text": [
      "C:\\Users\\vishw\\AppData\\Local\\Temp\\ipykernel_13768\\3858274805.py:2: RuntimeWarning: filter_length (165001) is longer than the signal (149999), distortion is likely. Reduce filter length or filter a longer signal.\n",
      "  raw.filter(0.01, 45, fir_design='firwin', picks=['eeg'])\n",
      "[Parallel(n_jobs=1)]: Done  17 tasks      | elapsed:    0.4s\n"
     ]
    },
    {
     "name": "stdout",
     "output_type": "stream",
     "text": [
      "Setting up band-pass filter from 0.01 - 45 Hz\n",
      "\n",
      "IIR filter parameters\n",
      "---------------------\n",
      "Butterworth bandpass zero-phase (two-pass forward and reverse) non-causal filter:\n",
      "- Filter order 16 (effective, after forward-backward)\n",
      "- Cutoffs at 0.01, 45.00 Hz: -6.02, -6.02 dB\n",
      "\n",
      "Using matplotlib as 2D backend.\n",
      "<Info | 7 non-empty values\n",
      " bads: []\n",
      " ch_names: P8, T8, CP6, FC6, F8, F4, C4, P4, AF4, Fp2, Fp1, AF3, Fz, FC2, ...\n",
      " chs: 32 EEG\n",
      " custom_ref_applied: False\n",
      " highpass: 0.0 Hz\n",
      " lowpass: 45.0 Hz\n",
      " meas_date: unspecified\n",
      " nchan: 32\n",
      " projs: []\n",
      " sfreq: 500.0 Hz\n",
      ">\n",
      "Effective window size : 4.096 (s)\n"
     ]
    },
    {
     "name": "stderr",
     "output_type": "stream",
     "text": [
      "C:\\Users\\vishw\\AppData\\Local\\Temp\\ipykernel_13768\\2698333746.py:3: RuntimeWarning: Channel locations not available. Disabling spatial colors.\n",
      "  raw.compute_psd(fmax=150,picks=np.array(channel_names[:-5])).plot(picks=np.array(channel_names[:-5]), exclude=\"bads\")\n"
     ]
    }
   ],
   "source": [
    "# applied band pass filter of 0.01-45 Hz for depression detection \n",
    "raw.filter(0.01, 45, fir_design='firwin', picks=['eeg']) \n",
    "time_amplitude()\n",
    "psd()"
   ]
  },
  {
   "cell_type": "markdown",
   "metadata": {},
   "source": [
    "3. Rereferencing\n",
    "\n",
    "Calculates the mean voltage from all electrodes at each time point and subtracts this mean from the voltage at each individual electrode."
   ]
  },
  {
   "cell_type": "code",
   "execution_count": 13,
   "metadata": {},
   "outputs": [
    {
     "name": "stdout",
     "output_type": "stream",
     "text": [
      "EEG channel type selected for re-referencing\n",
      "Adding average EEG reference projection.\n",
      "1 projection items deactivated\n",
      "Average reference projection was added, but has not been applied yet. Use the apply_proj method to apply it.\n",
      "Created an SSP operator (subspace dimension = 1)\n",
      "1 projection items activated\n",
      "SSP projectors applied...\n",
      "Setting up band-pass filter from 0.01 - 45 Hz\n",
      "\n",
      "IIR filter parameters\n",
      "---------------------\n",
      "Butterworth bandpass zero-phase (two-pass forward and reverse) non-causal filter:\n",
      "- Filter order 16 (effective, after forward-backward)\n",
      "- Cutoffs at 0.01, 45.00 Hz: -6.02, -6.02 dB\n",
      "\n",
      "<Info | 8 non-empty values\n",
      " bads: []\n",
      " ch_names: P8, T8, CP6, FC6, F8, F4, C4, P4, AF4, Fp2, Fp1, AF3, Fz, FC2, ...\n",
      " chs: 32 EEG\n",
      " custom_ref_applied: False\n",
      " highpass: 0.0 Hz\n",
      " lowpass: 45.0 Hz\n",
      " meas_date: unspecified\n",
      " nchan: 32\n",
      " projs: Average EEG reference: on\n",
      " sfreq: 500.0 Hz\n",
      ">\n",
      "Effective window size : 4.096 (s)\n"
     ]
    },
    {
     "name": "stderr",
     "output_type": "stream",
     "text": [
      "C:\\Users\\vishw\\AppData\\Local\\Temp\\ipykernel_13768\\2698333746.py:3: RuntimeWarning: Channel locations not available. Disabling spatial colors.\n",
      "  raw.compute_psd(fmax=150,picks=np.array(channel_names[:-5])).plot(picks=np.array(channel_names[:-5]), exclude=\"bads\")\n"
     ]
    }
   ],
   "source": [
    "raw.set_eeg_reference('average', projection=True).apply_proj() \n",
    "time_amplitude()\n",
    "psd()"
   ]
  },
  {
   "cell_type": "markdown",
   "metadata": {},
   "source": [
    "4. Deleting annotations - Not for first iteration\n"
   ]
  },
  {
   "cell_type": "code",
   "execution_count": 14,
   "metadata": {},
   "outputs": [
    {
     "name": "stdout",
     "output_type": "stream",
     "text": [
      "Channels marked as bad:\n",
      "none\n",
      "Channels marked as bad:\n",
      "none\n"
     ]
    }
   ],
   "source": [
    "visual_inspection = pd.read_csv(directory + \"Preeti singh_GoNogo_Test_2023_Jul_18_2026.csv\")\n",
    "events_from_annot, event_dict = mne.events_from_annotations(raw)\n",
    "\n",
    "for i in range(visual_inspection.shape[0]):         \n",
    "    result = np.where((mne.events_from_annotations(raw)[0][:,0] > visual_inspection['Response.started'][i]*500) & \n",
    "                      (mne.events_from_annotations(raw)[0][:,0] < visual_inspection['Response.stopped'][i]*500))\n",
    "    raw.annotations.delete(result)"
   ]
  },
  {
   "cell_type": "markdown",
   "metadata": {},
   "source": [
    "#### 5. Epoching"
   ]
  },
  {
   "cell_type": "markdown",
   "metadata": {},
   "source": [
    "5.1 Adding trigger channel"
   ]
  },
  {
   "cell_type": "code",
   "execution_count": 45,
   "metadata": {},
   "outputs": [
    {
     "name": "stdout",
     "output_type": "stream",
     "text": [
      "[1, 1, 1, 2, 3, 1, 1, 1, 1, 1, 2, 3, 1, 1, 1, 1, 1, 2, 1, 1, 2, 3, 1, 3, 1, 1, 2, 3, 1, 1, 1, 1, 1, 1, 1, 1, 1, 1, 1, 1, 2, 3, 1, 2, 3, 1, 2, 3, 1, 1, 1, 2, 3, 1, 2, 3, 1, 1, 1, 1, 1, 1, 2, 3, 1, 1, 1, 1, 1, 1, 2, 3, 1, 1, 1, 1, 2, 3, 1, 1, 3, 2, 3, 1, 1, 1, 1, 1, 1, 2, 3, 1, 1, 1, 1, 2, 3, 1, 1, 1, 2, 3, 1, 1, 1, 1, 1, 1, 2, 3, 1, 1, 2, 3, 1, 1, 1, 1, 1, 1, 1, 1, 1, 1, 2, 2, 3, 1, 2, 3, 1, 1, 1, 1, 1, 1, 1, 1, 2, 3, 1, 1, 1, 1, 1, 2] EEEE\n",
      "[725, 1477, 2227, 2978, 3245, 3246, 3996, 4746, 5498, 6247, 6999, 7199, 7200, 7950, 8700, 9450, 10202, 10952, 11195, 11945, 45928, 46914, 46918, 47914, 47917, 48909, 49901, 50892, 50896, 51898, 52897, 53894, 54893, 55892, 56882, 57875, 58871, 59869, 60863, 61856, 62849, 63838, 63840, 64833, 65824, 65827, 66827, 67817, 67818, 68811, 69804, 70798, 71788, 71790, 72784, 73773, 73774, 74767, 75760, 76755, 77745, 78737, 79730, 80722, 80723, 81716, 82709, 83702, 84696, 85695, 86689, 87679, 87680, 88673, 89666, 90660, 91653, 92650, 92651, 93645, 94636, 94638, 95628, 95631, 96625, 97624, 98616, 99609, 100602, 101596, 102585, 102587, 103579, 104574, 105565, 106557, 107549, 107554, 108551, 109545, 110538, 111528, 111530, 112522, 113515, 114508, 115499, 116494, 117485, 118477, 118479, 119472, 120462, 121454, 121457, 122449, 123441, 124433, 125427, 126420, 127412, 128406, 129397, 130389, 131382, 132374, 133366, 133370, 134368, 135360, 135362, 136355, 137346, 138339, 139332, 140325, 141317, 142310, 143303, 144294, 144296, 145289, 146280, 147273, 148266, 149259] DDDDD\n"
     ]
    },
    {
     "data": {
      "text/plain": [
       "<MNEBrowseFigure size 1706x888.667 with 4 Axes>"
      ]
     },
     "execution_count": 45,
     "metadata": {},
     "output_type": "execute_result"
    }
   ],
   "source": [
    "trigger_col = df.values[:, -2]\n",
    "trigger_times = []\n",
    "event_id = {}\n",
    "event_list = []\n",
    "\n",
    "for i in range(len(trigger_col)):\n",
    "    if trigger_col[i]!=0:\n",
    "        trigger_times.append(i+2)\n",
    "        event_id[trigger_col[i]] = trigger_col[i]\n",
    "        event_list.append(trigger_col[i])\n",
    "\n",
    "print(event_list, \"EEEE\")\n",
    "print(trigger_times, \"DDDDD\")\n",
    "\n",
    "# Create an events array (trigger value, previous, sample number)\n",
    "events = np.column_stack((trigger_times, np.zeros_like(trigger_times), event_list))\n",
    "\n",
    "# Plot the EEG data \n",
    "raw.plot(n_channels=32, events=events, event_id=event_id, event_color={1:'r', 2:'g', 3:'b'}, scalings={'eeg': 1e5})"
   ]
  },
  {
   "cell_type": "markdown",
   "metadata": {},
   "source": [
    "5.2 Defining Epochs"
   ]
  },
  {
   "cell_type": "code",
   "execution_count": null,
   "metadata": {},
   "outputs": [],
   "source": []
  },
  {
   "cell_type": "code",
   "execution_count": null,
   "metadata": {},
   "outputs": [],
   "source": [
    "events_from_annot, event_dict = mne.events_from_annotations(raw)# Get events and event_id from an Annotations object.\n",
    "print(\"###########\", events_from_annot, event_dict)\n",
    "event_dict = {'go_stimulus':74, 'nogo_stimulus':75, '76':76}                        # Event dictionaries to extract epochs from continuous data, \n",
    "reject_criteria = dict(eeg=100e-6)                              # Absolute Amplitude of each epoch sould be smaller than 100 μV\n",
    "#                                                                 # tmin is start time before event, tmax is end time after event\n",
    "#                                                                 # - 100 ms (baseline) of cue's onset to 600 ms\n",
    "epochs = mne.Epochs(raw, events_from_annot, event_id=event_dict, tmin=-0.1, tmax=1.6,\n",
    "                    reject=reject_criteria, baseline = (None,0), preload=True, picks=['eeg'])"
   ]
  },
  {
   "cell_type": "code",
   "execution_count": null,
   "metadata": {},
   "outputs": [],
   "source": [
    "ica = mne.preprocessing.ICA(n_components=50, random_state=97, method='fastica')\n",
    "ica.fit(epochs)                                      # Data decomposition with 50 components and fastica method."
   ]
  },
  {
   "cell_type": "code",
   "execution_count": null,
   "metadata": {},
   "outputs": [],
   "source": [
    "%matplotlib inline\n",
    "# %matplotlib qt\n",
    "ica.plot_components()  # Plot all decomposed components"
   ]
  },
  {
   "cell_type": "code",
   "execution_count": null,
   "metadata": {},
   "outputs": [],
   "source": [
    "ica.exclude = [11, 26, 29, 30, 33, 34, 35, 36, 38, 44, 48, 49, 0, 6, 17] \n",
    "                                        # Put all comonent which you want to remove containg inspected (manual) \n",
    "                                        # [11, 26, 29, 30, 33, 34, 35, 36, 38, 44, 48, 49], EOG [0] and ECG [6,17] components\n",
    "                                        # Selected components are not real\n",
    "ica.apply(epochs)                       # Channels can be reconstructed using the ICA object’s apply()"
   ]
  }
 ],
 "metadata": {
  "kernelspec": {
   "display_name": "eeg",
   "language": "python",
   "name": "python3"
  },
  "language_info": {
   "codemirror_mode": {
    "name": "ipython",
    "version": 3
   },
   "file_extension": ".py",
   "mimetype": "text/x-python",
   "name": "python",
   "nbconvert_exporter": "python",
   "pygments_lexer": "ipython3",
   "version": "3.11.4"
  }
 },
 "nbformat": 4,
 "nbformat_minor": 2
}
