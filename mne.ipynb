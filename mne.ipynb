{
 "cells": [
  {
   "cell_type": "code",
   "execution_count": 24,
   "metadata": {},
   "outputs": [],
   "source": [
    "# RQA -- in between - raw quality assessment (amplitude * power frequency ratio * alpha band psd ratio)\n",
    "# Extract file ---> collective data ---> Bad channel removal ----- Not needed [sampling rate correction (500Hz)] -----\n",
    "# filtering (butterworth bandpass - tune coefficient)  ----- rereferencing ----- epoching ----- ERP ----- baseline removal ---- "
   ]
  },
  {
   "cell_type": "code",
   "execution_count": 25,
   "metadata": {},
   "outputs": [],
   "source": [
    "import numpy as np\n",
    "import pandas as pd\n",
    "import matplotlib.pyplot as plt\n",
    "from scipy import fftpack,  signal\n",
    "import time\n",
    "import mne\n",
    "import matplotlib\n",
    "from collections import UserDict\n"
   ]
  },
  {
   "cell_type": "markdown",
   "metadata": {},
   "source": [
    "## Reading the eeg data"
   ]
  },
  {
   "cell_type": "code",
   "execution_count": 26,
   "metadata": {},
   "outputs": [],
   "source": [
    "channel_str='Channel 1:P8\\\n",
    "\tChannel 2:T8\\\n",
    "\tChannel 3:CP6\\\n",
    "\tChannel 4:FC6\\\n",
    "\tChannel 5:F8\\\n",
    "\tChannel 6:F4\\\n",
    "\tChannel 7:C4\\\n",
    "\tChannel 8:P4\\\n",
    "\tChannel 9:AF4\\\n",
    "\tChannel 10:Fp2\\\n",
    "\tChannel 11:Fp1\\\n",
    "\tChannel 12:AF3\\\n",
    "\tChannel 13:Fz\\\n",
    "\tChannel 14:FC2\\\n",
    "\tChannel 15:Cz\\\n",
    "\tChannel 16:CP2\\\n",
    "\tChannel 17:PO3\\\n",
    "\tChannel 18:O1\\\n",
    "\tChannel 19:Oz\\\n",
    "\tChannel 20:O2\\\n",
    "\tChannel 21:PO4\\\n",
    "\tChannel 22:Pz\\\n",
    "\tChannel 23:CP1\\\n",
    "\tChannel 24:FC1\\\n",
    "\tChannel 25:P3\\\n",
    "\tChannel 26:C3\\\n",
    "\tChannel 27:F3\\\n",
    "\tChannel 28:F7\\\n",
    "\tChannel 29:FC5\\\n",
    "\tChannel 30:CP5\\\n",
    "\tChannel 31:T7\\\n",
    "\tChannel 32:P7'\n",
    "\n",
    "string_channels = channel_str.replace('\\t', ':').split(':')\n",
    "channel_names = [string_channels[i] for i in range(len(string_channels)) if i % 2 != 0]\n",
    "channel_names.append('ax')\n",
    "channel_names.append('ay')\n",
    "channel_names.append('az')\n",
    "channel_names.append('trigger')\n",
    "channel_names.append('timestamp(ms)')"
   ]
  },
  {
   "cell_type": "code",
   "execution_count": 27,
   "metadata": {},
   "outputs": [
    {
     "data": {
      "text/html": [
       "<div>\n",
       "<style scoped>\n",
       "    .dataframe tbody tr th:only-of-type {\n",
       "        vertical-align: middle;\n",
       "    }\n",
       "\n",
       "    .dataframe tbody tr th {\n",
       "        vertical-align: top;\n",
       "    }\n",
       "\n",
       "    .dataframe thead th {\n",
       "        text-align: right;\n",
       "    }\n",
       "</style>\n",
       "<table border=\"1\" class=\"dataframe\">\n",
       "  <thead>\n",
       "    <tr style=\"text-align: right;\">\n",
       "      <th></th>\n",
       "      <th>P8</th>\n",
       "      <th>T8</th>\n",
       "      <th>CP6</th>\n",
       "      <th>FC6</th>\n",
       "      <th>F8</th>\n",
       "      <th>F4</th>\n",
       "      <th>C4</th>\n",
       "      <th>P4</th>\n",
       "      <th>AF4</th>\n",
       "      <th>Fp2</th>\n",
       "      <th>...</th>\n",
       "      <th>F7</th>\n",
       "      <th>FC5</th>\n",
       "      <th>CP5</th>\n",
       "      <th>T7</th>\n",
       "      <th>P7</th>\n",
       "      <th>ax</th>\n",
       "      <th>ay</th>\n",
       "      <th>az</th>\n",
       "      <th>trigger</th>\n",
       "      <th>timestamp(ms)</th>\n",
       "    </tr>\n",
       "  </thead>\n",
       "  <tbody>\n",
       "    <tr>\n",
       "      <th>0</th>\n",
       "      <td>31399486</td>\n",
       "      <td>41813101</td>\n",
       "      <td>37317782</td>\n",
       "      <td>43707527</td>\n",
       "      <td>3615337</td>\n",
       "      <td>26556925</td>\n",
       "      <td>36763121</td>\n",
       "      <td>21657737</td>\n",
       "      <td>9144579</td>\n",
       "      <td>20491800</td>\n",
       "      <td>...</td>\n",
       "      <td>20403151</td>\n",
       "      <td>24447225</td>\n",
       "      <td>23063074</td>\n",
       "      <td>20909999</td>\n",
       "      <td>38154017</td>\n",
       "      <td>-490</td>\n",
       "      <td>-9865</td>\n",
       "      <td>-68</td>\n",
       "      <td>0</td>\n",
       "      <td>1689692114103</td>\n",
       "    </tr>\n",
       "    <tr>\n",
       "      <th>1</th>\n",
       "      <td>31407662</td>\n",
       "      <td>41821620</td>\n",
       "      <td>37328919</td>\n",
       "      <td>43716121</td>\n",
       "      <td>3626461</td>\n",
       "      <td>26563954</td>\n",
       "      <td>36772044</td>\n",
       "      <td>21666019</td>\n",
       "      <td>9151566</td>\n",
       "      <td>20499466</td>\n",
       "      <td>...</td>\n",
       "      <td>20413408</td>\n",
       "      <td>24458780</td>\n",
       "      <td>23074804</td>\n",
       "      <td>20922896</td>\n",
       "      <td>38166180</td>\n",
       "      <td>-107</td>\n",
       "      <td>-9747</td>\n",
       "      <td>225</td>\n",
       "      <td>0</td>\n",
       "      <td>1689692114105</td>\n",
       "    </tr>\n",
       "    <tr>\n",
       "      <th>2</th>\n",
       "      <td>31414594</td>\n",
       "      <td>41827732</td>\n",
       "      <td>37333736</td>\n",
       "      <td>43719642</td>\n",
       "      <td>3632327</td>\n",
       "      <td>26566235</td>\n",
       "      <td>36775766</td>\n",
       "      <td>21669698</td>\n",
       "      <td>9148165</td>\n",
       "      <td>20499951</td>\n",
       "      <td>...</td>\n",
       "      <td>20418334</td>\n",
       "      <td>24465610</td>\n",
       "      <td>23081071</td>\n",
       "      <td>20930846</td>\n",
       "      <td>38175052</td>\n",
       "      <td>-304</td>\n",
       "      <td>-9865</td>\n",
       "      <td>-29</td>\n",
       "      <td>0</td>\n",
       "      <td>1689692114107</td>\n",
       "    </tr>\n",
       "    <tr>\n",
       "      <th>3</th>\n",
       "      <td>31417887</td>\n",
       "      <td>41829310</td>\n",
       "      <td>37334285</td>\n",
       "      <td>43720062</td>\n",
       "      <td>3633515</td>\n",
       "      <td>26566595</td>\n",
       "      <td>36776069</td>\n",
       "      <td>21672006</td>\n",
       "      <td>9144064</td>\n",
       "      <td>20498742</td>\n",
       "      <td>...</td>\n",
       "      <td>20418375</td>\n",
       "      <td>24465020</td>\n",
       "      <td>23084448</td>\n",
       "      <td>20931321</td>\n",
       "      <td>38178422</td>\n",
       "      <td>-264</td>\n",
       "      <td>-9904</td>\n",
       "      <td>68</td>\n",
       "      <td>0</td>\n",
       "      <td>1689692114109</td>\n",
       "    </tr>\n",
       "    <tr>\n",
       "      <th>4</th>\n",
       "      <td>31422884</td>\n",
       "      <td>41828356</td>\n",
       "      <td>37333614</td>\n",
       "      <td>43717552</td>\n",
       "      <td>3630525</td>\n",
       "      <td>26564635</td>\n",
       "      <td>36775617</td>\n",
       "      <td>21674890</td>\n",
       "      <td>9146353</td>\n",
       "      <td>20502239</td>\n",
       "      <td>...</td>\n",
       "      <td>20418384</td>\n",
       "      <td>24464380</td>\n",
       "      <td>23088964</td>\n",
       "      <td>20932807</td>\n",
       "      <td>38181743</td>\n",
       "      <td>-411</td>\n",
       "      <td>-9708</td>\n",
       "      <td>-68</td>\n",
       "      <td>0</td>\n",
       "      <td>1689692114111</td>\n",
       "    </tr>\n",
       "  </tbody>\n",
       "</table>\n",
       "<p>5 rows × 37 columns</p>\n",
       "</div>"
      ],
      "text/plain": [
       "         P8        T8       CP6       FC6       F8        F4        C4  \\\n",
       "0  31399486  41813101  37317782  43707527  3615337  26556925  36763121   \n",
       "1  31407662  41821620  37328919  43716121  3626461  26563954  36772044   \n",
       "2  31414594  41827732  37333736  43719642  3632327  26566235  36775766   \n",
       "3  31417887  41829310  37334285  43720062  3633515  26566595  36776069   \n",
       "4  31422884  41828356  37333614  43717552  3630525  26564635  36775617   \n",
       "\n",
       "         P4      AF4       Fp2  ...        F7       FC5       CP5        T7  \\\n",
       "0  21657737  9144579  20491800  ...  20403151  24447225  23063074  20909999   \n",
       "1  21666019  9151566  20499466  ...  20413408  24458780  23074804  20922896   \n",
       "2  21669698  9148165  20499951  ...  20418334  24465610  23081071  20930846   \n",
       "3  21672006  9144064  20498742  ...  20418375  24465020  23084448  20931321   \n",
       "4  21674890  9146353  20502239  ...  20418384  24464380  23088964  20932807   \n",
       "\n",
       "         P7   ax    ay   az  trigger  timestamp(ms)  \n",
       "0  38154017 -490 -9865  -68        0  1689692114103  \n",
       "1  38166180 -107 -9747  225        0  1689692114105  \n",
       "2  38175052 -304 -9865  -29        0  1689692114107  \n",
       "3  38178422 -264 -9904   68        0  1689692114109  \n",
       "4  38181743 -411 -9708  -68        0  1689692114111  \n",
       "\n",
       "[5 rows x 37 columns]"
      ]
     },
     "execution_count": 27,
     "metadata": {},
     "output_type": "execute_result"
    }
   ],
   "source": [
    "import pandas as pd\n",
    "\n",
    "folder_path = 'E:/IITD/Depression-IITD/Depression-Sample-dataset-AIIMS/'\n",
    "sham_or_active = 'Active/' # Active\n",
    "patient = 'Preeti singh/'\n",
    "pre_post_intervention = 'pre/'\n",
    "directory = folder_path + sham_or_active + patient + pre_post_intervention\n",
    "file_path = directory + '20230718202514_Preeti singh_22.08.23-01_GNG.easy'\n",
    "\n",
    "df = pd.read_csv(file_path, sep='\\t')\n",
    "df.columns=channel_names\n",
    "df.head()"
   ]
  },
  {
   "cell_type": "markdown",
   "metadata": {},
   "source": [
    "## MNE Analysis"
   ]
  },
  {
   "cell_type": "code",
   "execution_count": 28,
   "metadata": {},
   "outputs": [
    {
     "name": "stdout",
     "output_type": "stream",
     "text": [
      "Creating RawArray with float64 data, n_channels=32, n_times=149999\n",
      "    Range : 0 ... 149998 =      0.000 ...   299.996 secs\n",
      "Ready.\n"
     ]
    }
   ],
   "source": [
    "transposed_data=df.T\n",
    "\n",
    "# Create a MNE-Python info object and specifying sampling rate of data\n",
    "ch_names = df.columns.tolist()[:-5]\n",
    "ch_types = ['eeg' for i in range(32)]\n",
    "info = mne.create_info(ch_names=ch_names,ch_types=ch_types, sfreq=500)\n",
    "\n",
    "# Create a Raw object from the DataFrame\n",
    "raw = mne.io.RawArray(transposed_data.values[:-5,:], info)"
   ]
  },
  {
   "cell_type": "code",
   "execution_count": 29,
   "metadata": {},
   "outputs": [
    {
     "name": "stdout",
     "output_type": "stream",
     "text": [
      "num of channels: 32\n",
      "Shape of the data: (32, 149999)\n"
     ]
    }
   ],
   "source": [
    "# Printing information about the number of channels and the shape of the data\n",
    "print(f\"num of channels: {raw.info.get('nchan')}\")\n",
    "print(f'Shape of the data: {raw.get_data().shape}')"
   ]
  },
  {
   "cell_type": "markdown",
   "metadata": {},
   "source": [
    "### 1. Time amplitude plot"
   ]
  },
  {
   "cell_type": "code",
   "execution_count": 30,
   "metadata": {},
   "outputs": [],
   "source": [
    "def time_amplitude(title):\n",
    "    # To plot raw eeg plot\n",
    "    plt.switch_backend('TkAgg')\n",
    "\n",
    "    # Bandpass butterworth filter added\n",
    "    # Cutoffs at 0.01, 45.00 Hz: -6.02, -6.02 dB\n",
    "    # Applied only in currently plot\n",
    "    fig = raw.plot(n_channels=32, \n",
    "    lowpass=45, \n",
    "    highpass=0.01,\n",
    "    scalings={'eeg': 1e5} \n",
    "    )\n",
    "\n",
    "    # plt.title(f'{title} - Time-Amplitude - Channel {map[i+1]}')\n",
    "    fig.savefig(f'MNE-graphs/time-amplitude/{title}-EEG.png')\n",
    "\n",
    "    # In interactive plot, mark bad channels and they will be assigned to 'bads'\n",
    "    print(raw.info)"
   ]
  },
  {
   "cell_type": "markdown",
   "metadata": {},
   "source": [
    "### 2. Power spectral density plot"
   ]
  },
  {
   "cell_type": "code",
   "execution_count": 31,
   "metadata": {},
   "outputs": [],
   "source": [
    "def psd(title):\n",
    "    # To plot power spectral density plot\n",
    "    fig = raw.compute_psd(fmax=150,picks=np.array(channel_names[:-5])).plot(picks=np.array(channel_names[:-5]), exclude=\"bads\")\n",
    "    fig.savefig(f'MNE-graphs/psd-frequency/{title}.png')"
   ]
  },
  {
   "cell_type": "code",
   "execution_count": 32,
   "metadata": {},
   "outputs": [
    {
     "name": "stdout",
     "output_type": "stream",
     "text": [
      "Setting up band-pass filter from 0.01 - 45 Hz\n",
      "\n",
      "IIR filter parameters\n",
      "---------------------\n",
      "Butterworth bandpass zero-phase (two-pass forward and reverse) non-causal filter:\n",
      "- Filter order 16 (effective, after forward-backward)\n",
      "- Cutoffs at 0.01, 45.00 Hz: -6.02, -6.02 dB\n",
      "\n",
      "<Info | 7 non-empty values\n",
      " bads: []\n",
      " ch_names: P8, T8, CP6, FC6, F8, F4, C4, P4, AF4, Fp2, Fp1, AF3, Fz, FC2, ...\n",
      " chs: 32 EEG\n",
      " custom_ref_applied: False\n",
      " highpass: 0.0 Hz\n",
      " lowpass: 250.0 Hz\n",
      " meas_date: unspecified\n",
      " nchan: 32\n",
      " projs: []\n",
      " sfreq: 500.0 Hz\n",
      ">\n",
      "Effective window size : 4.096 (s)\n"
     ]
    },
    {
     "name": "stderr",
     "output_type": "stream",
     "text": [
      "C:\\Users\\vishw\\AppData\\Local\\Temp\\ipykernel_29004\\2242135612.py:3: RuntimeWarning: Channel locations not available. Disabling spatial colors.\n",
      "  fig = raw.compute_psd(fmax=150,picks=np.array(channel_names[:-5])).plot(picks=np.array(channel_names[:-5]), exclude=\"bads\")\n"
     ]
    }
   ],
   "source": [
    "# Can plot graph before preprocessing\n",
    "title = \"0--Raw graph with line filter\"\n",
    "time_amplitude(title)\n",
    "psd(title)"
   ]
  },
  {
   "cell_type": "markdown",
   "metadata": {},
   "source": [
    "### Preprocessing"
   ]
  },
  {
   "cell_type": "markdown",
   "metadata": {},
   "source": [
    "1. Bad channels removal\n",
    "\n",
    "Interpolation required to estimate missing or bad channel values."
   ]
  },
  {
   "cell_type": "code",
   "execution_count": 33,
   "metadata": {},
   "outputs": [
    {
     "name": "stderr",
     "output_type": "stream",
     "text": [
      "C:\\Users\\vishw\\AppData\\Local\\Temp\\ipykernel_29004\\2423377182.py:3: RuntimeWarning: No bad channels to interpolate. Doing nothing...\n",
      "  raw = raw.interpolate_bads(reset_bads=False)\n"
     ]
    }
   ],
   "source": [
    "# raw.info['bads'] = # can set manually through interactive plot\n",
    "# TODO: Code to automatically mark channels bad\n",
    "raw = raw.interpolate_bads(reset_bads=False)\n",
    "# title = \"1--Bad channels removed\"\n",
    "# time_amplitude(title)\n",
    "# psd(title)"
   ]
  },
  {
   "cell_type": "markdown",
   "metadata": {},
   "source": [
    "2. Band pass filtering"
   ]
  },
  {
   "cell_type": "code",
   "execution_count": 34,
   "metadata": {},
   "outputs": [
    {
     "name": "stdout",
     "output_type": "stream",
     "text": [
      "Filtering raw data in 1 contiguous segment\n",
      "Setting up band-pass filter from 0.01 - 45 Hz\n",
      "\n",
      "FIR filter parameters\n",
      "---------------------\n",
      "Designing a one-pass, zero-phase, non-causal bandpass filter:\n",
      "- Windowed time-domain design (firwin) method\n",
      "- Hamming window with 0.0194 passband ripple and 53 dB stopband attenuation\n",
      "- Lower passband edge: 0.01\n",
      "- Lower transition bandwidth: 0.01 Hz (-6 dB cutoff frequency: 0.01 Hz)\n",
      "- Upper passband edge: 45.00 Hz\n",
      "- Upper transition bandwidth: 11.25 Hz (-6 dB cutoff frequency: 50.62 Hz)\n",
      "- Filter length: 165001 samples (330.002 s)\n",
      "\n"
     ]
    },
    {
     "name": "stderr",
     "output_type": "stream",
     "text": [
      "C:\\Users\\vishw\\AppData\\Local\\Temp\\ipykernel_29004\\2505533690.py:2: RuntimeWarning: filter_length (165001) is longer than the signal (149999), distortion is likely. Reduce filter length or filter a longer signal.\n",
      "  raw.filter(0.01, 45, fir_design='firwin', picks=['eeg'])\n",
      "[Parallel(n_jobs=1)]: Done  17 tasks      | elapsed:    0.5s\n"
     ]
    },
    {
     "name": "stdout",
     "output_type": "stream",
     "text": [
      "Effective window size : 4.096 (s)\n"
     ]
    },
    {
     "name": "stderr",
     "output_type": "stream",
     "text": [
      "C:\\Users\\vishw\\AppData\\Local\\Temp\\ipykernel_29004\\2242135612.py:3: RuntimeWarning: Channel locations not available. Disabling spatial colors.\n",
      "  fig = raw.compute_psd(fmax=150,picks=np.array(channel_names[:-5])).plot(picks=np.array(channel_names[:-5]), exclude=\"bads\")\n"
     ]
    }
   ],
   "source": [
    "# applied band pass filter of 0.01-45 Hz for depression detection \n",
    "raw.filter(0.01, 45, fir_design='firwin', picks=['eeg'])\n",
    "title = \"2--Band pass filtered graph\"\n",
    "# time_amplitude(title)\n",
    "psd(title)"
   ]
  },
  {
   "cell_type": "markdown",
   "metadata": {},
   "source": [
    "3. Rereferencing\n",
    "\n",
    "Calculates the mean voltage from all electrodes at each time point and subtracts this mean from the voltage at each individual electrode."
   ]
  },
  {
   "cell_type": "code",
   "execution_count": 35,
   "metadata": {},
   "outputs": [
    {
     "name": "stdout",
     "output_type": "stream",
     "text": [
      "EEG channel type selected for re-referencing\n",
      "Adding average EEG reference projection.\n",
      "1 projection items deactivated\n",
      "Average reference projection was added, but has not been applied yet. Use the apply_proj method to apply it.\n",
      "Created an SSP operator (subspace dimension = 1)\n",
      "1 projection items activated\n",
      "SSP projectors applied...\n",
      "Setting up band-pass filter from 0.01 - 45 Hz\n",
      "\n",
      "IIR filter parameters\n",
      "---------------------\n",
      "Butterworth bandpass zero-phase (two-pass forward and reverse) non-causal filter:\n",
      "- Filter order 16 (effective, after forward-backward)\n",
      "- Cutoffs at 0.01, 45.00 Hz: -6.02, -6.02 dB\n",
      "\n",
      "<Info | 8 non-empty values\n",
      " bads: []\n",
      " ch_names: P8, T8, CP6, FC6, F8, F4, C4, P4, AF4, Fp2, Fp1, AF3, Fz, FC2, ...\n",
      " chs: 32 EEG\n",
      " custom_ref_applied: False\n",
      " highpass: 0.0 Hz\n",
      " lowpass: 45.0 Hz\n",
      " meas_date: unspecified\n",
      " nchan: 32\n",
      " projs: Average EEG reference: on\n",
      " sfreq: 500.0 Hz\n",
      ">\n",
      "Effective window size : 4.096 (s)\n"
     ]
    },
    {
     "name": "stderr",
     "output_type": "stream",
     "text": [
      "C:\\Users\\vishw\\AppData\\Local\\Temp\\ipykernel_29004\\2242135612.py:3: RuntimeWarning: Channel locations not available. Disabling spatial colors.\n",
      "  fig = raw.compute_psd(fmax=150,picks=np.array(channel_names[:-5])).plot(picks=np.array(channel_names[:-5]), exclude=\"bads\")\n"
     ]
    }
   ],
   "source": [
    "raw.set_eeg_reference('average', projection=True).apply_proj() \n",
    "title = \"3---Rereferenced\"\n",
    "time_amplitude(title)\n",
    "psd(title)"
   ]
  },
  {
   "cell_type": "markdown",
   "metadata": {},
   "source": [
    "4. Deleting annotations - Not for first iteration\n"
   ]
  },
  {
   "cell_type": "code",
   "execution_count": 36,
   "metadata": {},
   "outputs": [],
   "source": [
    "visual_inspection = pd.read_csv(directory + \"Preeti singh_GoNogo_Test_2023_Jul_18_2026.csv\")\n",
    "events_from_annot, event_dict = mne.events_from_annotations(raw)\n",
    "\n",
    "for i in range(visual_inspection.shape[0]):         \n",
    "    result = np.where((mne.events_from_annotations(raw)[0][:,0] > visual_inspection['Response.started'][i]*500) & \n",
    "                      (mne.events_from_annotations(raw)[0][:,0] < visual_inspection['Response.stopped'][i]*500))\n",
    "    raw.annotations.delete(result)"
   ]
  },
  {
   "cell_type": "markdown",
   "metadata": {},
   "source": [
    "#### 5. Epoching"
   ]
  },
  {
   "cell_type": "markdown",
   "metadata": {},
   "source": [
    "5.1 Adding trigger channel"
   ]
  },
  {
   "cell_type": "code",
   "execution_count": 37,
   "metadata": {},
   "outputs": [],
   "source": [
    "# events_from_annot, event_dict = mne.events_from_annotations(raw)# Get events and event_id from an Annotations object.\n",
    "trigger_col = df.values[:, -2]\n",
    "trigger_times = []\n",
    "event_id = {}\n",
    "event_list = []\n",
    "\n",
    "for i in range(len(trigger_col)):\n",
    "    if trigger_col[i]!=0:\n",
    "        trigger_times.append(i+2)\n",
    "        event_id[trigger_col[i]] = trigger_col[i]\n",
    "        event_list.append(trigger_col[i])\n",
    "\n",
    "# Create an events array (trigger value, previous, sample number)\n",
    "events = np.column_stack((trigger_times, np.zeros_like(trigger_times), event_list))\n",
    "\n",
    "fig = raw.plot(n_channels=32, events=events, event_id=event_id, event_color={1:'r', 2:'g', 3:'b'}, scalings={'eeg': 1e5})\n",
    "fig.savefig(f'MNE-graphs/time-amplitude/4---Trigger channels added.png')"
   ]
  },
  {
   "cell_type": "markdown",
   "metadata": {},
   "source": [
    "5.2 Defining and segmenting Epochs"
   ]
  },
  {
   "cell_type": "code",
   "execution_count": 57,
   "metadata": {},
   "outputs": [
    {
     "name": "stdout",
     "output_type": "stream",
     "text": [
      "Not setting metadata\n",
      "146 matching events found\n",
      "Applying baseline correction (mode: mean)\n",
      "Created an SSP operator (subspace dimension = 1)\n",
      "1 projection items activated\n",
      "Using data from preloaded Raw for 146 events and 31 original time points ...\n",
      "0 bad epochs dropped\n",
      "You seem to have overlapping epochs. Some event lines may be duplicated in the plot.\n",
      "<Epochs |  146 events (all good), -0.01 – 0.05 s, baseline -0.01 – 0 s, ~1.1 MB, data loaded,\n",
      " '1': 99\n",
      " '2': 24\n",
      " '3': 23>\n"
     ]
    },
    {
     "name": "stdout",
     "output_type": "stream",
     "text": [
      "Dropped 0 epochs: \n",
      "The following epochs were marked as bad and are dropped:\n",
      "[]\n",
      "Channels marked as bad:\n",
      "['T8']\n"
     ]
    }
   ],
   "source": [
    "# Applying baseline correction (mode: mean) - baseline=(tmin, 0)\n",
    "# Created an SSP operator (subspace dimension = 1)\n",
    "tmin = -0.01\n",
    "tmax = 0.05\n",
    "\n",
    "# reject_criteria = dict(eeg=100e-6) # Absolute Amplitude of each epoch sould be smaller than 100 μV\n",
    "# Add reject_criteria=reject_criteria in mne.Epochs\n",
    "epochs = mne.Epochs(raw, events=events, event_id=None, tmin=tmin, tmax=tmax, baseline=(tmin, 0), detrend=1, preload=True,picks=['eeg'])\n",
    "fig = epochs.plot(n_channels=32, scalings={'eeg': 1e5}, event_color={1:'r', 2:'g', 3:'b'}, events=events)\n",
    "fig.savefig(f'MNE-graphs/time-amplitude/5---Epochs added.png')\n",
    "\n",
    "print(epochs)"
   ]
  },
  {
   "cell_type": "markdown",
   "metadata": {},
   "source": [
    "6. Artifact Rejection (EOG/ECG) using ICA"
   ]
  },
  {
   "cell_type": "code",
   "execution_count": 61,
   "metadata": {},
   "outputs": [
    {
     "name": "stdout",
     "output_type": "stream",
     "text": [
      "Fitting ICA to data using 31 channels (please be patient, this may take a while)\n",
      "    Applying projection operator with 1 vector (pre-whitener computation)\n",
      "    Applying projection operator with 1 vector (pre-whitener application)\n",
      "Selecting by number: 31 components\n"
     ]
    },
    {
     "name": "stderr",
     "output_type": "stream",
     "text": [
      "C:\\Users\\vishw\\AppData\\Local\\Temp\\ipykernel_29004\\2436572980.py:3: RuntimeWarning: The epochs you passed to ICA.fit() were baseline-corrected. However, we suggest to fit ICA only on data that has been high-pass filtered, but NOT baseline-corrected.\n",
      "  ica.fit(epochs)\n"
     ]
    },
    {
     "name": "stdout",
     "output_type": "stream",
     "text": [
      "    Applying projection operator with 1 vector (pre-whitener application)\n",
      "Fitting ICA took 0.3s.\n"
     ]
    },
    {
     "name": "stderr",
     "output_type": "stream",
     "text": [
      "C:\\Users\\vishw\\AppData\\Local\\Temp\\ipykernel_29004\\2436572980.py:3: RuntimeWarning: Using n_components=31 (resulting in n_components_=31) may lead to an unstable mixing matrix estimation because the ratio between the largest (14) and smallest (1.3e-31) variances is too large (> 1e6); consider setting n_components=0.999999 or an integer <= 30\n",
      "  ica.fit(epochs)\n"
     ]
    },
    {
     "ename": "ModuleNotFoundError",
     "evalue": "No module named 'UserDict'",
     "output_type": "error",
     "traceback": [
      "\u001b[1;31m---------------------------------------------------------------------------\u001b[0m",
      "\u001b[1;31mImportError\u001b[0m                               Traceback (most recent call last)",
      "File \u001b[1;32mc:\\Users\\vishw\\AppData\\Local\\Programs\\Python\\Python311\\Lib\\site-packages\\jinja2\\_compat.py:113\u001b[0m\n\u001b[0;32m    112\u001b[0m \u001b[39mtry\u001b[39;00m:\n\u001b[1;32m--> 113\u001b[0m     \u001b[39mfrom\u001b[39;00m \u001b[39mcollections\u001b[39;00m \u001b[39mimport\u001b[39;00m Mapping \u001b[39mas\u001b[39;00m mapping_types\n\u001b[0;32m    114\u001b[0m \u001b[39mexcept\u001b[39;00m \u001b[39mImportError\u001b[39;00m:\n",
      "\u001b[1;31mImportError\u001b[0m: cannot import name 'Mapping' from 'collections' (c:\\Users\\vishw\\AppData\\Local\\Programs\\Python\\Python311\\Lib\\collections\\__init__.py)",
      "\nDuring handling of the above exception, another exception occurred:\n",
      "\u001b[1;31mModuleNotFoundError\u001b[0m                       Traceback (most recent call last)",
      "File \u001b[1;32mc:\\Users\\vishw\\AppData\\Local\\Programs\\Python\\Python311\\Lib\\site-packages\\IPython\\core\\formatters.py:344\u001b[0m, in \u001b[0;36mBaseFormatter.__call__\u001b[1;34m(self, obj)\u001b[0m\n\u001b[0;32m    342\u001b[0m     method \u001b[39m=\u001b[39m get_real_method(obj, \u001b[39mself\u001b[39m\u001b[39m.\u001b[39mprint_method)\n\u001b[0;32m    343\u001b[0m     \u001b[39mif\u001b[39;00m method \u001b[39mis\u001b[39;00m \u001b[39mnot\u001b[39;00m \u001b[39mNone\u001b[39;00m:\n\u001b[1;32m--> 344\u001b[0m         \u001b[39mreturn\u001b[39;00m method()\n\u001b[0;32m    345\u001b[0m     \u001b[39mreturn\u001b[39;00m \u001b[39mNone\u001b[39;00m\n\u001b[0;32m    346\u001b[0m \u001b[39melse\u001b[39;00m:\n",
      "File \u001b[1;32mc:\\Users\\vishw\\AppData\\Local\\Programs\\Python\\Python311\\Lib\\site-packages\\mne\\utils\\misc.py:475\u001b[0m, in \u001b[0;36mrepr_html.<locals>.wrapper\u001b[1;34m(*args, **kwargs)\u001b[0m\n\u001b[0;32m    473\u001b[0m     \u001b[39mreturn\u001b[39;00m r\u001b[39m.\u001b[39mreplace(\u001b[39m\"\u001b[39m\u001b[39m\\n\u001b[39;00m\u001b[39m\"\u001b[39m, \u001b[39m\"\u001b[39m\u001b[39m<br/>\u001b[39m\u001b[39m\"\u001b[39m)\n\u001b[0;32m    474\u001b[0m \u001b[39melse\u001b[39;00m:\n\u001b[1;32m--> 475\u001b[0m     \u001b[39mreturn\u001b[39;00m f(\u001b[39m*\u001b[39;49margs, \u001b[39m*\u001b[39;49m\u001b[39m*\u001b[39;49mkwargs)\n",
      "File \u001b[1;32mc:\\Users\\vishw\\AppData\\Local\\Programs\\Python\\Python311\\Lib\\site-packages\\mne\\preprocessing\\ica.py:578\u001b[0m, in \u001b[0;36mICA._repr_html_\u001b[1;34m(self)\u001b[0m\n\u001b[0;32m    576\u001b[0m \u001b[39m@repr_html\u001b[39m\n\u001b[0;32m    577\u001b[0m \u001b[39mdef\u001b[39;00m \u001b[39m_repr_html_\u001b[39m(\u001b[39mself\u001b[39m):\n\u001b[1;32m--> 578\u001b[0m     \u001b[39mfrom\u001b[39;00m \u001b[39m.\u001b[39;00m\u001b[39m.\u001b[39;00m\u001b[39mhtml_templates\u001b[39;00m \u001b[39mimport\u001b[39;00m repr_templates_env\n\u001b[0;32m    580\u001b[0m     infos \u001b[39m=\u001b[39m \u001b[39mself\u001b[39m\u001b[39m.\u001b[39m_get_infos_for_repr()\n\u001b[0;32m    581\u001b[0m     t \u001b[39m=\u001b[39m repr_templates_env\u001b[39m.\u001b[39mget_template(\u001b[39m\"\u001b[39m\u001b[39mica.html.jinja\u001b[39m\u001b[39m\"\u001b[39m)\n",
      "File \u001b[1;32mc:\\Users\\vishw\\AppData\\Local\\Programs\\Python\\Python311\\Lib\\site-packages\\mne\\html_templates\\__init__.py:3\u001b[0m\n\u001b[0;32m      1\u001b[0m \u001b[39m\"\"\"Jinja2 HTML templates.\"\"\"\u001b[39;00m\n\u001b[1;32m----> 3\u001b[0m \u001b[39mfrom\u001b[39;00m \u001b[39m.\u001b[39;00m\u001b[39m_templates\u001b[39;00m \u001b[39mimport\u001b[39;00m repr_templates_env, report_templates_env\n",
      "File \u001b[1;32mc:\\Users\\vishw\\AppData\\Local\\Programs\\Python\\Python311\\Lib\\site-packages\\mne\\html_templates\\_templates.py:1\u001b[0m\n\u001b[1;32m----> 1\u001b[0m \u001b[39mimport\u001b[39;00m \u001b[39mjinja2\u001b[39;00m\n\u001b[0;32m      3\u001b[0m autoescape \u001b[39m=\u001b[39m jinja2\u001b[39m.\u001b[39mselect_autoescape(default\u001b[39m=\u001b[39m\u001b[39mTrue\u001b[39;00m, default_for_string\u001b[39m=\u001b[39m\u001b[39mTrue\u001b[39;00m)\n\u001b[0;32m      5\u001b[0m \u001b[39m# For _html_repr_()\u001b[39;00m\n",
      "File \u001b[1;32mc:\\Users\\vishw\\AppData\\Local\\Programs\\Python\\Python311\\Lib\\site-packages\\jinja2\\__init__.py:33\u001b[0m\n\u001b[0;32m     30\u001b[0m __version__ \u001b[39m=\u001b[39m \u001b[39m'\u001b[39m\u001b[39m2.7.3\u001b[39m\u001b[39m'\u001b[39m\n\u001b[0;32m     32\u001b[0m \u001b[39m# high level interface\u001b[39;00m\n\u001b[1;32m---> 33\u001b[0m \u001b[39mfrom\u001b[39;00m \u001b[39mjinja2\u001b[39;00m\u001b[39m.\u001b[39;00m\u001b[39menvironment\u001b[39;00m \u001b[39mimport\u001b[39;00m Environment, Template\n\u001b[0;32m     35\u001b[0m \u001b[39m# loaders\u001b[39;00m\n\u001b[0;32m     36\u001b[0m \u001b[39mfrom\u001b[39;00m \u001b[39mjinja2\u001b[39;00m\u001b[39m.\u001b[39;00m\u001b[39mloaders\u001b[39;00m \u001b[39mimport\u001b[39;00m BaseLoader, FileSystemLoader, PackageLoader, \\\n\u001b[0;32m     37\u001b[0m      DictLoader, FunctionLoader, PrefixLoader, ChoiceLoader, \\\n\u001b[0;32m     38\u001b[0m      ModuleLoader\n",
      "File \u001b[1;32mc:\\Users\\vishw\\AppData\\Local\\Programs\\Python\\Python311\\Lib\\site-packages\\jinja2\\environment.py:13\u001b[0m\n\u001b[0;32m     11\u001b[0m \u001b[39mimport\u001b[39;00m \u001b[39mos\u001b[39;00m\n\u001b[0;32m     12\u001b[0m \u001b[39mimport\u001b[39;00m \u001b[39msys\u001b[39;00m\n\u001b[1;32m---> 13\u001b[0m \u001b[39mfrom\u001b[39;00m \u001b[39mjinja2\u001b[39;00m \u001b[39mimport\u001b[39;00m nodes\n\u001b[0;32m     14\u001b[0m \u001b[39mfrom\u001b[39;00m \u001b[39mjinja2\u001b[39;00m\u001b[39m.\u001b[39;00m\u001b[39mdefaults\u001b[39;00m \u001b[39mimport\u001b[39;00m BLOCK_START_STRING, \\\n\u001b[0;32m     15\u001b[0m      BLOCK_END_STRING, VARIABLE_START_STRING, VARIABLE_END_STRING, \\\n\u001b[0;32m     16\u001b[0m      COMMENT_START_STRING, COMMENT_END_STRING, LINE_STATEMENT_PREFIX, \\\n\u001b[0;32m     17\u001b[0m      LINE_COMMENT_PREFIX, TRIM_BLOCKS, NEWLINE_SEQUENCE, \\\n\u001b[0;32m     18\u001b[0m      DEFAULT_FILTERS, DEFAULT_TESTS, DEFAULT_NAMESPACE, \\\n\u001b[0;32m     19\u001b[0m      KEEP_TRAILING_NEWLINE, LSTRIP_BLOCKS\n\u001b[0;32m     20\u001b[0m \u001b[39mfrom\u001b[39;00m \u001b[39mjinja2\u001b[39;00m\u001b[39m.\u001b[39;00m\u001b[39mlexer\u001b[39;00m \u001b[39mimport\u001b[39;00m get_lexer, TokenStream\n",
      "File \u001b[1;32mc:\\Users\\vishw\\AppData\\Local\\Programs\\Python\\Python311\\Lib\\site-packages\\jinja2\\nodes.py:18\u001b[0m\n\u001b[0;32m     15\u001b[0m \u001b[39mimport\u001b[39;00m \u001b[39moperator\u001b[39;00m\n\u001b[0;32m     17\u001b[0m \u001b[39mfrom\u001b[39;00m \u001b[39mcollections\u001b[39;00m \u001b[39mimport\u001b[39;00m deque\n\u001b[1;32m---> 18\u001b[0m \u001b[39mfrom\u001b[39;00m \u001b[39mjinja2\u001b[39;00m\u001b[39m.\u001b[39;00m\u001b[39mutils\u001b[39;00m \u001b[39mimport\u001b[39;00m Markup\n\u001b[0;32m     19\u001b[0m \u001b[39mfrom\u001b[39;00m \u001b[39mjinja2\u001b[39;00m\u001b[39m.\u001b[39;00m\u001b[39m_compat\u001b[39;00m \u001b[39mimport\u001b[39;00m \u001b[39mnext\u001b[39m, izip, with_metaclass, text_type, \\\n\u001b[0;32m     20\u001b[0m      method_type, function_type\n\u001b[0;32m     23\u001b[0m \u001b[39m#: the types we support for context functions\u001b[39;00m\n",
      "File \u001b[1;32mc:\\Users\\vishw\\AppData\\Local\\Programs\\Python\\Python311\\Lib\\site-packages\\jinja2\\utils.py:14\u001b[0m\n\u001b[0;32m     12\u001b[0m \u001b[39mimport\u001b[39;00m \u001b[39merrno\u001b[39;00m\n\u001b[0;32m     13\u001b[0m \u001b[39mfrom\u001b[39;00m \u001b[39mcollections\u001b[39;00m \u001b[39mimport\u001b[39;00m deque\n\u001b[1;32m---> 14\u001b[0m \u001b[39mfrom\u001b[39;00m \u001b[39mjinja2\u001b[39;00m\u001b[39m.\u001b[39;00m\u001b[39m_compat\u001b[39;00m \u001b[39mimport\u001b[39;00m text_type, string_types, implements_iterator, \\\n\u001b[0;32m     15\u001b[0m      allocate_lock, url_quote\n\u001b[0;32m     18\u001b[0m _word_split_re \u001b[39m=\u001b[39m re\u001b[39m.\u001b[39mcompile(\u001b[39mr\u001b[39m\u001b[39m'\u001b[39m\u001b[39m(\u001b[39m\u001b[39m\\\u001b[39m\u001b[39ms+)\u001b[39m\u001b[39m'\u001b[39m)\n\u001b[0;32m     19\u001b[0m _punctuation_re \u001b[39m=\u001b[39m re\u001b[39m.\u001b[39mcompile(\n\u001b[0;32m     20\u001b[0m     \u001b[39m'\u001b[39m\u001b[39m^(?P<lead>(?:\u001b[39m\u001b[39m%s\u001b[39;00m\u001b[39m)*)(?P<middle>.*?)(?P<trail>(?:\u001b[39m\u001b[39m%s\u001b[39;00m\u001b[39m)*)$\u001b[39m\u001b[39m'\u001b[39m \u001b[39m%\u001b[39m (\n\u001b[0;32m     21\u001b[0m         \u001b[39m'\u001b[39m\u001b[39m|\u001b[39m\u001b[39m'\u001b[39m\u001b[39m.\u001b[39mjoin(\u001b[39mmap\u001b[39m(re\u001b[39m.\u001b[39mescape, (\u001b[39m'\u001b[39m\u001b[39m(\u001b[39m\u001b[39m'\u001b[39m, \u001b[39m'\u001b[39m\u001b[39m<\u001b[39m\u001b[39m'\u001b[39m, \u001b[39m'\u001b[39m\u001b[39m&lt;\u001b[39m\u001b[39m'\u001b[39m))),\n\u001b[0;32m     22\u001b[0m         \u001b[39m'\u001b[39m\u001b[39m|\u001b[39m\u001b[39m'\u001b[39m\u001b[39m.\u001b[39mjoin(\u001b[39mmap\u001b[39m(re\u001b[39m.\u001b[39mescape, (\u001b[39m'\u001b[39m\u001b[39m.\u001b[39m\u001b[39m'\u001b[39m, \u001b[39m'\u001b[39m\u001b[39m,\u001b[39m\u001b[39m'\u001b[39m, \u001b[39m'\u001b[39m\u001b[39m)\u001b[39m\u001b[39m'\u001b[39m, \u001b[39m'\u001b[39m\u001b[39m>\u001b[39m\u001b[39m'\u001b[39m, \u001b[39m'\u001b[39m\u001b[39m\\n\u001b[39;00m\u001b[39m'\u001b[39m, \u001b[39m'\u001b[39m\u001b[39m&gt;\u001b[39m\u001b[39m'\u001b[39m)))\n\u001b[0;32m     23\u001b[0m     )\n\u001b[0;32m     24\u001b[0m )\n",
      "File \u001b[1;32mc:\\Users\\vishw\\AppData\\Local\\Programs\\Python\\Python311\\Lib\\site-packages\\jinja2\\_compat.py:115\u001b[0m\n\u001b[0;32m    113\u001b[0m     \u001b[39mfrom\u001b[39;00m \u001b[39mcollections\u001b[39;00m \u001b[39mimport\u001b[39;00m Mapping \u001b[39mas\u001b[39;00m mapping_types\n\u001b[0;32m    114\u001b[0m \u001b[39mexcept\u001b[39;00m \u001b[39mImportError\u001b[39;00m:\n\u001b[1;32m--> 115\u001b[0m     \u001b[39mimport\u001b[39;00m \u001b[39mUserDict\u001b[39;00m\n\u001b[0;32m    116\u001b[0m     mapping_types \u001b[39m=\u001b[39m (UserDict\u001b[39m.\u001b[39mUserDict, UserDict\u001b[39m.\u001b[39mDictMixin, \u001b[39mdict\u001b[39m)\n\u001b[0;32m    119\u001b[0m \u001b[39m# common types.  These do exist in the special types module too which however\u001b[39;00m\n\u001b[0;32m    120\u001b[0m \u001b[39m# does not exist in IronPython out of the box.  Also that way we don't have\u001b[39;00m\n\u001b[0;32m    121\u001b[0m \u001b[39m# to deal with implementation specific stuff here\u001b[39;00m\n",
      "\u001b[1;31mModuleNotFoundError\u001b[0m: No module named 'UserDict'"
     ]
    },
    {
     "data": {
      "text/plain": [
       "<ICA | epochs decomposition, method: fastica (fit in 68 iterations on 4526 samples), 31 ICA components (31 PCA components available), channel types: eeg, no sources marked for exclusion>"
      ]
     },
     "execution_count": 61,
     "metadata": {},
     "output_type": "execute_result"
    }
   ],
   "source": [
    "n_components = 31\n",
    "ica = mne.preprocessing.ICA(n_components=n_components, random_state=97, method='fastica', max_iter=100)\n",
    "ica.fit(epochs)"
   ]
  },
  {
   "cell_type": "code",
   "execution_count": null,
   "metadata": {},
   "outputs": [],
   "source": [
    "%matplotlib inline\n",
    "ica.plot_components()"
   ]
  },
  {
   "cell_type": "code",
   "execution_count": null,
   "metadata": {},
   "outputs": [],
   "source": [
    "# Choose the components representing artifacts to be removed\n",
    "# Use the indices of the components identified as artifacts\n",
    "# TODO: Atomate this \n",
    "ica.exclude = []  # Put all comonent which you want to remove containg inspected (manual) \n",
    "ica.apply(epochs)                       "
   ]
  }
 ],
 "metadata": {
  "kernelspec": {
   "display_name": "eeg",
   "language": "python",
   "name": "python3"
  },
  "language_info": {
   "codemirror_mode": {
    "name": "ipython",
    "version": 3
   },
   "file_extension": ".py",
   "mimetype": "text/x-python",
   "name": "python",
   "nbconvert_exporter": "python",
   "pygments_lexer": "ipython3",
   "version": "3.11.4"
  }
 },
 "nbformat": 4,
 "nbformat_minor": 2
}
