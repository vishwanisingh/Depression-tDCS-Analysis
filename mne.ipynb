{
 "cells": [
  {
   "cell_type": "code",
   "execution_count": 1,
   "metadata": {},
   "outputs": [],
   "source": [
    "import numpy as np\n",
    "import pandas as pd\n",
    "import matplotlib.pyplot as plt\n",
    "from scipy import fftpack,  signal\n",
    "import time\n",
    "import mne\n",
    "import matplotlib\n"
   ]
  },
  {
   "cell_type": "markdown",
   "metadata": {},
   "source": [
    "## Reading the eeg data"
   ]
  },
  {
   "cell_type": "code",
   "execution_count": 2,
   "metadata": {},
   "outputs": [],
   "source": [
    "\n",
    "str='Channel 1:P8\\\n",
    "\tChannel 2:T8\\\n",
    "\tChannel 3:CP6\\\n",
    "\tChannel 4:FC6\\\n",
    "\tChannel 5:F8\\\n",
    "\tChannel 6:F4\\\n",
    "\tChannel 7:C4\\\n",
    "\tChannel 8:P4\\\n",
    "\tChannel 9:AF4\\\n",
    "\tChannel 10:Fp2\\\n",
    "\tChannel 11:Fp1\\\n",
    "\tChannel 12:AF3\\\n",
    "\tChannel 13:Fz\\\n",
    "\tChannel 14:FC2\\\n",
    "\tChannel 15:Cz\\\n",
    "\tChannel 16:CP2\\\n",
    "\tChannel 17:PO3\\\n",
    "\tChannel 18:O1\\\n",
    "\tChannel 19:Oz\\\n",
    "\tChannel 20:O2\\\n",
    "\tChannel 21:PO4\\\n",
    "\tChannel 22:Pz\\\n",
    "\tChannel 23:CP1\\\n",
    "\tChannel 24:FC1\\\n",
    "\tChannel 25:P3\\\n",
    "\tChannel 26:C3\\\n",
    "\tChannel 27:F3\\\n",
    "\tChannel 28:F7\\\n",
    "\tChannel 29:FC5\\\n",
    "\tChannel 30:CP5\\\n",
    "\tChannel 31:T7\\\n",
    "\tChannel 32:P7'\n",
    " \n",
    "string_channels=str.split(':')[1:-1]\n",
    "channel_names=[]\n",
    "\n",
    "for i in string_channels:\n",
    "    channel_names.append(i.split('\\t')[0])\n",
    "\n",
    "\n",
    "channel_names.append('P7')\n",
    "channel_names.append('ax')\n",
    "channel_names.append('ay')\n",
    "channel_names.append('az')\n",
    "channel_names.append('marker')\n",
    "channel_names.append('timestamp(ms)')"
   ]
  },
  {
   "cell_type": "code",
   "execution_count": 3,
   "metadata": {},
   "outputs": [
    {
     "data": {
      "text/html": [
       "<div>\n",
       "<style scoped>\n",
       "    .dataframe tbody tr th:only-of-type {\n",
       "        vertical-align: middle;\n",
       "    }\n",
       "\n",
       "    .dataframe tbody tr th {\n",
       "        vertical-align: top;\n",
       "    }\n",
       "\n",
       "    .dataframe thead th {\n",
       "        text-align: right;\n",
       "    }\n",
       "</style>\n",
       "<table border=\"1\" class=\"dataframe\">\n",
       "  <thead>\n",
       "    <tr style=\"text-align: right;\">\n",
       "      <th></th>\n",
       "      <th>P8</th>\n",
       "      <th>T8</th>\n",
       "      <th>CP6</th>\n",
       "      <th>FC6</th>\n",
       "      <th>F8</th>\n",
       "      <th>F4</th>\n",
       "      <th>C4</th>\n",
       "      <th>P4</th>\n",
       "      <th>AF4</th>\n",
       "      <th>Fp2</th>\n",
       "      <th>...</th>\n",
       "      <th>F7</th>\n",
       "      <th>FC5</th>\n",
       "      <th>CP5</th>\n",
       "      <th>T7</th>\n",
       "      <th>P7</th>\n",
       "      <th>ax</th>\n",
       "      <th>ay</th>\n",
       "      <th>az</th>\n",
       "      <th>marker</th>\n",
       "      <th>timestamp(ms)</th>\n",
       "    </tr>\n",
       "  </thead>\n",
       "  <tbody>\n",
       "    <tr>\n",
       "      <th>0</th>\n",
       "      <td>26755785</td>\n",
       "      <td>41259443</td>\n",
       "      <td>40611728</td>\n",
       "      <td>44407694</td>\n",
       "      <td>4694899</td>\n",
       "      <td>30390277</td>\n",
       "      <td>39666517</td>\n",
       "      <td>19801698</td>\n",
       "      <td>6939049</td>\n",
       "      <td>17904670</td>\n",
       "      <td>...</td>\n",
       "      <td>19870715</td>\n",
       "      <td>24716423</td>\n",
       "      <td>19838117</td>\n",
       "      <td>18868974</td>\n",
       "      <td>38399435</td>\n",
       "      <td>0</td>\n",
       "      <td>0</td>\n",
       "      <td>0</td>\n",
       "      <td>0</td>\n",
       "      <td>1689691390327</td>\n",
       "    </tr>\n",
       "    <tr>\n",
       "      <th>1</th>\n",
       "      <td>26753200</td>\n",
       "      <td>41252851</td>\n",
       "      <td>40610943</td>\n",
       "      <td>44408981</td>\n",
       "      <td>4697349</td>\n",
       "      <td>30392249</td>\n",
       "      <td>39666712</td>\n",
       "      <td>19799590</td>\n",
       "      <td>6943306</td>\n",
       "      <td>17907687</td>\n",
       "      <td>...</td>\n",
       "      <td>19873286</td>\n",
       "      <td>24720223</td>\n",
       "      <td>19838163</td>\n",
       "      <td>18871905</td>\n",
       "      <td>38399501</td>\n",
       "      <td>0</td>\n",
       "      <td>0</td>\n",
       "      <td>0</td>\n",
       "      <td>0</td>\n",
       "      <td>1689691390329</td>\n",
       "    </tr>\n",
       "    <tr>\n",
       "      <th>2</th>\n",
       "      <td>26760960</td>\n",
       "      <td>41263336</td>\n",
       "      <td>40623328</td>\n",
       "      <td>44425261</td>\n",
       "      <td>4712311</td>\n",
       "      <td>30405558</td>\n",
       "      <td>39678050</td>\n",
       "      <td>19808793</td>\n",
       "      <td>6956891</td>\n",
       "      <td>17925091</td>\n",
       "      <td>...</td>\n",
       "      <td>19887289</td>\n",
       "      <td>24732336</td>\n",
       "      <td>19847928</td>\n",
       "      <td>18882349</td>\n",
       "      <td>38408765</td>\n",
       "      <td>0</td>\n",
       "      <td>0</td>\n",
       "      <td>0</td>\n",
       "      <td>0</td>\n",
       "      <td>1689691390331</td>\n",
       "    </tr>\n",
       "    <tr>\n",
       "      <th>3</th>\n",
       "      <td>26764567</td>\n",
       "      <td>41274163</td>\n",
       "      <td>40634475</td>\n",
       "      <td>44436372</td>\n",
       "      <td>4718932</td>\n",
       "      <td>30412740</td>\n",
       "      <td>39687613</td>\n",
       "      <td>19815575</td>\n",
       "      <td>6967324</td>\n",
       "      <td>17939010</td>\n",
       "      <td>...</td>\n",
       "      <td>19900255</td>\n",
       "      <td>24744428</td>\n",
       "      <td>19856156</td>\n",
       "      <td>18895187</td>\n",
       "      <td>38417819</td>\n",
       "      <td>0</td>\n",
       "      <td>0</td>\n",
       "      <td>0</td>\n",
       "      <td>0</td>\n",
       "      <td>1689691390333</td>\n",
       "    </tr>\n",
       "    <tr>\n",
       "      <th>4</th>\n",
       "      <td>26772894</td>\n",
       "      <td>41285169</td>\n",
       "      <td>40645744</td>\n",
       "      <td>44441861</td>\n",
       "      <td>4723298</td>\n",
       "      <td>30421366</td>\n",
       "      <td>39697453</td>\n",
       "      <td>19825868</td>\n",
       "      <td>6980784</td>\n",
       "      <td>17947863</td>\n",
       "      <td>...</td>\n",
       "      <td>19913626</td>\n",
       "      <td>24760037</td>\n",
       "      <td>19868047</td>\n",
       "      <td>18909575</td>\n",
       "      <td>38431911</td>\n",
       "      <td>0</td>\n",
       "      <td>0</td>\n",
       "      <td>0</td>\n",
       "      <td>0</td>\n",
       "      <td>1689691390335</td>\n",
       "    </tr>\n",
       "  </tbody>\n",
       "</table>\n",
       "<p>5 rows × 37 columns</p>\n",
       "</div>"
      ],
      "text/plain": [
       "         P8        T8       CP6       FC6       F8        F4        C4  \\\n",
       "0  26755785  41259443  40611728  44407694  4694899  30390277  39666517   \n",
       "1  26753200  41252851  40610943  44408981  4697349  30392249  39666712   \n",
       "2  26760960  41263336  40623328  44425261  4712311  30405558  39678050   \n",
       "3  26764567  41274163  40634475  44436372  4718932  30412740  39687613   \n",
       "4  26772894  41285169  40645744  44441861  4723298  30421366  39697453   \n",
       "\n",
       "         P4      AF4       Fp2  ...        F7       FC5       CP5        T7  \\\n",
       "0  19801698  6939049  17904670  ...  19870715  24716423  19838117  18868974   \n",
       "1  19799590  6943306  17907687  ...  19873286  24720223  19838163  18871905   \n",
       "2  19808793  6956891  17925091  ...  19887289  24732336  19847928  18882349   \n",
       "3  19815575  6967324  17939010  ...  19900255  24744428  19856156  18895187   \n",
       "4  19825868  6980784  17947863  ...  19913626  24760037  19868047  18909575   \n",
       "\n",
       "         P7  ax  ay  az  marker  timestamp(ms)  \n",
       "0  38399435   0   0   0       0  1689691390327  \n",
       "1  38399501   0   0   0       0  1689691390329  \n",
       "2  38408765   0   0   0       0  1689691390331  \n",
       "3  38417819   0   0   0       0  1689691390333  \n",
       "4  38431911   0   0   0       0  1689691390335  \n",
       "\n",
       "[5 rows x 37 columns]"
      ]
     },
     "execution_count": 3,
     "metadata": {},
     "output_type": "execute_result"
    }
   ],
   "source": [
    "import pandas as pd\n",
    "\n",
    "# Specify the path to the text file\n",
    "file_path = \"/Users/yashsurange/Documents/GitHub/Depression-IITD/20230718201310_Preeti singh_22.08.23-01_Eye Open.easy\"\n",
    "\n",
    "# Read the text file with tab separators and convert it to a DataFrame\n",
    "df = pd.read_csv(file_path, sep='\\t')\n",
    "df.columns=channel_names\n",
    "\n",
    "# Now, 'df' contains your data as a Pandas DataFrame\n",
    "df.head()"
   ]
  },
  {
   "cell_type": "markdown",
   "metadata": {},
   "source": [
    "## MNE Analysis"
   ]
  },
  {
   "cell_type": "markdown",
   "metadata": {},
   "source": [
    "### 1. Raw data analysis and plot"
   ]
  },
  {
   "cell_type": "code",
   "execution_count": 4,
   "metadata": {},
   "outputs": [
    {
     "name": "stdout",
     "output_type": "stream",
     "text": [
      "Creating RawArray with float64 data, n_channels=32, n_times=74999\n",
      "    Range : 0 ... 74998 =      0.000 ...   149.996 secs\n",
      "Ready.\n"
     ]
    }
   ],
   "source": [
    "# chaning rows to columns and columns to rows\n",
    "transposed_data=df.T\n",
    "\n",
    "# Create a MNE-Python info object and specifying sampling rate of data\n",
    "info = mne.create_info(ch_names=df.columns.tolist()[:-5],sfreq=500)\n",
    "\n",
    "# Create a Raw object from the DataFrame\n",
    "raw = mne.io.RawArray(transposed_data.values[:-5,:], info)"
   ]
  },
  {
   "cell_type": "code",
   "execution_count": 5,
   "metadata": {},
   "outputs": [
    {
     "name": "stdout",
     "output_type": "stream",
     "text": [
      "num of channels: 32\n",
      "Shape of the data: (32, 74999)\n"
     ]
    }
   ],
   "source": [
    "# Printing information about the number of channels and the shape of the data\n",
    "print(f\"num of channels: {raw.info.get('nchan')}\")\n",
    "print(f'Shape of the data: {raw.get_data().shape}')"
   ]
  },
  {
   "cell_type": "code",
   "execution_count": 7,
   "metadata": {},
   "outputs": [
    {
     "name": "stdout",
     "output_type": "stream",
     "text": [
      "Channels marked as bad:\n",
      "none\n"
     ]
    }
   ],
   "source": [
    "# To plot raw eeg plot\n",
    "plt.switch_backend('TkAgg')\n",
    "raw.plot(n_channels=32);"
   ]
  },
  {
   "cell_type": "markdown",
   "metadata": {},
   "source": [
    "### 2. Power spectral density plot"
   ]
  },
  {
   "cell_type": "code",
   "execution_count": 10,
   "metadata": {},
   "outputs": [
    {
     "name": "stdout",
     "output_type": "stream",
     "text": [
      "Effective window size : 4.096 (s)\n"
     ]
    },
    {
     "name": "stderr",
     "output_type": "stream",
     "text": [
      "/var/folders/31/4ls8ds9x7vl8895bddgntg700000gn/T/ipykernel_73000/1725005006.py:2: RuntimeWarning: Channel locations not available. Disabling spatial colors.\n",
      "  raw.compute_psd(fmax=50,picks=np.array(channel_names[:-5])).plot(picks=np.array(channel_names[:-5]), exclude=\"bads\");\n"
     ]
    }
   ],
   "source": [
    "# To plot power spectral density plot\n",
    "raw.compute_psd(fmax=50,picks=np.array(channel_names[:-5])).plot(picks=np.array(channel_names[:-5]), exclude=\"bads\");"
   ]
  },
  {
   "cell_type": "markdown",
   "metadata": {},
   "source": [
    "## Spotting bad channels\n",
    "\n",
    "#### There are no bad channels observed in the above plot. Bad channels are the ones which are either completely flat or show significant noise. Nothing has been reported as well.\n"
   ]
  }
 ],
 "metadata": {
  "kernelspec": {
   "display_name": "eeg",
   "language": "python",
   "name": "python3"
  },
  "language_info": {
   "codemirror_mode": {
    "name": "ipython",
    "version": 3
   },
   "file_extension": ".py",
   "mimetype": "text/x-python",
   "name": "python",
   "nbconvert_exporter": "python",
   "pygments_lexer": "ipython3",
   "version": "3.11.5"
  }
 },
 "nbformat": 4,
 "nbformat_minor": 2
}
