{
 "cells": [
  {
   "cell_type": "markdown",
   "metadata": {},
   "source": [
    "MDD data"
   ]
  },
  {
   "cell_type": "code",
   "execution_count": 12,
   "metadata": {},
   "outputs": [],
   "source": [
    "import os\n",
    "file_path = os.getcwd()+ '\\\\Depression-Sample-dataset-AIIMS\\\\' + 'active\\\\' + 'PreetiSingh\\\\' + 'pre\\\\' +'20230718201310_Preeti singh_22.08.23-01_Eye Open' + '.easy'"
   ]
  },
  {
   "cell_type": "code",
   "execution_count": null,
   "metadata": {},
   "outputs": [
    {
     "name": "stdout",
     "output_type": "stream",
     "text": [
      "Creating RawArray with float64 data, n_channels=32, n_times=74999\n",
      "    Range : 0 ... 74998 =      0.000 ...   149.996 secs\n",
      "Ready.\n",
      "num of channels: 32\n",
      "Shape of the data: (32, 74999)\n",
      "Filtering raw data in 1 contiguous segment\n",
      "Setting up band-pass filter from 0.01 - 45 Hz\n",
      "\n",
      "FIR filter parameters\n",
      "---------------------\n",
      "Designing a one-pass, non-linear phase, causal bandpass filter:\n",
      "- Windowed time-domain design (firwin) method\n",
      "- Hann window with 0.0546 passband ripple and 44 dB stopband attenuation\n",
      "- Lower transition bandwidth: 0.01 Hz\n",
      "- Upper transition bandwidth: 11.25 Hz\n",
      "- Filter length: 155001 samples (310.002 s)\n",
      "\n"
     ]
    },
    {
     "name": "stderr",
     "output_type": "stream",
     "text": [
      "C:\\Users\\vishw\\AppData\\Local\\Temp\\ipykernel_22756\\3993128468.py:4: RuntimeWarning: filter_length (155001) is longer than the signal (74999), distortion is likely. Reduce filter length or filter a longer signal.\n",
      "  raw_cleaned.filter(method= 'fir',\n",
      "[Parallel(n_jobs=1)]: Done  17 tasks      | elapsed:    0.4s\n"
     ]
    },
    {
     "name": "stdout",
     "output_type": "stream",
     "text": [
      "<Info | 8 non-empty values\n",
      " bads: []\n",
      " ch_names: P8, T8, CP6, FC6, F8, F4, C4, P4, AF4, Fp2, Fp1, AF3, Fz, FC2, ...\n",
      " chs: 32 EEG\n",
      " custom_ref_applied: False\n",
      " dig: 35 items (3 Cardinal, 32 EEG)\n",
      " highpass: 0.0 Hz\n",
      " lowpass: 45.0 Hz\n",
      " meas_date: unspecified\n",
      " nchan: 32\n",
      " projs: []\n",
      " sfreq: 500.0 Hz\n",
      ">\n",
      "EEG channel type selected for re-referencing\n",
      "Adding average EEG reference projection.\n",
      "1 projection items deactivated\n",
      "Average reference projection was added, but has not been applied yet. Use the apply_proj method to apply it.\n",
      "Created an SSP operator (subspace dimension = 1)\n",
      "1 projection items activated\n",
      "SSP projectors applied...\n",
      "<Info | 9 non-empty values\n",
      " bads: []\n",
      " ch_names: P8, T8, CP6, FC6, F8, F4, C4, P4, AF4, Fp2, Fp1, AF3, Fz, FC2, ...\n",
      " chs: 32 EEG\n",
      " custom_ref_applied: False\n",
      " dig: 35 items (3 Cardinal, 32 EEG)\n",
      " highpass: 0.0 Hz\n",
      " lowpass: 45.0 Hz\n",
      " meas_date: unspecified\n",
      " nchan: 32\n",
      " projs: Average EEG reference: on\n",
      " sfreq: 500.0 Hz\n",
      ">\n"
     ]
    },
    {
     "name": "stdout",
     "output_type": "stream",
     "text": [
      "Channels marked as bad:\n",
      "none\n",
      "Channels marked as bad:\n",
      "none\n"
     ]
    }
   ],
   "source": [
    "%run E:\\IITD\\Depression-IITD\\common.ipynb"
   ]
  },
  {
   "cell_type": "code",
   "execution_count": 14,
   "metadata": {},
   "outputs": [],
   "source": [
    "raw_MDD = raw_cleaned"
   ]
  },
  {
   "cell_type": "markdown",
   "metadata": {},
   "source": [
    "Control group data"
   ]
  },
  {
   "cell_type": "code",
   "execution_count": 15,
   "metadata": {},
   "outputs": [
    {
     "name": "stdout",
     "output_type": "stream",
     "text": [
      "Extracting parameters from e:\\IITD\\Depression-IITD\\Depression-Sample-dataset-AIIMS\\Control\\KalyanSir_BST19_Resting000123.vhdr...\n",
      "Setting channel info structure...\n",
      "Reading 0 ... 654549  =      0.000 ...   261.820 secs...\n"
     ]
    },
    {
     "name": "stderr",
     "output_type": "stream",
     "text": [
      "C:\\Users\\vishw\\AppData\\Local\\Temp\\ipykernel_22756\\4288222218.py:4: RuntimeWarning: Online software filter detected. Using software filter settings and ignoring hardware values\n",
      "  raw_control = mne.io.read_raw_brainvision(vhdr_file, preload=True)\n"
     ]
    }
   ],
   "source": [
    "file_path = os.getcwd()+ '\\\\Depression-Sample-dataset-AIIMS\\\\' + 'Control\\\\'\n",
    "eeg_file = file_path + 'KalyanSir_BST19_Resting000123.eeg'\n",
    "vhdr_file = file_path + 'KalyanSir_BST19_Resting000123.vhdr'\n",
    "raw_control = mne.io.read_raw_brainvision(vhdr_file, preload=True)\n",
    "# raw_control doesn't have Cz"
   ]
  },
  {
   "cell_type": "markdown",
   "metadata": {},
   "source": [
    "Dropping extra channels in both groups"
   ]
  },
  {
   "cell_type": "code",
   "execution_count": 16,
   "metadata": {},
   "outputs": [
    {
     "ename": "ModuleNotFoundError",
     "evalue": "No module named 'UserDict'",
     "output_type": "error",
     "traceback": [
      "\u001b[1;31m---------------------------------------------------------------------------\u001b[0m",
      "\u001b[1;31mImportError\u001b[0m                               Traceback (most recent call last)",
      "File \u001b[1;32mc:\\Users\\vishw\\AppData\\Local\\Programs\\Python\\Python311\\Lib\\site-packages\\jinja2\\_compat.py:113\u001b[0m\n\u001b[0;32m    112\u001b[0m \u001b[38;5;28;01mtry\u001b[39;00m:\n\u001b[1;32m--> 113\u001b[0m     \u001b[38;5;28;01mfrom\u001b[39;00m \u001b[38;5;21;01mcollections\u001b[39;00m \u001b[38;5;28;01mimport\u001b[39;00m Mapping \u001b[38;5;28;01mas\u001b[39;00m mapping_types\n\u001b[0;32m    114\u001b[0m \u001b[38;5;28;01mexcept\u001b[39;00m \u001b[38;5;167;01mImportError\u001b[39;00m:\n",
      "\u001b[1;31mImportError\u001b[0m: cannot import name 'Mapping' from 'collections' (c:\\Users\\vishw\\AppData\\Local\\Programs\\Python\\Python311\\Lib\\collections\\__init__.py)",
      "\nDuring handling of the above exception, another exception occurred:\n",
      "\u001b[1;31mModuleNotFoundError\u001b[0m                       Traceback (most recent call last)",
      "File \u001b[1;32mc:\\Users\\vishw\\AppData\\Local\\Programs\\Python\\Python311\\Lib\\site-packages\\IPython\\core\\formatters.py:344\u001b[0m, in \u001b[0;36mBaseFormatter.__call__\u001b[1;34m(self, obj)\u001b[0m\n\u001b[0;32m    342\u001b[0m     method \u001b[38;5;241m=\u001b[39m get_real_method(obj, \u001b[38;5;28mself\u001b[39m\u001b[38;5;241m.\u001b[39mprint_method)\n\u001b[0;32m    343\u001b[0m     \u001b[38;5;28;01mif\u001b[39;00m method \u001b[38;5;129;01mis\u001b[39;00m \u001b[38;5;129;01mnot\u001b[39;00m \u001b[38;5;28;01mNone\u001b[39;00m:\n\u001b[1;32m--> 344\u001b[0m         \u001b[38;5;28;01mreturn\u001b[39;00m \u001b[43mmethod\u001b[49m\u001b[43m(\u001b[49m\u001b[43m)\u001b[49m\n\u001b[0;32m    345\u001b[0m     \u001b[38;5;28;01mreturn\u001b[39;00m \u001b[38;5;28;01mNone\u001b[39;00m\n\u001b[0;32m    346\u001b[0m \u001b[38;5;28;01melse\u001b[39;00m:\n",
      "File \u001b[1;32mc:\\Users\\vishw\\AppData\\Local\\Programs\\Python\\Python311\\Lib\\site-packages\\mne\\utils\\misc.py:475\u001b[0m, in \u001b[0;36mrepr_html.<locals>.wrapper\u001b[1;34m(*args, **kwargs)\u001b[0m\n\u001b[0;32m    473\u001b[0m     \u001b[38;5;28;01mreturn\u001b[39;00m r\u001b[38;5;241m.\u001b[39mreplace(\u001b[38;5;124m\"\u001b[39m\u001b[38;5;130;01m\\n\u001b[39;00m\u001b[38;5;124m\"\u001b[39m, \u001b[38;5;124m\"\u001b[39m\u001b[38;5;124m<br/>\u001b[39m\u001b[38;5;124m\"\u001b[39m)\n\u001b[0;32m    474\u001b[0m \u001b[38;5;28;01melse\u001b[39;00m:\n\u001b[1;32m--> 475\u001b[0m     \u001b[38;5;28;01mreturn\u001b[39;00m \u001b[43mf\u001b[49m\u001b[43m(\u001b[49m\u001b[38;5;241;43m*\u001b[39;49m\u001b[43margs\u001b[49m\u001b[43m,\u001b[49m\u001b[43m \u001b[49m\u001b[38;5;241;43m*\u001b[39;49m\u001b[38;5;241;43m*\u001b[39;49m\u001b[43mkwargs\u001b[49m\u001b[43m)\u001b[49m\n",
      "File \u001b[1;32mc:\\Users\\vishw\\AppData\\Local\\Programs\\Python\\Python311\\Lib\\site-packages\\mne\\io\\base.py:2079\u001b[0m, in \u001b[0;36mBaseRaw._repr_html_\u001b[1;34m(self, caption)\u001b[0m\n\u001b[0;32m   2077\u001b[0m \u001b[38;5;129m@repr_html\u001b[39m\n\u001b[0;32m   2078\u001b[0m \u001b[38;5;28;01mdef\u001b[39;00m \u001b[38;5;21m_repr_html_\u001b[39m(\u001b[38;5;28mself\u001b[39m, caption\u001b[38;5;241m=\u001b[39m\u001b[38;5;28;01mNone\u001b[39;00m):\n\u001b[1;32m-> 2079\u001b[0m     \u001b[38;5;28;01mfrom\u001b[39;00m \u001b[38;5;21;01m.\u001b[39;00m\u001b[38;5;21;01m.\u001b[39;00m\u001b[38;5;21;01mhtml_templates\u001b[39;00m \u001b[38;5;28;01mimport\u001b[39;00m repr_templates_env\n\u001b[0;32m   2081\u001b[0m     basenames \u001b[38;5;241m=\u001b[39m [os\u001b[38;5;241m.\u001b[39mpath\u001b[38;5;241m.\u001b[39mbasename(f) \u001b[38;5;28;01mfor\u001b[39;00m f \u001b[38;5;129;01min\u001b[39;00m \u001b[38;5;28mself\u001b[39m\u001b[38;5;241m.\u001b[39m_filenames \u001b[38;5;28;01mif\u001b[39;00m f \u001b[38;5;129;01mis\u001b[39;00m \u001b[38;5;129;01mnot\u001b[39;00m \u001b[38;5;28;01mNone\u001b[39;00m]\n\u001b[0;32m   2083\u001b[0m     \u001b[38;5;66;03m# https://stackoverflow.com/a/10981895\u001b[39;00m\n",
      "File \u001b[1;32mc:\\Users\\vishw\\AppData\\Local\\Programs\\Python\\Python311\\Lib\\site-packages\\mne\\html_templates\\__init__.py:3\u001b[0m\n\u001b[0;32m      1\u001b[0m \u001b[38;5;124;03m\"\"\"Jinja2 HTML templates.\"\"\"\u001b[39;00m\n\u001b[1;32m----> 3\u001b[0m \u001b[38;5;28;01mfrom\u001b[39;00m \u001b[38;5;21;01m.\u001b[39;00m\u001b[38;5;21;01m_templates\u001b[39;00m \u001b[38;5;28;01mimport\u001b[39;00m repr_templates_env, report_templates_env\n",
      "File \u001b[1;32mc:\\Users\\vishw\\AppData\\Local\\Programs\\Python\\Python311\\Lib\\site-packages\\mne\\html_templates\\_templates.py:1\u001b[0m\n\u001b[1;32m----> 1\u001b[0m \u001b[38;5;28;01mimport\u001b[39;00m \u001b[38;5;21;01mjinja2\u001b[39;00m\n\u001b[0;32m      3\u001b[0m autoescape \u001b[38;5;241m=\u001b[39m jinja2\u001b[38;5;241m.\u001b[39mselect_autoescape(default\u001b[38;5;241m=\u001b[39m\u001b[38;5;28;01mTrue\u001b[39;00m, default_for_string\u001b[38;5;241m=\u001b[39m\u001b[38;5;28;01mTrue\u001b[39;00m)\n\u001b[0;32m      5\u001b[0m \u001b[38;5;66;03m# For _html_repr_()\u001b[39;00m\n",
      "File \u001b[1;32mc:\\Users\\vishw\\AppData\\Local\\Programs\\Python\\Python311\\Lib\\site-packages\\jinja2\\__init__.py:33\u001b[0m\n\u001b[0;32m     30\u001b[0m __version__ \u001b[38;5;241m=\u001b[39m \u001b[38;5;124m'\u001b[39m\u001b[38;5;124m2.7.3\u001b[39m\u001b[38;5;124m'\u001b[39m\n\u001b[0;32m     32\u001b[0m \u001b[38;5;66;03m# high level interface\u001b[39;00m\n\u001b[1;32m---> 33\u001b[0m \u001b[38;5;28;01mfrom\u001b[39;00m \u001b[38;5;21;01mjinja2\u001b[39;00m\u001b[38;5;21;01m.\u001b[39;00m\u001b[38;5;21;01menvironment\u001b[39;00m \u001b[38;5;28;01mimport\u001b[39;00m Environment, Template\n\u001b[0;32m     35\u001b[0m \u001b[38;5;66;03m# loaders\u001b[39;00m\n\u001b[0;32m     36\u001b[0m \u001b[38;5;28;01mfrom\u001b[39;00m \u001b[38;5;21;01mjinja2\u001b[39;00m\u001b[38;5;21;01m.\u001b[39;00m\u001b[38;5;21;01mloaders\u001b[39;00m \u001b[38;5;28;01mimport\u001b[39;00m BaseLoader, FileSystemLoader, PackageLoader, \\\n\u001b[0;32m     37\u001b[0m      DictLoader, FunctionLoader, PrefixLoader, ChoiceLoader, \\\n\u001b[0;32m     38\u001b[0m      ModuleLoader\n",
      "File \u001b[1;32mc:\\Users\\vishw\\AppData\\Local\\Programs\\Python\\Python311\\Lib\\site-packages\\jinja2\\environment.py:13\u001b[0m\n\u001b[0;32m     11\u001b[0m \u001b[38;5;28;01mimport\u001b[39;00m \u001b[38;5;21;01mos\u001b[39;00m\n\u001b[0;32m     12\u001b[0m \u001b[38;5;28;01mimport\u001b[39;00m \u001b[38;5;21;01msys\u001b[39;00m\n\u001b[1;32m---> 13\u001b[0m \u001b[38;5;28;01mfrom\u001b[39;00m \u001b[38;5;21;01mjinja2\u001b[39;00m \u001b[38;5;28;01mimport\u001b[39;00m nodes\n\u001b[0;32m     14\u001b[0m \u001b[38;5;28;01mfrom\u001b[39;00m \u001b[38;5;21;01mjinja2\u001b[39;00m\u001b[38;5;21;01m.\u001b[39;00m\u001b[38;5;21;01mdefaults\u001b[39;00m \u001b[38;5;28;01mimport\u001b[39;00m BLOCK_START_STRING, \\\n\u001b[0;32m     15\u001b[0m      BLOCK_END_STRING, VARIABLE_START_STRING, VARIABLE_END_STRING, \\\n\u001b[0;32m     16\u001b[0m      COMMENT_START_STRING, COMMENT_END_STRING, LINE_STATEMENT_PREFIX, \\\n\u001b[0;32m     17\u001b[0m      LINE_COMMENT_PREFIX, TRIM_BLOCKS, NEWLINE_SEQUENCE, \\\n\u001b[0;32m     18\u001b[0m      DEFAULT_FILTERS, DEFAULT_TESTS, DEFAULT_NAMESPACE, \\\n\u001b[0;32m     19\u001b[0m      KEEP_TRAILING_NEWLINE, LSTRIP_BLOCKS\n\u001b[0;32m     20\u001b[0m \u001b[38;5;28;01mfrom\u001b[39;00m \u001b[38;5;21;01mjinja2\u001b[39;00m\u001b[38;5;21;01m.\u001b[39;00m\u001b[38;5;21;01mlexer\u001b[39;00m \u001b[38;5;28;01mimport\u001b[39;00m get_lexer, TokenStream\n",
      "File \u001b[1;32mc:\\Users\\vishw\\AppData\\Local\\Programs\\Python\\Python311\\Lib\\site-packages\\jinja2\\nodes.py:18\u001b[0m\n\u001b[0;32m     15\u001b[0m \u001b[38;5;28;01mimport\u001b[39;00m \u001b[38;5;21;01moperator\u001b[39;00m\n\u001b[0;32m     17\u001b[0m \u001b[38;5;28;01mfrom\u001b[39;00m \u001b[38;5;21;01mcollections\u001b[39;00m \u001b[38;5;28;01mimport\u001b[39;00m deque\n\u001b[1;32m---> 18\u001b[0m \u001b[38;5;28;01mfrom\u001b[39;00m \u001b[38;5;21;01mjinja2\u001b[39;00m\u001b[38;5;21;01m.\u001b[39;00m\u001b[38;5;21;01mutils\u001b[39;00m \u001b[38;5;28;01mimport\u001b[39;00m Markup\n\u001b[0;32m     19\u001b[0m \u001b[38;5;28;01mfrom\u001b[39;00m \u001b[38;5;21;01mjinja2\u001b[39;00m\u001b[38;5;21;01m.\u001b[39;00m\u001b[38;5;21;01m_compat\u001b[39;00m \u001b[38;5;28;01mimport\u001b[39;00m \u001b[38;5;28mnext\u001b[39m, izip, with_metaclass, text_type, \\\n\u001b[0;32m     20\u001b[0m      method_type, function_type\n\u001b[0;32m     23\u001b[0m \u001b[38;5;66;03m#: the types we support for context functions\u001b[39;00m\n",
      "File \u001b[1;32mc:\\Users\\vishw\\AppData\\Local\\Programs\\Python\\Python311\\Lib\\site-packages\\jinja2\\utils.py:14\u001b[0m\n\u001b[0;32m     12\u001b[0m \u001b[38;5;28;01mimport\u001b[39;00m \u001b[38;5;21;01merrno\u001b[39;00m\n\u001b[0;32m     13\u001b[0m \u001b[38;5;28;01mfrom\u001b[39;00m \u001b[38;5;21;01mcollections\u001b[39;00m \u001b[38;5;28;01mimport\u001b[39;00m deque\n\u001b[1;32m---> 14\u001b[0m \u001b[38;5;28;01mfrom\u001b[39;00m \u001b[38;5;21;01mjinja2\u001b[39;00m\u001b[38;5;21;01m.\u001b[39;00m\u001b[38;5;21;01m_compat\u001b[39;00m \u001b[38;5;28;01mimport\u001b[39;00m text_type, string_types, implements_iterator, \\\n\u001b[0;32m     15\u001b[0m      allocate_lock, url_quote\n\u001b[0;32m     18\u001b[0m _word_split_re \u001b[38;5;241m=\u001b[39m re\u001b[38;5;241m.\u001b[39mcompile(\u001b[38;5;124mr\u001b[39m\u001b[38;5;124m'\u001b[39m\u001b[38;5;124m(\u001b[39m\u001b[38;5;124m\\\u001b[39m\u001b[38;5;124ms+)\u001b[39m\u001b[38;5;124m'\u001b[39m)\n\u001b[0;32m     19\u001b[0m _punctuation_re \u001b[38;5;241m=\u001b[39m re\u001b[38;5;241m.\u001b[39mcompile(\n\u001b[0;32m     20\u001b[0m     \u001b[38;5;124m'\u001b[39m\u001b[38;5;124m^(?P<lead>(?:\u001b[39m\u001b[38;5;132;01m%s\u001b[39;00m\u001b[38;5;124m)*)(?P<middle>.*?)(?P<trail>(?:\u001b[39m\u001b[38;5;132;01m%s\u001b[39;00m\u001b[38;5;124m)*)$\u001b[39m\u001b[38;5;124m'\u001b[39m \u001b[38;5;241m%\u001b[39m (\n\u001b[0;32m     21\u001b[0m         \u001b[38;5;124m'\u001b[39m\u001b[38;5;124m|\u001b[39m\u001b[38;5;124m'\u001b[39m\u001b[38;5;241m.\u001b[39mjoin(\u001b[38;5;28mmap\u001b[39m(re\u001b[38;5;241m.\u001b[39mescape, (\u001b[38;5;124m'\u001b[39m\u001b[38;5;124m(\u001b[39m\u001b[38;5;124m'\u001b[39m, \u001b[38;5;124m'\u001b[39m\u001b[38;5;124m<\u001b[39m\u001b[38;5;124m'\u001b[39m, \u001b[38;5;124m'\u001b[39m\u001b[38;5;124m&lt;\u001b[39m\u001b[38;5;124m'\u001b[39m))),\n\u001b[0;32m     22\u001b[0m         \u001b[38;5;124m'\u001b[39m\u001b[38;5;124m|\u001b[39m\u001b[38;5;124m'\u001b[39m\u001b[38;5;241m.\u001b[39mjoin(\u001b[38;5;28mmap\u001b[39m(re\u001b[38;5;241m.\u001b[39mescape, (\u001b[38;5;124m'\u001b[39m\u001b[38;5;124m.\u001b[39m\u001b[38;5;124m'\u001b[39m, \u001b[38;5;124m'\u001b[39m\u001b[38;5;124m,\u001b[39m\u001b[38;5;124m'\u001b[39m, \u001b[38;5;124m'\u001b[39m\u001b[38;5;124m)\u001b[39m\u001b[38;5;124m'\u001b[39m, \u001b[38;5;124m'\u001b[39m\u001b[38;5;124m>\u001b[39m\u001b[38;5;124m'\u001b[39m, \u001b[38;5;124m'\u001b[39m\u001b[38;5;130;01m\\n\u001b[39;00m\u001b[38;5;124m'\u001b[39m, \u001b[38;5;124m'\u001b[39m\u001b[38;5;124m&gt;\u001b[39m\u001b[38;5;124m'\u001b[39m)))\n\u001b[0;32m     23\u001b[0m     )\n\u001b[0;32m     24\u001b[0m )\n",
      "File \u001b[1;32mc:\\Users\\vishw\\AppData\\Local\\Programs\\Python\\Python311\\Lib\\site-packages\\jinja2\\_compat.py:115\u001b[0m\n\u001b[0;32m    113\u001b[0m     \u001b[38;5;28;01mfrom\u001b[39;00m \u001b[38;5;21;01mcollections\u001b[39;00m \u001b[38;5;28;01mimport\u001b[39;00m Mapping \u001b[38;5;28;01mas\u001b[39;00m mapping_types\n\u001b[0;32m    114\u001b[0m \u001b[38;5;28;01mexcept\u001b[39;00m \u001b[38;5;167;01mImportError\u001b[39;00m:\n\u001b[1;32m--> 115\u001b[0m     \u001b[38;5;28;01mimport\u001b[39;00m \u001b[38;5;21;01mUserDict\u001b[39;00m\n\u001b[0;32m    116\u001b[0m     mapping_types \u001b[38;5;241m=\u001b[39m (UserDict\u001b[38;5;241m.\u001b[39mUserDict, UserDict\u001b[38;5;241m.\u001b[39mDictMixin, \u001b[38;5;28mdict\u001b[39m)\n\u001b[0;32m    119\u001b[0m \u001b[38;5;66;03m# common types.  These do exist in the special types module too which however\u001b[39;00m\n\u001b[0;32m    120\u001b[0m \u001b[38;5;66;03m# does not exist in IronPython out of the box.  Also that way we don't have\u001b[39;00m\n\u001b[0;32m    121\u001b[0m \u001b[38;5;66;03m# to deal with implementation specific stuff here\u001b[39;00m\n",
      "\u001b[1;31mModuleNotFoundError\u001b[0m: No module named 'UserDict'"
     ]
    },
    {
     "data": {
      "text/plain": [
       "<RawArray | 31 x 74999 (150.0 s), ~17.8 MB, data loaded>"
      ]
     },
     "execution_count": 16,
     "metadata": {},
     "output_type": "execute_result"
    }
   ],
   "source": [
    "drop = []\n",
    "for chan in raw_control.info['ch_names']:\n",
    "    if chan not in raw_MDD.info['ch_names']:\n",
    "        drop.append(chan)\n",
    "raw_control.drop_channels(drop)\n",
    "raw_control.info\n",
    "\n",
    "raw_MDD.drop_channels(['Cz'])"
   ]
  },
  {
   "cell_type": "code",
   "execution_count": 17,
   "metadata": {},
   "outputs": [
    {
     "name": "stdout",
     "output_type": "stream",
     "text": [
      "Filtering raw data in 1 contiguous segment\n",
      "Setting up band-pass filter from 0.01 - 45 Hz\n",
      "\n",
      "FIR filter parameters\n",
      "---------------------\n",
      "Designing a one-pass, non-linear phase, causal bandpass filter:\n",
      "- Windowed time-domain design (firwin) method\n",
      "- Hann window with 0.0546 passband ripple and 44 dB stopband attenuation\n",
      "- Lower transition bandwidth: 0.01 Hz\n",
      "- Upper transition bandwidth: 11.25 Hz\n",
      "- Filter length: 155001 samples (310.002 s)\n",
      "\n"
     ]
    },
    {
     "name": "stderr",
     "output_type": "stream",
     "text": [
      "C:\\Users\\vishw\\AppData\\Local\\Temp\\ipykernel_22756\\3993128468.py:4: RuntimeWarning: filter_length (155001) is longer than the signal (75000), distortion is likely. Reduce filter length or filter a longer signal.\n",
      "  raw_cleaned.filter(method= 'fir',\n",
      "[Parallel(n_jobs=1)]: Done  17 tasks      | elapsed:    0.3s\n"
     ]
    },
    {
     "name": "stdout",
     "output_type": "stream",
     "text": [
      "<Info | 8 non-empty values\n",
      " bads: []\n",
      " ch_names: Fp1, Fz, F3, F7, FC5, FC1, C3, T7, CP5, CP1, Pz, P3, P7, O1, Oz, ...\n",
      " chs: 31 EEG\n",
      " custom_ref_applied: False\n",
      " dig: 34 items (3 Cardinal, 31 EEG)\n",
      " highpass: 0.0 Hz\n",
      " lowpass: 45.0 Hz\n",
      " meas_date: 2019-03-05 10:37:21 UTC\n",
      " nchan: 31\n",
      " projs: []\n",
      " sfreq: 500.0 Hz\n",
      ">\n",
      "EEG channel type selected for re-referencing\n",
      "Adding average EEG reference projection.\n",
      "1 projection items deactivated\n",
      "Average reference projection was added, but has not been applied yet. Use the apply_proj method to apply it.\n",
      "Created an SSP operator (subspace dimension = 1)\n",
      "1 projection items activated\n",
      "SSP projectors applied...\n",
      "<Info | 9 non-empty values\n",
      " bads: []\n",
      " ch_names: Fp1, Fz, F3, F7, FC5, FC1, C3, T7, CP5, CP1, Pz, P3, P7, O1, Oz, ...\n",
      " chs: 31 EEG\n",
      " custom_ref_applied: False\n",
      " dig: 34 items (3 Cardinal, 31 EEG)\n",
      " highpass: 0.0 Hz\n",
      " lowpass: 45.0 Hz\n",
      " meas_date: 2019-03-05 10:37:21 UTC\n",
      " nchan: 31\n",
      " projs: Average EEG reference: on\n",
      " sfreq: 500.0 Hz\n",
      ">\n"
     ]
    }
   ],
   "source": [
    "raw_control.crop(0,150)\n",
    "raw_control = raw_control.resample(sfreq=SFREQ)\n",
    "set_montage(raw_control)\n",
    "raw_control = band_pass_filter(raw_control)\n",
    "raw_control = rereferencing(raw_control)"
   ]
  },
  {
   "cell_type": "code",
   "execution_count": 19,
   "metadata": {},
   "outputs": [
    {
     "name": "stdout",
     "output_type": "stream",
     "text": [
      "<Info | 9 non-empty values\n",
      " bads: []\n",
      " ch_names: Fp1, Fz, F3, F7, FC5, FC1, C3, T7, CP5, CP1, Pz, P3, P7, O1, Oz, ...\n",
      " chs: 31 EEG\n",
      " custom_ref_applied: False\n",
      " dig: 34 items (3 Cardinal, 31 EEG)\n",
      " highpass: 0.0 Hz\n",
      " lowpass: 45.0 Hz\n",
      " meas_date: 2019-03-05 10:37:21 UTC\n",
      " nchan: 31\n",
      " projs: Average EEG reference: on\n",
      " sfreq: 500.0 Hz\n",
      ">\n",
      "NOTE: plot_psd() is a legacy function. New code should use .compute_psd().plot().\n",
      "Effective window size : 4.096 (s)\n"
     ]
    },
    {
     "name": "stdout",
     "output_type": "stream",
     "text": [
      "Channels marked as bad:\n",
      "none\n"
     ]
    }
   ],
   "source": [
    "time_amplitude(raw_control, \"f\")\n",
    "psd(raw_control, \"d\")"
   ]
  },
  {
   "cell_type": "markdown",
   "metadata": {},
   "source": [
    "### 1. PSD graph plot between MDD and Control group\n",
    "\n",
    "For resting state EEG channel, analyzing the overall average power across channels provides a holistic view of the brain's activity without emphasizing the specificity of individual channels."
   ]
  },
  {
   "cell_type": "markdown",
   "metadata": {},
   "source": [
    "1.1 Comparison between MDD vs Control group PSD's for average of all channels\n",
    "\n",
    "Assuming alpha2 (10-13Hz) and theta (4-8Hz)"
   ]
  },
  {
   "cell_type": "code",
   "execution_count": 20,
   "metadata": {},
   "outputs": [
    {
     "name": "stdout",
     "output_type": "stream",
     "text": [
      "NOTE: plot_psd() is a legacy function. New code should use .compute_psd().plot().\n",
      "Effective window size : 4.096 (s)\n",
      "NOTE: plot_psd() is a legacy function. New code should use .compute_psd().plot().\n",
      "Effective window size : 4.096 (s)\n"
     ]
    },
    {
     "name": "stderr",
     "output_type": "stream",
     "text": [
      "No artists with labels found to put in legend.  Note that artists whose label start with an underscore are ignored when legend() is called with no argument.\n"
     ]
    }
   ],
   "source": [
    "fmin=0.01\n",
    "fmax=45\n",
    "\n",
    "fig, ax = plt.subplots()\n",
    "raw_MDD.plot_psd(picks=raw_MDD.info['ch_names'], average=True, fmax=fmax, ax=ax, show=False, color='blue')\n",
    "raw_control.plot_psd(picks=raw_control.info['ch_names'], average=True, fmax=fmax, ax=ax, show=False, color='red')\n",
    "\n",
    "ax.set_xlabel('Frequency (Hz)')\n",
    "ax.set_ylabel('Power/Frequency (dB/Hz)')\n",
    "ax.set_title('Power Spectral Density Comparison')\n",
    "ax.legend()\n",
    "plt.show()\n",
    "\n",
    "# labels = np.arange(0, fmax)\n",
    "# psd_MDD, frequencies = mne.time_frequency.psd_array_welch(raw_MDD.get_data(), fmin=fmin, fmax=fmax, sfreq=SFREQ)\n",
    "# psd_control, frequencies = mne.time_frequency.psd_array_welch(raw_control.get_data(), fmin=0.01, fmax=45, sfreq=SFREQ)\n",
    "\n",
    "# avg_abs_power_MDD, avg_abs_power_control = np.mean(np.abs(psd_MDD), axis=0), np.mean(np.abs(psd_control), axis=0) \n",
    "\n",
    "# plt.figure()\n",
    "# plt.plot(frequencies, avg_abs_power_MDD, color='blue')\n",
    "# plt.plot(frequencies, avg_abs_power_control, color='red')\n",
    "# plt.title('Average Absolute Power')\n",
    "# plt.xlabel('Frequency (Hz)')\n",
    "# plt.xticks(labels, labels, rotation ='vertical') \n",
    "# plt.ylabel('Power')\n",
    "# plt.show()"
   ]
  },
  {
   "cell_type": "markdown",
   "metadata": {},
   "source": [
    "### 2. Epoching"
   ]
  },
  {
   "cell_type": "code",
   "execution_count": 21,
   "metadata": {},
   "outputs": [],
   "source": [
    "duration = 4.0\n",
    "overlap = 2.0 \n",
    "\n",
    "samples_per_epoch = int(duration * SFREQ)\n",
    "samples_per_overlap = int(overlap * SFREQ)\n",
    "\n",
    "# Manually created events\n",
    "start, stop = 0, samples_per_epoch\n",
    "events = []\n",
    "while stop <= len(raw_MDD): # TODO: raw_MDD length == raw_control length cross check!\n",
    "    events.append([start, 0, 1]) \n",
    "    start += samples_per_overlap\n",
    "    stop += samples_per_overlap\n",
    "\n",
    "events = np.array(events)"
   ]
  },
  {
   "cell_type": "markdown",
   "metadata": {},
   "source": [
    "2.1 Segmenting epochs for MDD"
   ]
  },
  {
   "cell_type": "code",
   "execution_count": 22,
   "metadata": {},
   "outputs": [
    {
     "name": "stdout",
     "output_type": "stream",
     "text": [
      "Not setting metadata\n",
      "73 matching events found\n",
      "No baseline correction applied\n",
      "Created an SSP operator (subspace dimension = 1)\n",
      "1 projection items activated\n",
      "Using data from preloaded Raw for 73 events and 2001 original time points ...\n",
      "0 bad epochs dropped\n"
     ]
    },
    {
     "name": "stderr",
     "output_type": "stream",
     "text": [
      "C:\\Users\\vishw\\AppData\\Local\\Temp\\ipykernel_22756\\4094942778.py:4: FutureWarning: The current default events=None is deprecated and will change to events=True in MNE 1.6. Set events=False to suppress this warning.\n",
      "  epochs_MDD.plot(n_channels=len(raw_MDD.info['ch_names']), event_color={1:'r'}, events=None, scalings=SCALINGS)\n"
     ]
    },
    {
     "data": {
      "text/plain": [
       "<MNEBrowseFigure size 1706.67x889.333 with 4 Axes>"
      ]
     },
     "execution_count": 22,
     "metadata": {},
     "output_type": "execute_result"
    },
    {
     "name": "stdout",
     "output_type": "stream",
     "text": [
      "Dropped 1 epoch: 15\n",
      "The following epochs were marked as bad and are dropped:\n",
      "[15]\n",
      "Channels marked as bad:\n",
      "none\n",
      "Channels marked as bad:\n",
      "none\n"
     ]
    }
   ],
   "source": [
    "epochs_MDD = mne.Epochs(raw_MDD, events, tmin=0, tmax=duration, baseline=None, detrend=1,\n",
    "                    picks=None, preload=True, reject=None)\n",
    "raw_MDD.plot(n_channels=len(raw_MDD.info['ch_names']), events=events, event_color={1:'r'}, scalings=SCALINGS)\n",
    "epochs_MDD.plot(n_channels=len(raw_MDD.info['ch_names']), event_color={1:'r'}, events=None, scalings=SCALINGS)"
   ]
  },
  {
   "cell_type": "markdown",
   "metadata": {},
   "source": [
    "2.2 Segmenting epochs for control"
   ]
  },
  {
   "cell_type": "code",
   "execution_count": 23,
   "metadata": {},
   "outputs": [
    {
     "name": "stdout",
     "output_type": "stream",
     "text": [
      "Not setting metadata\n",
      "73 matching events found\n",
      "No baseline correction applied\n",
      "Created an SSP operator (subspace dimension = 1)\n",
      "1 projection items activated\n",
      "Using data from preloaded Raw for 73 events and 2001 original time points ...\n",
      "0 bad epochs dropped\n"
     ]
    },
    {
     "name": "stderr",
     "output_type": "stream",
     "text": [
      "C:\\Users\\vishw\\AppData\\Local\\Temp\\ipykernel_22756\\1285345460.py:4: FutureWarning: The current default events=None is deprecated and will change to events=True in MNE 1.6. Set events=False to suppress this warning.\n",
      "  epochs_control.plot(n_channels=len(raw_MDD.info['ch_names']), event_color={1:'r'}, events=None, scalings=SCALINGS)\n"
     ]
    },
    {
     "data": {
      "text/plain": [
       "<MNEBrowseFigure size 1706.67x889.333 with 4 Axes>"
      ]
     },
     "execution_count": 23,
     "metadata": {},
     "output_type": "execute_result"
    },
    {
     "name": "stdout",
     "output_type": "stream",
     "text": [
      "Dropped 1 epoch: 16\n",
      "The following epochs were marked as bad and are dropped:\n",
      "[16]\n",
      "Channels marked as bad:\n",
      "none\n",
      "Channels marked as bad:\n",
      "['Fp1']\n"
     ]
    }
   ],
   "source": [
    "epochs_control = mne.Epochs(raw_control, events, tmin=0, tmax=duration, baseline=None, detrend=1,\n",
    "                    picks=None, preload=True, reject=None)\n",
    "raw_control.plot(n_channels=len(raw_MDD.info['ch_names']), events=events, event_color={1:'r'}, scalings=SCALINGS)\n",
    "epochs_control.plot(n_channels=len(raw_MDD.info['ch_names']), event_color={1:'r'}, events=None, scalings=SCALINGS)"
   ]
  },
  {
   "cell_type": "markdown",
   "metadata": {},
   "source": [
    "### 3. PLI and construction of brain function matrices"
   ]
  },
  {
   "cell_type": "code",
   "execution_count": 24,
   "metadata": {},
   "outputs": [],
   "source": [
    "freq_bands = [(0.01, 4), (4,8), (8, 10)]\n",
    "mapping = {0: 'delta', 1: 'theta', 2: 'alpha1'}\n",
    "connectivity = {}"
   ]
  },
  {
   "cell_type": "code",
   "execution_count": 25,
   "metadata": {},
   "outputs": [],
   "source": [
    "def connectivity_matrix(epochs, i):\n",
    "    return spectral_connectivity_epochs(\n",
    "    epochs, method='pli', mode='multitaper', sfreq=SFREQ,\n",
    "    fmin=freq_bands[i][0], fmax=freq_bands[i][1], faverage=True, n_jobs=1)\n"
   ]
  },
  {
   "cell_type": "code",
   "execution_count": 30,
   "metadata": {},
   "outputs": [
    {
     "name": "stdout",
     "output_type": "stream",
     "text": [
      "Replacing existing metadata with 3 columns\n",
      "Connectivity computation...\n",
      "only using indices for lower-triangular matrix\n",
      "    computing connectivity for 465 connections\n",
      "    using t=0.000s..4.000s for estimation (2001 points)\n",
      "    frequencies: 0.2Hz..4.0Hz (16 points)\n",
      "    connectivity scores will be averaged for each band\n",
      "    Using multitaper spectrum estimation with 7 DPSS windows\n",
      "    the following metrics will be computed: PLI\n",
      "    computing connectivity for epoch 1\n",
      "    computing connectivity for epoch 2\n",
      "    computing connectivity for epoch 3\n",
      "    computing connectivity for epoch 4\n",
      "    computing connectivity for epoch 5\n",
      "    computing connectivity for epoch 6\n",
      "    computing connectivity for epoch 7\n",
      "    computing connectivity for epoch 8\n",
      "    computing connectivity for epoch 9\n",
      "    computing connectivity for epoch 10\n",
      "    computing connectivity for epoch 11\n",
      "    computing connectivity for epoch 12\n",
      "    computing connectivity for epoch 13\n",
      "    computing connectivity for epoch 14\n",
      "    computing connectivity for epoch 15\n",
      "    computing connectivity for epoch 16\n",
      "    computing connectivity for epoch 17\n",
      "    computing connectivity for epoch 18\n",
      "    computing connectivity for epoch 19\n"
     ]
    },
    {
     "name": "stderr",
     "output_type": "stream",
     "text": [
      "C:\\Users\\vishw\\AppData\\Local\\Temp\\ipykernel_22756\\4041234588.py:2: RuntimeWarning: fmin=0.010 Hz corresponds to 0.040 < 5 cycles based on the epoch length 4.002 sec, need at least 500.000 sec epochs or fmin=1.249. Spectrum estimate will be unreliable.\n",
      "  return spectral_connectivity_epochs(\n"
     ]
    },
    {
     "name": "stdout",
     "output_type": "stream",
     "text": [
      "    computing connectivity for epoch 20\n",
      "    computing connectivity for epoch 21\n",
      "    computing connectivity for epoch 22\n",
      "    computing connectivity for epoch 23\n",
      "    computing connectivity for epoch 24\n",
      "    computing connectivity for epoch 25\n",
      "    computing connectivity for epoch 26\n",
      "    computing connectivity for epoch 27\n",
      "    computing connectivity for epoch 28\n",
      "    computing connectivity for epoch 29\n",
      "    computing connectivity for epoch 30\n",
      "    computing connectivity for epoch 31\n",
      "    computing connectivity for epoch 32\n",
      "    computing connectivity for epoch 33\n",
      "    computing connectivity for epoch 34\n",
      "    computing connectivity for epoch 35\n",
      "    computing connectivity for epoch 36\n",
      "    computing connectivity for epoch 37\n",
      "    computing connectivity for epoch 38\n",
      "    computing connectivity for epoch 39\n",
      "    computing connectivity for epoch 40\n",
      "    computing connectivity for epoch 41\n",
      "    computing connectivity for epoch 42\n",
      "    computing connectivity for epoch 43\n",
      "    computing connectivity for epoch 44\n",
      "    computing connectivity for epoch 45\n",
      "    computing connectivity for epoch 46\n",
      "    computing connectivity for epoch 47\n",
      "    computing connectivity for epoch 48\n",
      "    computing connectivity for epoch 49\n",
      "    computing connectivity for epoch 50\n",
      "    computing connectivity for epoch 51\n",
      "    computing connectivity for epoch 52\n",
      "    computing connectivity for epoch 53\n",
      "    computing connectivity for epoch 54\n",
      "    computing connectivity for epoch 55\n",
      "    computing connectivity for epoch 56\n",
      "    computing connectivity for epoch 57\n",
      "    computing connectivity for epoch 58\n",
      "    computing connectivity for epoch 59\n",
      "    computing connectivity for epoch 60\n",
      "    computing connectivity for epoch 61\n",
      "    computing connectivity for epoch 62\n",
      "    computing connectivity for epoch 63\n",
      "    computing connectivity for epoch 64\n",
      "    computing connectivity for epoch 65\n",
      "    computing connectivity for epoch 66\n",
      "    computing connectivity for epoch 67\n",
      "    computing connectivity for epoch 68\n",
      "    computing connectivity for epoch 69\n",
      "    computing connectivity for epoch 70\n",
      "    computing connectivity for epoch 71\n",
      "    computing connectivity for epoch 72\n",
      "    assembling connectivity matrix\n",
      "[Connectivity computation done]\n",
      "Adding metadata with 3 columns\n",
      "Connectivity computation...\n",
      "only using indices for lower-triangular matrix\n",
      "    computing connectivity for 465 connections\n",
      "    using t=0.000s..4.000s for estimation (2001 points)\n",
      "    frequencies: 0.2Hz..4.0Hz (16 points)\n",
      "    connectivity scores will be averaged for each band\n",
      "    Using multitaper spectrum estimation with 7 DPSS windows\n",
      "    the following metrics will be computed: PLI\n",
      "    computing connectivity for epoch 1\n",
      "    computing connectivity for epoch 2\n",
      "    computing connectivity for epoch 3\n",
      "    computing connectivity for epoch 4\n",
      "    computing connectivity for epoch 5\n",
      "    computing connectivity for epoch 6\n",
      "    computing connectivity for epoch 7\n",
      "    computing connectivity for epoch 8\n",
      "    computing connectivity for epoch 9\n",
      "    computing connectivity for epoch 10\n",
      "    computing connectivity for epoch 11\n",
      "    computing connectivity for epoch 12\n",
      "    computing connectivity for epoch 13\n",
      "    computing connectivity for epoch 14\n"
     ]
    },
    {
     "name": "stderr",
     "output_type": "stream",
     "text": [
      "C:\\Users\\vishw\\AppData\\Local\\Temp\\ipykernel_22756\\4041234588.py:2: RuntimeWarning: fmin=0.010 Hz corresponds to 0.040 < 5 cycles based on the epoch length 4.002 sec, need at least 500.000 sec epochs or fmin=1.249. Spectrum estimate will be unreliable.\n",
      "  return spectral_connectivity_epochs(\n"
     ]
    },
    {
     "name": "stdout",
     "output_type": "stream",
     "text": [
      "    computing connectivity for epoch 15\n",
      "    computing connectivity for epoch 16\n",
      "    computing connectivity for epoch 17\n",
      "    computing connectivity for epoch 18\n",
      "    computing connectivity for epoch 19\n",
      "    computing connectivity for epoch 20\n",
      "    computing connectivity for epoch 21\n",
      "    computing connectivity for epoch 22\n",
      "    computing connectivity for epoch 23\n",
      "    computing connectivity for epoch 24\n",
      "    computing connectivity for epoch 25\n",
      "    computing connectivity for epoch 26\n",
      "    computing connectivity for epoch 27\n",
      "    computing connectivity for epoch 28\n",
      "    computing connectivity for epoch 29\n",
      "    computing connectivity for epoch 30\n",
      "    computing connectivity for epoch 31\n",
      "    computing connectivity for epoch 32\n",
      "    computing connectivity for epoch 33\n",
      "    computing connectivity for epoch 34\n",
      "    computing connectivity for epoch 35\n",
      "    computing connectivity for epoch 36\n",
      "    computing connectivity for epoch 37\n",
      "    computing connectivity for epoch 38\n",
      "    computing connectivity for epoch 39\n",
      "    computing connectivity for epoch 40\n",
      "    computing connectivity for epoch 41\n",
      "    computing connectivity for epoch 42\n",
      "    computing connectivity for epoch 43\n",
      "    computing connectivity for epoch 44\n",
      "    computing connectivity for epoch 45\n",
      "    computing connectivity for epoch 46\n",
      "    computing connectivity for epoch 47\n",
      "    computing connectivity for epoch 48\n",
      "    computing connectivity for epoch 49\n",
      "    computing connectivity for epoch 50\n",
      "    computing connectivity for epoch 51\n",
      "    computing connectivity for epoch 52\n",
      "    computing connectivity for epoch 53\n",
      "    computing connectivity for epoch 54\n",
      "    computing connectivity for epoch 55\n",
      "    computing connectivity for epoch 56\n",
      "    computing connectivity for epoch 57\n",
      "    computing connectivity for epoch 58\n",
      "    computing connectivity for epoch 59\n",
      "    computing connectivity for epoch 60\n",
      "    computing connectivity for epoch 61\n",
      "    computing connectivity for epoch 62\n",
      "    computing connectivity for epoch 63\n",
      "    computing connectivity for epoch 64\n",
      "    computing connectivity for epoch 65\n",
      "    computing connectivity for epoch 66\n",
      "    computing connectivity for epoch 67\n",
      "    computing connectivity for epoch 68\n",
      "    computing connectivity for epoch 69\n",
      "    computing connectivity for epoch 70\n",
      "    computing connectivity for epoch 71\n",
      "    computing connectivity for epoch 72\n",
      "    assembling connectivity matrix\n",
      "[Connectivity computation done]\n",
      "Replacing existing metadata with 3 columns\n",
      "Connectivity computation...\n",
      "only using indices for lower-triangular matrix\n",
      "    computing connectivity for 465 connections\n",
      "    using t=0.000s..4.000s for estimation (2001 points)\n",
      "    frequencies: 4.2Hz..8.0Hz (16 points)\n",
      "    connectivity scores will be averaged for each band\n",
      "    Using multitaper spectrum estimation with 7 DPSS windows\n",
      "    the following metrics will be computed: PLI\n",
      "    computing connectivity for epoch 1\n",
      "    computing connectivity for epoch 2\n",
      "    computing connectivity for epoch 3\n",
      "    computing connectivity for epoch 4\n",
      "    computing connectivity for epoch 5\n",
      "    computing connectivity for epoch 6\n",
      "    computing connectivity for epoch 7\n",
      "    computing connectivity for epoch 8\n",
      "    computing connectivity for epoch 9\n",
      "    computing connectivity for epoch 10\n",
      "    computing connectivity for epoch 11\n",
      "    computing connectivity for epoch 12\n",
      "    computing connectivity for epoch 13\n",
      "    computing connectivity for epoch 14\n",
      "    computing connectivity for epoch 15\n",
      "    computing connectivity for epoch 16\n",
      "    computing connectivity for epoch 17\n",
      "    computing connectivity for epoch 18\n",
      "    computing connectivity for epoch 19\n",
      "    computing connectivity for epoch 20\n",
      "    computing connectivity for epoch 21\n",
      "    computing connectivity for epoch 22\n",
      "    computing connectivity for epoch 23\n",
      "    computing connectivity for epoch 24\n",
      "    computing connectivity for epoch 25\n",
      "    computing connectivity for epoch 26\n",
      "    computing connectivity for epoch 27\n",
      "    computing connectivity for epoch 28\n",
      "    computing connectivity for epoch 29\n",
      "    computing connectivity for epoch 30\n",
      "    computing connectivity for epoch 31\n",
      "    computing connectivity for epoch 32\n",
      "    computing connectivity for epoch 33\n",
      "    computing connectivity for epoch 34\n",
      "    computing connectivity for epoch 35\n",
      "    computing connectivity for epoch 36\n",
      "    computing connectivity for epoch 37\n",
      "    computing connectivity for epoch 38\n",
      "    computing connectivity for epoch 39\n",
      "    computing connectivity for epoch 40\n",
      "    computing connectivity for epoch 41\n",
      "    computing connectivity for epoch 42\n",
      "    computing connectivity for epoch 43\n",
      "    computing connectivity for epoch 44\n",
      "    computing connectivity for epoch 45\n",
      "    computing connectivity for epoch 46\n",
      "    computing connectivity for epoch 47\n",
      "    computing connectivity for epoch 48\n",
      "    computing connectivity for epoch 49\n",
      "    computing connectivity for epoch 50\n",
      "    computing connectivity for epoch 51\n",
      "    computing connectivity for epoch 52\n",
      "    computing connectivity for epoch 53\n",
      "    computing connectivity for epoch 54\n",
      "    computing connectivity for epoch 55\n",
      "    computing connectivity for epoch 56\n",
      "    computing connectivity for epoch 57\n",
      "    computing connectivity for epoch 58\n",
      "    computing connectivity for epoch 59\n",
      "    computing connectivity for epoch 60\n",
      "    computing connectivity for epoch 61\n",
      "    computing connectivity for epoch 62\n",
      "    computing connectivity for epoch 63\n",
      "    computing connectivity for epoch 64\n",
      "    computing connectivity for epoch 65\n",
      "    computing connectivity for epoch 66\n",
      "    computing connectivity for epoch 67\n",
      "    computing connectivity for epoch 68\n",
      "    computing connectivity for epoch 69\n",
      "    computing connectivity for epoch 70\n",
      "    computing connectivity for epoch 71\n",
      "    computing connectivity for epoch 72\n",
      "    assembling connectivity matrix\n",
      "[Connectivity computation done]\n",
      "Replacing existing metadata with 3 columns\n",
      "Connectivity computation...\n",
      "only using indices for lower-triangular matrix\n",
      "    computing connectivity for 465 connections\n",
      "    using t=0.000s..4.000s for estimation (2001 points)\n",
      "    frequencies: 4.2Hz..8.0Hz (16 points)\n",
      "    connectivity scores will be averaged for each band\n",
      "    Using multitaper spectrum estimation with 7 DPSS windows\n",
      "    the following metrics will be computed: PLI\n",
      "    computing connectivity for epoch 1\n",
      "    computing connectivity for epoch 2\n",
      "    computing connectivity for epoch 3\n",
      "    computing connectivity for epoch 4\n",
      "    computing connectivity for epoch 5\n",
      "    computing connectivity for epoch 6\n",
      "    computing connectivity for epoch 7\n",
      "    computing connectivity for epoch 8\n",
      "    computing connectivity for epoch 9\n",
      "    computing connectivity for epoch 10\n",
      "    computing connectivity for epoch 11\n",
      "    computing connectivity for epoch 12\n",
      "    computing connectivity for epoch 13\n",
      "    computing connectivity for epoch 14\n",
      "    computing connectivity for epoch 15\n",
      "    computing connectivity for epoch 16\n",
      "    computing connectivity for epoch 17\n",
      "    computing connectivity for epoch 18\n",
      "    computing connectivity for epoch 19\n",
      "    computing connectivity for epoch 20\n",
      "    computing connectivity for epoch 21\n",
      "    computing connectivity for epoch 22\n",
      "    computing connectivity for epoch 23\n",
      "    computing connectivity for epoch 24\n",
      "    computing connectivity for epoch 25\n",
      "    computing connectivity for epoch 26\n",
      "    computing connectivity for epoch 27\n",
      "    computing connectivity for epoch 28\n",
      "    computing connectivity for epoch 29\n",
      "    computing connectivity for epoch 30\n",
      "    computing connectivity for epoch 31\n",
      "    computing connectivity for epoch 32\n",
      "    computing connectivity for epoch 33\n",
      "    computing connectivity for epoch 34\n",
      "    computing connectivity for epoch 35\n",
      "    computing connectivity for epoch 36\n",
      "    computing connectivity for epoch 37\n",
      "    computing connectivity for epoch 38\n",
      "    computing connectivity for epoch 39\n",
      "    computing connectivity for epoch 40\n",
      "    computing connectivity for epoch 41\n",
      "    computing connectivity for epoch 42\n",
      "    computing connectivity for epoch 43\n",
      "    computing connectivity for epoch 44\n",
      "    computing connectivity for epoch 45\n",
      "    computing connectivity for epoch 46\n",
      "    computing connectivity for epoch 47\n",
      "    computing connectivity for epoch 48\n",
      "    computing connectivity for epoch 49\n",
      "    computing connectivity for epoch 50\n",
      "    computing connectivity for epoch 51\n",
      "    computing connectivity for epoch 52\n",
      "    computing connectivity for epoch 53\n",
      "    computing connectivity for epoch 54\n",
      "    computing connectivity for epoch 55\n",
      "    computing connectivity for epoch 56\n",
      "    computing connectivity for epoch 57\n",
      "    computing connectivity for epoch 58\n",
      "    computing connectivity for epoch 59\n",
      "    computing connectivity for epoch 60\n",
      "    computing connectivity for epoch 61\n",
      "    computing connectivity for epoch 62\n",
      "    computing connectivity for epoch 63\n",
      "    computing connectivity for epoch 64\n",
      "    computing connectivity for epoch 65\n",
      "    computing connectivity for epoch 66\n",
      "    computing connectivity for epoch 67\n",
      "    computing connectivity for epoch 68\n",
      "    computing connectivity for epoch 69\n",
      "    computing connectivity for epoch 70\n",
      "    computing connectivity for epoch 71\n",
      "    computing connectivity for epoch 72\n",
      "    assembling connectivity matrix\n",
      "[Connectivity computation done]\n",
      "Replacing existing metadata with 3 columns\n",
      "Connectivity computation...\n",
      "only using indices for lower-triangular matrix\n",
      "    computing connectivity for 465 connections\n",
      "    using t=0.000s..4.000s for estimation (2001 points)\n",
      "    frequencies: 8.2Hz..10.0Hz (8 points)\n",
      "    connectivity scores will be averaged for each band\n",
      "    Using multitaper spectrum estimation with 7 DPSS windows\n",
      "    the following metrics will be computed: PLI\n",
      "    computing connectivity for epoch 1\n",
      "    computing connectivity for epoch 2\n",
      "    computing connectivity for epoch 3\n",
      "    computing connectivity for epoch 4\n",
      "    computing connectivity for epoch 5\n",
      "    computing connectivity for epoch 6\n",
      "    computing connectivity for epoch 7\n",
      "    computing connectivity for epoch 8\n",
      "    computing connectivity for epoch 9\n",
      "    computing connectivity for epoch 10\n",
      "    computing connectivity for epoch 11\n",
      "    computing connectivity for epoch 12\n",
      "    computing connectivity for epoch 13\n",
      "    computing connectivity for epoch 14\n",
      "    computing connectivity for epoch 15\n",
      "    computing connectivity for epoch 16\n",
      "    computing connectivity for epoch 17\n",
      "    computing connectivity for epoch 18\n",
      "    computing connectivity for epoch 19\n",
      "    computing connectivity for epoch 20\n",
      "    computing connectivity for epoch 21\n",
      "    computing connectivity for epoch 22\n",
      "    computing connectivity for epoch 23\n",
      "    computing connectivity for epoch 24\n",
      "    computing connectivity for epoch 25\n",
      "    computing connectivity for epoch 26\n",
      "    computing connectivity for epoch 27\n",
      "    computing connectivity for epoch 28\n",
      "    computing connectivity for epoch 29\n",
      "    computing connectivity for epoch 30\n",
      "    computing connectivity for epoch 31\n",
      "    computing connectivity for epoch 32\n",
      "    computing connectivity for epoch 33\n",
      "    computing connectivity for epoch 34\n",
      "    computing connectivity for epoch 35\n",
      "    computing connectivity for epoch 36\n",
      "    computing connectivity for epoch 37\n",
      "    computing connectivity for epoch 38\n",
      "    computing connectivity for epoch 39\n",
      "    computing connectivity for epoch 40\n",
      "    computing connectivity for epoch 41\n",
      "    computing connectivity for epoch 42\n",
      "    computing connectivity for epoch 43\n",
      "    computing connectivity for epoch 44\n",
      "    computing connectivity for epoch 45\n",
      "    computing connectivity for epoch 46\n",
      "    computing connectivity for epoch 47\n",
      "    computing connectivity for epoch 48\n",
      "    computing connectivity for epoch 49\n",
      "    computing connectivity for epoch 50\n",
      "    computing connectivity for epoch 51\n",
      "    computing connectivity for epoch 52\n",
      "    computing connectivity for epoch 53\n",
      "    computing connectivity for epoch 54\n",
      "    computing connectivity for epoch 55\n",
      "    computing connectivity for epoch 56\n",
      "    computing connectivity for epoch 57\n",
      "    computing connectivity for epoch 58\n",
      "    computing connectivity for epoch 59\n",
      "    computing connectivity for epoch 60\n",
      "    computing connectivity for epoch 61\n",
      "    computing connectivity for epoch 62\n",
      "    computing connectivity for epoch 63\n",
      "    computing connectivity for epoch 64\n",
      "    computing connectivity for epoch 65\n",
      "    computing connectivity for epoch 66\n",
      "    computing connectivity for epoch 67\n",
      "    computing connectivity for epoch 68\n",
      "    computing connectivity for epoch 69\n",
      "    computing connectivity for epoch 70\n",
      "    computing connectivity for epoch 71\n",
      "    computing connectivity for epoch 72\n",
      "    assembling connectivity matrix\n",
      "[Connectivity computation done]\n",
      "Replacing existing metadata with 3 columns\n",
      "Connectivity computation...\n",
      "only using indices for lower-triangular matrix\n",
      "    computing connectivity for 465 connections\n",
      "    using t=0.000s..4.000s for estimation (2001 points)\n",
      "    frequencies: 8.2Hz..10.0Hz (8 points)\n",
      "    connectivity scores will be averaged for each band\n",
      "    Using multitaper spectrum estimation with 7 DPSS windows\n",
      "    the following metrics will be computed: PLI\n",
      "    computing connectivity for epoch 1\n",
      "    computing connectivity for epoch 2\n",
      "    computing connectivity for epoch 3\n",
      "    computing connectivity for epoch 4\n",
      "    computing connectivity for epoch 5\n",
      "    computing connectivity for epoch 6\n",
      "    computing connectivity for epoch 7\n",
      "    computing connectivity for epoch 8\n",
      "    computing connectivity for epoch 9\n",
      "    computing connectivity for epoch 10\n",
      "    computing connectivity for epoch 11\n",
      "    computing connectivity for epoch 12\n",
      "    computing connectivity for epoch 13\n",
      "    computing connectivity for epoch 14\n",
      "    computing connectivity for epoch 15\n",
      "    computing connectivity for epoch 16\n",
      "    computing connectivity for epoch 17\n",
      "    computing connectivity for epoch 18\n",
      "    computing connectivity for epoch 19\n",
      "    computing connectivity for epoch 20\n",
      "    computing connectivity for epoch 21\n",
      "    computing connectivity for epoch 22\n",
      "    computing connectivity for epoch 23\n",
      "    computing connectivity for epoch 24\n",
      "    computing connectivity for epoch 25\n",
      "    computing connectivity for epoch 26\n",
      "    computing connectivity for epoch 27\n",
      "    computing connectivity for epoch 28\n",
      "    computing connectivity for epoch 29\n",
      "    computing connectivity for epoch 30\n",
      "    computing connectivity for epoch 31\n",
      "    computing connectivity for epoch 32\n",
      "    computing connectivity for epoch 33\n",
      "    computing connectivity for epoch 34\n",
      "    computing connectivity for epoch 35\n",
      "    computing connectivity for epoch 36\n",
      "    computing connectivity for epoch 37\n",
      "    computing connectivity for epoch 38\n",
      "    computing connectivity for epoch 39\n",
      "    computing connectivity for epoch 40\n",
      "    computing connectivity for epoch 41\n",
      "    computing connectivity for epoch 42\n",
      "    computing connectivity for epoch 43\n",
      "    computing connectivity for epoch 44\n",
      "    computing connectivity for epoch 45\n",
      "    computing connectivity for epoch 46\n",
      "    computing connectivity for epoch 47\n",
      "    computing connectivity for epoch 48\n",
      "    computing connectivity for epoch 49\n",
      "    computing connectivity for epoch 50\n",
      "    computing connectivity for epoch 51\n",
      "    computing connectivity for epoch 52\n",
      "    computing connectivity for epoch 53\n",
      "    computing connectivity for epoch 54\n",
      "    computing connectivity for epoch 55\n",
      "    computing connectivity for epoch 56\n",
      "    computing connectivity for epoch 57\n",
      "    computing connectivity for epoch 58\n",
      "    computing connectivity for epoch 59\n",
      "    computing connectivity for epoch 60\n",
      "    computing connectivity for epoch 61\n",
      "    computing connectivity for epoch 62\n",
      "    computing connectivity for epoch 63\n",
      "    computing connectivity for epoch 64\n",
      "    computing connectivity for epoch 65\n",
      "    computing connectivity for epoch 66\n",
      "    computing connectivity for epoch 67\n",
      "    computing connectivity for epoch 68\n",
      "    computing connectivity for epoch 69\n",
      "    computing connectivity for epoch 70\n",
      "    computing connectivity for epoch 71\n",
      "    computing connectivity for epoch 72\n",
      "    assembling connectivity matrix\n",
      "[Connectivity computation done]\n"
     ]
    }
   ],
   "source": [
    "n_channels = len(raw_MDD.info['ch_names'])\n",
    "for i in range(len(freq_bands)):\n",
    "    con = connectivity_matrix(epochs_MDD, i)\n",
    "    connectivity[f'MDD-{mapping[i]}'] = con.get_data().reshape((n_channels, n_channels))\n",
    "\n",
    "    con = connectivity_matrix(epochs_control, i)\n",
    "    connectivity[f'Control-{mapping[i]}'] = con.get_data().reshape((n_channels, n_channels))\n",
    "\n",
    "    # Make matrix symmetric\n",
    "    for row in range(n_channels):\n",
    "        for col in range(n_channels):\n",
    "            connectivity[f'MDD-{mapping[i]}'][row][col] = connectivity[f'MDD-{mapping[i]}'][col][row]\n",
    "            connectivity[f'Control-{mapping[i]}'][row][col] = connectivity[f'Control-{mapping[i]}'][col][row]   "
   ]
  },
  {
   "cell_type": "code",
   "execution_count": 31,
   "metadata": {},
   "outputs": [
    {
     "name": "stdout",
     "output_type": "stream",
     "text": [
      "dict_keys(['MDD-delta', 'Control-delta', 'MDD-theta', 'Control-theta', 'MDD-alpha1', 'Control-alpha1'])\n"
     ]
    }
   ],
   "source": [
    "print((connectivity.keys()))"
   ]
  },
  {
   "cell_type": "code",
   "execution_count": null,
   "metadata": {},
   "outputs": [],
   "source": [
    "# # ALTERNATIVE: PLI calculation in Raw Python\n",
    "\n",
    "# def calculate_pli(data):\n",
    "#     # data = EEG data of channel Ci and Cj for 1 epoch (2000 data points (4s X 500fs))\n",
    "#     analytic_signal = hilbert(data)\n",
    "#     instantaneous_phase = np.angle(analytic_signal)\n",
    "#     return np.abs(np.mean(np.sign(np.diff(instantaneous_phase, axis=0))))\n",
    "\n",
    "# fun_connectivity = []\n",
    "# for k in range(len(epochs)):\n",
    "#     pli_matrix = [[0 for i in range(len(raw_cleaned.info['ch_names']))] for j in range(len(raw_cleaned.info['ch_names']))]\n",
    "#     for i in range(len(raw_cleaned.info['ch_names'])):\n",
    "#         for j in range(i+1, len(raw_cleaned.info['ch_names'])):\n",
    "#             pli_matrix[i][j] = pli_matrix[j][i] = calculate_pli([epochs[k].get_data(fmin = freq_bands[0][0], fmax=freq_bands[-1][-1])[0][i], epochs[k].get_data(fmin = freq_bands[0][0], fmax=freq_bands[-1][-1])[0][j]])\n",
    "\n",
    "#     fun_connectivity.append(pli_matrix)\n",
    "# conn = np.mean(fun_connectivity, axis=0)"
   ]
  },
  {
   "cell_type": "markdown",
   "metadata": {},
   "source": [
    "### 4. Small World Index "
   ]
  },
  {
   "cell_type": "code",
   "execution_count": 32,
   "metadata": {},
   "outputs": [],
   "source": [
    "def calculate_small_world_properties(matrix):\n",
    "    matrix = nx.from_numpy_array(matrix)\n",
    "    Lw = nx.average_shortest_path_length(matrix, weight='weight')\n",
    "    Cw = nx.average_clustering(matrix, weight='weight')\n",
    "    return (Cw, Lw)"
   ]
  },
  {
   "cell_type": "markdown",
   "metadata": {},
   "source": [
    "### 5. Binarization on functional connectivity matrices"
   ]
  },
  {
   "cell_type": "code",
   "execution_count": 33,
   "metadata": {},
   "outputs": [
    {
     "name": "stdout",
     "output_type": "stream",
     "text": [
      "{'delta': 0.16600000000000006, 'theta': 0.18600000000000008, 'alpha1': 0.1960000000000001}\n"
     ]
    }
   ],
   "source": [
    "optimal_threshold = {}\n",
    "for i in range(len(freq_bands)):\n",
    "    Cw_MDD, Lw_MDD = calculate_small_world_properties(connectivity[f'MDD-{mapping[i]}'])\n",
    "    Cw_control, Lw_control = calculate_small_world_properties(connectivity[f'Control-{mapping[i]}'])\n",
    "\n",
    "    # Generating 50 random networks with same number of vertices and edges \n",
    "    random_networks = [nx.gnm_random_graph(n_channels, 496) for _ in range(50)]\n",
    "    Crand = np.mean([nx.average_clustering(G) for G in random_networks])\n",
    "    Lrand = np.mean([nx.average_shortest_path_length(G) for G in random_networks])\n",
    "\n",
    "    small_world_index_MDD =  (Cw_MDD/Crand)/(Lw_MDD/Lrand)\n",
    "    small_world_index_control = (Cw_control/Crand)/(Lw_control/Lrand)\n",
    "\n",
    "    thresholds = np.arange(0.1, 0.9, 0.002)\n",
    "    swi_ratio = small_world_index_MDD/small_world_index_control\n",
    "\n",
    "    ratios = []\n",
    "    for threshold in thresholds:\n",
    "        binarized_MDD = connectivity[f'MDD-{mapping[i]}'] > threshold\n",
    "        binarized_control = connectivity[f'Control-{mapping[i]}'] > threshold\n",
    "\n",
    "        # TODO: Cross check should we ignore thresholds which result in matrix to be not connected ?\n",
    "        if nx.is_connected(nx.from_numpy_array(binarized_MDD)) and nx.is_connected(nx.from_numpy_array(binarized_control)):\n",
    "            Cw_MDD_binarized, Lw_MDD_binarized = calculate_small_world_properties(binarized_MDD)\n",
    "            Cw_control_binarized, Lw_control_binarized = calculate_small_world_properties(binarized_control)\n",
    "\n",
    "            swi_binarized_MDD =  (Cw_MDD_binarized/Crand)/(Lw_MDD_binarized/Lrand)\n",
    "            swi_binarized_control = (Cw_control_binarized/Crand)/(Lw_control_binarized/Lrand)\n",
    "            \n",
    "            swi_ratio_binarized =  swi_binarized_MDD/swi_binarized_control\n",
    "            ratios.append(swi_ratio_binarized)\n",
    "        else:\n",
    "            ratios.append(0.0)\n",
    "\n",
    "    optimal_threshold[mapping[i]] = thresholds[np.argmax(np.abs(ratios - swi_ratio))]\n",
    "\n",
    "    # _, p_value = mne.stats.ttest_ind_no_p(connectivity[f'MDD-{mapping[i]}'], connectivity[f'Control-{mapping[i]}'])\n",
    "    # if p_value < 0.001:\n",
    "    #     print(f\"Optimal Threshold: {optimal_threshold} (Significant)\")\n",
    "\n",
    "    plt.plot(thresholds, ratios, label='Threshold Ratios')\n",
    "    plt.axhline(swi_ratio, color='red', linestyle='--', label=' SWI ratio (MDD/Control)')\n",
    "    plt.xlabel(f'Threshold-{mapping[i]}')\n",
    "    plt.ylabel('Ratio')\n",
    "    plt.legend()\n",
    "    plt.show()\n",
    "print(optimal_threshold)"
   ]
  },
  {
   "cell_type": "code",
   "execution_count": 34,
   "metadata": {},
   "outputs": [],
   "source": [
    "binarized_matrix = {}\n",
    "for i in range(len(freq_bands)):\n",
    "    binarized_matrix[f'MDD-{mapping[i]}'] = connectivity[f'MDD-{mapping[i]}'] > optimal_threshold[mapping[i]]\n",
    "    binarized_matrix[f'Control-{mapping[i]}'] = connectivity[f'Control-{mapping[i]}'] > optimal_threshold[mapping[i]]"
   ]
  },
  {
   "cell_type": "code",
   "execution_count": 35,
   "metadata": {},
   "outputs": [
    {
     "name": "stdout",
     "output_type": "stream",
     "text": [
      "dict_keys(['MDD-delta', 'Control-delta', 'MDD-theta', 'Control-theta', 'MDD-alpha1', 'Control-alpha1'])\n"
     ]
    }
   ],
   "source": [
    "print(binarized_matrix.keys())"
   ]
  },
  {
   "cell_type": "code",
   "execution_count": 47,
   "metadata": {},
   "outputs": [],
   "source": [
    "# Yellow - Higher synchronisation\n",
    "for i in range(len(binarized_matrix)//2):\n",
    "    # i = 0, 1, 2\n",
    "    plt.figure(figsize=(12, 4))\n",
    "    for j in range(2):\n",
    "        # j = 0, 1\n",
    "        plt.subplot(1, 2, j+1)\n",
    "        plt.imshow(list(binarized_matrix.values())[2*i+j], interpolation='none')\n",
    "        plt.title(f'Functional connectivity - {list(binarized_matrix)[2*i+j]} - Visualization')\n",
    "        plt.xticks([_ for _ in range(n_channels)], raw_MDD.info['ch_names'], rotation='vertical')\n",
    "        plt.yticks([_ for _ in range(n_channels)], raw_MDD.info['ch_names'], rotation='horizontal')\n",
    "        plt.grid(True, which='both', linestyle='--', linewidth=0.5)\n",
    "    plt.show()"
   ]
  },
  {
   "cell_type": "markdown",
   "metadata": {},
   "source": [
    "### 6. Difference matrix"
   ]
  },
  {
   "cell_type": "code",
   "execution_count": null,
   "metadata": {},
   "outputs": [],
   "source": [
    "def return_index(channels_list):\n",
    "    indexes = []\n",
    "    for channel in channels_list:\n",
    "        for i in range(len(raw_MDD.info['ch_names'])):\n",
    "            if raw_MDD.info['ch_names'][i]==channel:\n",
    "                indexes.append(i)\n",
    "    return(indexes)"
   ]
  },
  {
   "cell_type": "code",
   "execution_count": 52,
   "metadata": {},
   "outputs": [
    {
     "data": {
      "text/plain": [
       "[20, 17, 12, 30, 0]"
      ]
     },
     "execution_count": 52,
     "metadata": {},
     "output_type": "execute_result"
    }
   ],
   "source": [
    "raw_MDD.info['ch_names']\n",
    "central_channels = return_index(['Pz', 'Oz', 'Fz'])\n",
    "central_channels"
   ]
  },
  {
   "cell_type": "code",
   "execution_count": 51,
   "metadata": {},
   "outputs": [
    {
     "name": "stderr",
     "output_type": "stream",
     "text": [
      "ERROR:root:Cannot activate multiple GUI eventloops\n"
     ]
    },
    {
     "name": "stdout",
     "output_type": "stream",
     "text": [
      "[[ 0 -1  0 -1 -1 -1  1  0  0  1  0 -1  0  1  1  1  0  0  0  0  0  0  1 -1\n",
      "   0  1  0  1  0  1 -1]\n",
      " [-1  0  1  0  0 -1  0  0  1  0  1 -1  0  1  1 -1 -1  0 -1  0  0  1  1  1\n",
      "   1  0  1  1  0  1  0]\n",
      " [ 0  1  0  0  0  0  0  0  0  0  1  1  0  0  0 -1 -1  0  0  1  0  1  1  0\n",
      "   1  1  0  0 -1 -1  1]\n",
      " [-1  0  0  0 -1  0 -1  0 -1  0  0 -1  0  1  0 -1  0  0  0  0  0 -1 -1  0\n",
      "  -1  0 -1 -1  0 -1 -1]\n",
      " [-1  0  0 -1  0  0  0  0 -1 -1  0 -1  0  0 -1 -1  0  0  0  0  0  1 -1  0\n",
      "  -1  0  0  0 -1 -1 -1]\n",
      " [-1 -1  0  0  0  0  1  0  0  0  0 -1  0  0 -1  1 -1  0  0  0  0  0  0  0\n",
      "   0 -1 -1  0  1  0  0]\n",
      " [ 1  0  0 -1  0  1  0 -1  0  1  1  1  0 -1 -1 -1  0  0  1  1  0  1  0 -1\n",
      "  -1  1  0  0 -1 -1  1]\n",
      " [ 0  0  0  0  0  0 -1  0 -1 -1  0 -1  0  0  0  1  0  0  1  0  0  0  0  0\n",
      "   1  0 -1  0  0 -1 -1]\n",
      " [ 0  1  0 -1 -1  0  0 -1  0  0 -1  0  0  0  0  1  0  0  1 -1  0  1  1 -1\n",
      "   0 -1  0  0 -1  1  1]\n",
      " [ 1  0  0  0 -1  0  1 -1  0  0  0  1  0  1  0  0  0  0  1  0  0  1  1  1\n",
      "   0  1 -1  1  1  0  1]\n",
      " [ 0  1  1  0  0  0  1  0 -1  0  0  1  0  1  0  0  0  0  1  1  0  1  1  0\n",
      "   1  1 -1  0  0  0  1]\n",
      " [-1 -1  1 -1 -1 -1  1 -1  0  1  1  0  0  1  1  0  1  0  1  0  0  0  1 -1\n",
      "   0  1  0  0  1  0  0]\n",
      " [ 0  0  0  0  0  0  0  0  0  0  0  0  0  0  0  0  0  0  0  0  0  0  0  0\n",
      "   0  0  0  0  0  0  0]\n",
      " [ 1  1  0  1  0  0 -1  0  0  1  1  1  0  0 -1  0  0  0  0  0  0  0  0  0\n",
      "  -1  0 -1  0  0  0  1]\n",
      " [ 1  1  0  0 -1 -1 -1  0  0  0  0  1  0 -1  0  1  1  0  1  1  0  0  0  0\n",
      "  -1  0 -1  0  0  0  0]\n",
      " [ 1 -1 -1 -1 -1  1 -1  1  1  0  0  0  0  0  1  0  1  0  0  1  0  0  0  1\n",
      "   0  0 -1  1 -1 -1  0]\n",
      " [ 0 -1 -1  0  0 -1  0  0  0  0  0  1  0  0  1  1  0  0  1  0  0  1  1  0\n",
      "   0  1  0  1  1  1 -1]\n",
      " [ 0  0  0  0  0  0  0  0  0  0  0  0  0  0  0  0  0  0  0  0  0  0  0  0\n",
      "   0  0  0  0  0  0  0]\n",
      " [ 0 -1  0  0  0  0  1  1  1  1  1  1  0  0  1  0  1  0  0  0  0 -1  1  0\n",
      "   1 -1  0  0  1  1  1]\n",
      " [ 0  0  1  0  0  0  1  0 -1  0  1  0  0  0  1  1  0  0  0  0  0  0  0  0\n",
      "   1  1 -1  0  0  0  0]\n",
      " [ 0  0  0  0  0  0  0  0  0  0  0  0  0  0  0  0  0  0  0  0  0  0  0  0\n",
      "   0  0  0  0  0  0  0]\n",
      " [ 0  1  1 -1  1  0  1  0  1  1  1  0  0  0  0  0  1  0 -1  0  0  0  1  1\n",
      "   1  0  0  1  0  1  1]\n",
      " [ 1  1  1 -1 -1  0  0  0  1  1  1  1  0  0  0  0  1  0  1  0  0  1  0  1\n",
      "   1  1  0  1  1  1  1]\n",
      " [-1  1  0  0  0  0 -1  0 -1  1  0 -1  0  0  0  1  0  0  0  0  0  1  1  0\n",
      "   1  0  0 -1  1 -1  0]\n",
      " [ 0  1  1 -1 -1  0 -1  1  0  0  1  0  0 -1 -1  0  0  0  1  1  0  1  1  1\n",
      "   0  1 -1 -1  1  0  1]\n",
      " [ 1  0  1  0  0 -1  1  0 -1  1  1  1  0  0  0  0  1  0 -1  1  0  0  1  0\n",
      "   1  0  1  1  1  1  0]\n",
      " [ 0  1  0 -1  0 -1  0 -1  0 -1 -1  0  0 -1 -1 -1  0  0  0 -1  0  0  0  0\n",
      "  -1  1  0  1 -1 -1  0]\n",
      " [ 1  1  0 -1  0  0  0  0  0  1  0  0  0  0  0  1  1  0  0  0  0  1  1 -1\n",
      "  -1  1  1  0 -1  1 -1]\n",
      " [ 0  0 -1  0 -1  1 -1  0 -1  1  0  1  0  0  0 -1  1  0  1  0  0  0  1  1\n",
      "   1  1 -1 -1  0  0  0]\n",
      " [ 1  1 -1 -1 -1  0 -1 -1  1  0  0  0  0  0  0 -1  1  0  1  0  0  1  1 -1\n",
      "   0  1 -1  1  0  0  0]\n",
      " [-1  0  1 -1 -1  0  1 -1  1  1  1  0  0  1  0  0 -1  0  1  0  0  1  1  0\n",
      "   1  0  0 -1  0  0  0]]\n"
     ]
    },
    {
     "name": "stderr",
     "output_type": "stream",
     "text": [
      "ERROR:root:Cannot activate multiple GUI eventloops\n"
     ]
    },
    {
     "name": "stdout",
     "output_type": "stream",
     "text": [
      "[[ 0  1  1  0 -1  1  1  0  0  0 -1  1  0  1  0  0  1  0  1  1  0  1  1  0\n",
      "   1  1  1  1  0  1  1]\n",
      " [ 1  0 -1  0 -1  0  1  1  0  0 -1  0  0  1  1 -1 -1  0  1  1  0  0  1  0\n",
      "   0  1  1  1  0  0  0]\n",
      " [ 1 -1  0  0  0 -1 -1  0  0 -1  1  1  0  1  1  0  1  0  0  1  0  1  1  1\n",
      "   1  1  1  1  0  1  1]\n",
      " [ 0  0  0  0  0  1  0  1  0  0  0  0  0  1  1 -1  0  0  1  1  0  0  0  0\n",
      "   0  1  1  1  0  0  0]\n",
      " [-1 -1  0  0  0  0 -1  0  0 -1  0  0  0  0  0  0  0  0  0  0  0  1  0  1\n",
      "   0  0 -1  0  0  0  0]\n",
      " [ 1  0 -1  1  0  0  0  0  0  0 -1  0  0  1  0  0 -1  0  1  1  0  1  0  0\n",
      "   1  0  0  1  0  0  0]\n",
      " [ 1  1 -1  0 -1  0  0  0 -1  1  1  0  0 -1  0  0  0  0  1  0  0  1  0  1\n",
      "  -1  0  0  0  0 -1  1]\n",
      " [ 0  1  0  1  0  0  0  0  0  0  0  0  0  1  1 -1 -1  0  1  1  0  0  1  1\n",
      "   0  0  1  0  0  0  0]\n",
      " [ 0  0  0  0  0  0 -1  0  0 -1  0  0  0  0  0 -1  1  0  1  1  0  1  1  1\n",
      "   1 -1  0  1  0 -1  0]\n",
      " [ 0  0 -1  0 -1  0  1  0 -1  0  0  0  0  0  0  0  1  0  1  1  0  1  1  1\n",
      "   1  0  0  1  0  0  0]\n",
      " [-1 -1  1  0  0 -1  1  0  0  0  0  0  0  0  0  0  0  0  1  1  0  1  1  1\n",
      "   1  1  1  1  0  0  0]\n",
      " [ 1  0  1  0  0  0  0  0  0  0  0  0  0  0  1  0  0  0  1  1  0  1  1  0\n",
      "   1  1  0  1  0  0  0]\n",
      " [ 0  0  0  0  0  0  0  0  0  0  0  0  0  0  0  0  0  0  0  0  0  0  0  0\n",
      "   0  0  0  0  0  0  0]\n",
      " [ 1  1  1  1  0  1 -1  1  0  0  0  0  0  0  1  1  0  0  1  1  0  1  0  1\n",
      "   0  0  0  0  1  0  0]\n",
      " [ 0  1  1  1  0  0  0  1  0  0  0  1  0  1  0  1  0  0  1  0  0  1  1  1\n",
      "   1  1  0  1  1 -1  0]\n",
      " [ 0 -1  0 -1  0  0  0 -1 -1  0  0  0  0  1  1  0  1  0  1  0  0  0  1  1\n",
      "   1  1  1  1  0  0  1]\n",
      " [ 1 -1  1  0  0 -1  0 -1  1  1  0  0  0  0  0  1  0  0  0  1  0  1  1  1\n",
      "   1  1  1  0  0  1  0]\n",
      " [ 0  0  0  0  0  0  0  0  0  0  0  0  0  0  0  0  0  0  0  0  0  0  0  0\n",
      "   0  0  0  0  0  0  0]\n",
      " [ 1  1  0  1  0  1  1  1  1  1  1  1  0  1  1  1  0  0  0  1  0 -1  1  1\n",
      "   1  1 -1  0  1  1  1]\n",
      " [ 1  1  1  1  0  1  0  1  1  1  1  1  0  1  0  0  1  0  1  0  0  0  0  1\n",
      "   0  1  1  1  0 -1  1]\n",
      " [ 0  0  0  0  0  0  0  0  0  0  0  0  0  0  0  0  0  0  0  0  0  0  0  0\n",
      "   0  0  0  0  0  0  0]\n",
      " [ 1  0  1  0  1  1  1  0  1  1  1  1  0  1  1  0  1  0 -1  0  0  0  1  1\n",
      "   1  0  0  1  1  0  1]\n",
      " [ 1  1  1  0  0  0  0  1  1  1  1  1  0  0  1  1  1  0  1  0  0  1  0  1\n",
      "   0  0  0  0  1  1  1]\n",
      " [ 0  0  1  0  1  0  1  1  1  1  1  0  0  1  1  1  1  0  1  1  0  1  1  0\n",
      "   1  0  0  1  1  1  1]\n",
      " [ 1  0  1  0  0  1 -1  0  1  1  1  1  0  0  1  1  1  0  1  0  0  1  0  1\n",
      "   0  1  0  1  1  0  1]\n",
      " [ 1  1  1  1  0  0  0  0 -1  0  1  1  0  0  1  1  1  0  1  1  0  0  0  0\n",
      "   1  0 -1  1  0  1  0]\n",
      " [ 1  1  1  1 -1  0  0  1  0  0  1  0  0  0  0  1  1  0 -1  1  0  0  0  0\n",
      "   0 -1  0  0  0  0  1]\n",
      " [ 1  1  1  1  0  1  0  0  1  1  1  1  0  0  1  1  0  0  0  1  0  1  0  1\n",
      "   1  1  0  0  0  0  1]\n",
      " [ 0  0  0  0  0  0  0  0  0  0  0  0  0  1  1  0  0  0  1  0  0  1  1  1\n",
      "   1  0  0  0  0 -1  0]\n",
      " [ 1  0  1  0  0  0 -1  0 -1  0  0  0  0  0 -1  0  1  0  1 -1  0  0  1  1\n",
      "   0  1  0  0 -1  0  1]\n",
      " [ 1  0  1  0  0  0  1  0  0  0  0  0  0  0  0  1  0  0  1  1  0  1  1  1\n",
      "   1  0  1  1  0  1  0]]\n"
     ]
    },
    {
     "name": "stderr",
     "output_type": "stream",
     "text": [
      "ERROR:root:Cannot activate multiple GUI eventloops\n"
     ]
    },
    {
     "name": "stdout",
     "output_type": "stream",
     "text": [
      "[[ 0  0  1  0  0  1  1  1  0  0 -1  1  0  1  0  1  1  0  0  1  0  0  1  1\n",
      "   1  1  0  0  1  0  1]\n",
      " [ 0  0  0  1  1  1  1  0  1  1  0  1  0  1  0  0  1  0  0  0  0  1  1  0\n",
      "   1  1  0  0  0  0  0]\n",
      " [ 1  0  0  0  0 -1  1  1  1  1  1  0  0  0  0 -1  0  0  1  1  0  1  1  1\n",
      "   1  1  1  1  1  0  0]\n",
      " [ 0  1  0  0  0  1  1  0  0  0 -1  0  0  1  1  0  0  0  1  1  0  0  1  0\n",
      "   0  0  1  0  0  0  0]\n",
      " [ 0  1  0  0  0 -1  1  0  0  0 -1  0  0  1  1  0  0  0  0  1  0  1  1  0\n",
      "   1  0  0  0  0  0  0]\n",
      " [ 1  1 -1  1 -1  0  0  1  0  1 -1  0  0  1  1  1  0  0  1  1  0  1  1  1\n",
      "   1  0  0  0  0 -1  1]\n",
      " [ 1  1  1  1  1  0  0  1  1  0  0  1  0  0  0  1  1  0  0  0  0  0  0  1\n",
      "   1  1 -1  1  1  1  1]\n",
      " [ 1  0  1  0  0  1  1  0  1  1  1  1  0  1  1  1  0  0  0  1  0  1  0  1\n",
      "   1  1  0  0  1  0  1]\n",
      " [ 0  1  1  0  0  0  1  1  0  0  1  0  0  1  1  1  1  0  0  0  0  1 -1  1\n",
      "  -1 -1  0  0  1  0  1]\n",
      " [ 0  1  1  0  0  1  0  1  0  0  1  1  0  1  1  1  1  0  1  1  0  0  1  1\n",
      "   0  1 -1  1  1  0  1]\n",
      " [-1  0  1 -1 -1 -1  0  1  1  1  0  1  0  0  0  0  1  0  0  1  0  1  0  0\n",
      "   0  1  1  1  0  0  0]\n",
      " [ 1  1  0  0  0  0  1  1  0  1  1  0  0  0  1  1  0  0  1  1  0  0  1  1\n",
      "   1  0  0  0  0  0  0]\n",
      " [ 0  0  0  0  0  0  0  0  0  0  0  0  0  0  0  0  0  0  0  0  0  0  0  0\n",
      "   0  0  0  0  0  0  0]\n",
      " [ 1  1  0  1  1  1  0  1  1  1  0  0  0  0  1  1  1  0  1  1  0  0  1  1\n",
      "   1  0  0  0  1  1  1]\n",
      " [ 0  0  0  1  1  1  0  1  1  1  0  1  0  1  0  1  1  0  1  0  0  1  0  1\n",
      "   0  1  1  1  1  0  1]\n",
      " [ 1  0 -1  0  0  1  1  1  1  1  0  1  0  1  1  0  0  0  0  0  0  1  1  1\n",
      "   1  1 -1  0  1 -1  1]\n",
      " [ 1  1  0  0  0  0  1  0  1  1  1  0  0  1  1  0  0  0  1  0  0 -1  1 -1\n",
      "   1  0  0  1  1  0  1]\n",
      " [ 0  0  0  0  0  0  0  0  0  0  0  0  0  0  0  0  0  0  0  0  0  0  0  0\n",
      "   0  0  0  0  0  0  0]\n",
      " [ 0  0  1  1  0  1  0  0  0  1  0  1  0  1  1  0  1  0  0  0  0  0  1  0\n",
      "   1  1  1  1  1  0  1]\n",
      " [ 1  0  1  1  1  1  0  1  0  1  1  1  0  1  0  0  0  0  0  0  0  0  1  0\n",
      "   1  1  1  1  1  0  0]\n",
      " [ 0  0  0  0  0  0  0  0  0  0  0  0  0  0  0  0  0  0  0  0  0  0  0  0\n",
      "   0  0  0  0  0  0  0]\n",
      " [ 0  1  1  0  1  1  0  1  1  0  1  0  0  0  1  1 -1  0  0  0  0  0  1  1\n",
      "   1  0  0  0  0  1  1]\n",
      " [ 1  1  1  1  1  1  0  0 -1  1  0  1  0  1  0  1  1  0  1  1  0  1  0  1\n",
      "   0  0 -1  0  1  0  0]\n",
      " [ 1  0  1  0  0  1  1  1  1  1  0  1  0  1  1  1 -1  0  0  0  0  1  1  0\n",
      "   0  0  0  0  1  1  0]\n",
      " [ 1  1  1  0  1  1  1  1 -1  0  0  1  0  1  0  1  1  0  1  1  0  1  0  0\n",
      "   0  1  0  0  1  0  0]\n",
      " [ 1  1  1  0  0  0  1  1 -1  1  1  0  0  0  1  1  0  0  1  1  0  0  0  0\n",
      "   1  0  0  0  1  0  0]\n",
      " [ 0  0  1  1  0  0 -1  0  0 -1  1  0  0  0  1 -1  0  0  1  1  0  0 -1  0\n",
      "   0  0  0  0  0  1  0]\n",
      " [ 0  0  1  0  0  0  1  0  0  1  1  0  0  0  1  0  1  0  1  1  0  0  0  0\n",
      "   0  0  0  0  0  0  0]\n",
      " [ 1  0  1  0  0  0  1  1  1  1  0  0  0  1  1  1  1  0  1  1  0  0  1  1\n",
      "   1  1  0  0  0  0  0]\n",
      " [ 0  0  0  0  0 -1  1  0  0  0  0  0  0  1  0 -1  0  0  0  0  0  1  0  1\n",
      "   0  0  1  0  0  0  0]\n",
      " [ 1  0  0  0  0  1  1  1  1  1  0  0  0  1  1  1  1  0  1  0  0  1  0  0\n",
      "   0  0  0  0  0  0  0]]\n"
     ]
    }
   ],
   "source": [
    "difference_matrix = {}\n",
    "for i in range(len(freq_bands)):\n",
    "    # TODO: How to calculate difference_matrix XOR or True - False = True only ?\n",
    "    difference_matrix[mapping[i]] = (binarized_matrix[f'MDD-{mapping[i]}'].astype(int) - binarized_matrix[f'Control-{mapping[i]}'].astype(int))\n",
    "    for k in range(n_channels):\n",
    "        for l in range(n_channels):\n",
    "            if k in central_channels or l in central_channels:\n",
    "                difference_matrix[mapping[i]][k][l] = 0\n",
    "    print(difference_matrix[mapping[i]])\n",
    "\n",
    "    plot_sensors_connectivity(\n",
    "        epochs_control.info,\n",
    "        difference_matrix[mapping[i]],\n",
    "        cbar_label=f'{mapping[i]}-Connectivity'\n",
    "        )"
   ]
  },
  {
   "cell_type": "code",
   "execution_count": null,
   "metadata": {},
   "outputs": [],
   "source": [
    "# TODO: Automate this\n",
    "# Divide it into 8 regions\n",
    "selected_regions = {}\n",
    "selected_regions['delta'] = []\n",
    "selected_regions['theta'] = ['LC']\n",
    "selected_regions['alpha1'] = []"
   ]
  },
  {
   "cell_type": "markdown",
   "metadata": {},
   "source": [
    "Create dictionary of Regions in brain vs channels"
   ]
  },
  {
   "cell_type": "code",
   "execution_count": null,
   "metadata": {},
   "outputs": [],
   "source": [
    "regionvschannel = {\n",
    "    'LC': ['C3', 'CP1', 'CP5', 'FC1', 'FC5'], # Left central \n",
    "    'LF': ['FP1', 'AF3', 'F3', 'F7'], # Left frontal\n",
    "    'LT': [ 'T7'], # Left temporal\n",
    "    'LPO': ['PO3',  'P3', 'P7', 'O1'], # Left parietal-occipital\n",
    "    'RC': ['CP6', 'FC6', 'C4', 'FC2', 'CP2',], # Right central \n",
    "    'RF': ['F8', 'F4', 'AF4', 'FP2'], # Right frontal\n",
    "    'RT': ['T8'], # Right temporal\n",
    "    'RPO': ['P8', 'P4', 'PO4', 'O2'] , # Right parietal-occipital\n",
    "}"
   ]
  },
  {
   "cell_type": "markdown",
   "metadata": {},
   "source": [
    "### 7. Network Metrics for selected regions for selected bands"
   ]
  },
  {
   "cell_type": "code",
   "execution_count": null,
   "metadata": {},
   "outputs": [],
   "source": [
    "for i in range(len(freq_bands)):\n",
    "    selected_region = selected_regions[mapping[i]]\n",
    "\n",
    "    # MDD group measures\n",
    "    lw_values = []\n",
    "    nbc_values = []\n",
    "    eglo_values = []\n",
    "    cc_values = []\n",
    "    eloc_values = []\n",
    "\n",
    "    # con_MDD = connectivity_matrix(epochs_MDD, i)\n",
    "    G_MDD = nx.from_numpy_array(connectivity[f'MDD-{mapping[i]}'])\n",
    "\n",
    "    for region in selected_region:\n",
    "        channels_list = regionvschannel[region]\n",
    "        G_sub = G_MDD.subgraph(return_index(channels_list))\n",
    "        lw_values.append(nx.average_shortest_path_length(G_sub))\n",
    "        nbc_values.append(nx.betweenness_centrality(G_sub))\n",
    "        eglo_values.append(nx.global_efficiency(G_sub))\n",
    "        cc_values.append(nx.clustering(G_sub))\n",
    "        eloc_values.append(nx.local_efficiency(G_sub))\n",
    "\n",
    "    MDD_group_measures = {\n",
    "        'Lw': lw_values,\n",
    "        'NBC': nbc_values,\n",
    "        'Eglo': eglo_values,\n",
    "        'CC': cc_values,\n",
    "        'Eloc': eloc_values\n",
    "    }\n",
    "\n",
    "    # Control group measures\n",
    "    lw_values = []\n",
    "    nbc_values = []\n",
    "    eglo_values = []\n",
    "    cc_values = []\n",
    "    eloc_values = []\n",
    "\n",
    "    # con_control = connectivity_matrix(epochs_control, i)\n",
    "    G_Control = nx.from_numpy_array(connectivity[f'Control-{mapping[i]}'])\n",
    "    for region in selected_region:\n",
    "        channels_list = regionvschannel[region]\n",
    "        G_sub = G_Control.subgraph(channels_list) # List of all channels in this region\n",
    "        lw_values.append(nx.average_shortest_path_length(G_sub))\n",
    "        nbc_values.append(nx.betweenness_centrality(G_sub))\n",
    "        eglo_values.append(nx.global_efficiency(G_sub))\n",
    "        cc_values.append(nx.clustering(G_sub))\n",
    "        eloc_values.append(nx.local_efficiency(G_sub))\n",
    "\n",
    "    control_group_measures = {\n",
    "        'Lw': lw_values,\n",
    "        'NBC': nbc_values,\n",
    "        'Eglo': eglo_values,\n",
    "        'CC': cc_values,\n",
    "        'Eloc': eloc_values\n",
    "    }\n",
    "\n",
    "    all_measures = {**control_group_measures, **MDD_group_measures}\n",
    "    print(\"DDDDDDD\", all_measures)\n",
    "\n",
    "    # fig, axes = plt.subplots(nrows=2, ncols=3, figsize=(15, 10))\n",
    "    # axes = axes.flatten()\n",
    "\n",
    "    # for i, (measure, values) in enumerate(all_measures.items()):\n",
    "    #     print(\"heyyy\", i, measure, values)\n",
    "    #     axes[i].boxplot(values, labels=['Control', 'MDD'])\n",
    "    #     axes[i].set_title(measure)\n",
    "\n",
    "    # plt.tight_layout()\n",
    "    # plt.show()\n"
   ]
  },
  {
   "cell_type": "markdown",
   "metadata": {},
   "source": [
    "8. Mark all regions in brain along with Netowrk metrics which are significant"
   ]
  },
  {
   "cell_type": "code",
   "execution_count": null,
   "metadata": {},
   "outputs": [],
   "source": []
  },
  {
   "cell_type": "markdown",
   "metadata": {},
   "source": [
    "9. Find relationship between \"these\" Network Metrics and PHQ-9 scores "
   ]
  },
  {
   "cell_type": "markdown",
   "metadata": {},
   "source": []
  },
  {
   "cell_type": "markdown",
   "metadata": {},
   "source": [
    "10. For further evaluation: RF based on ensemble learning, SVM, KNN, ANN with 10-fold cross validation "
   ]
  },
  {
   "cell_type": "markdown",
   "metadata": {},
   "source": []
  }
 ],
 "metadata": {
  "kernelspec": {
   "display_name": "Python 3",
   "language": "python",
   "name": "python3"
  },
  "language_info": {
   "codemirror_mode": {
    "name": "ipython",
    "version": 3
   },
   "file_extension": ".py",
   "mimetype": "text/x-python",
   "name": "python",
   "nbconvert_exporter": "python",
   "pygments_lexer": "ipython3",
   "version": "3.11.4"
  }
 },
 "nbformat": 4,
 "nbformat_minor": 2
}
