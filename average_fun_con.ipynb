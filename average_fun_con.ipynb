{
 "cells": [
  {
   "cell_type": "code",
   "execution_count": 1,
   "metadata": {},
   "outputs": [],
   "source": [
    "from ipynb.fs.full.common import *"
   ]
  },
  {
   "cell_type": "code",
   "execution_count": 2,
   "metadata": {},
   "outputs": [],
   "source": [
    "ACTIVE_SHAM = 'Active'\n",
    "GROUP1 = 'PRE-ACTIVE'\n",
    "GROUP2= 'POST-ACTIVE'\n",
    "COMPUTE_DATA = True\n",
    "mapping = {0: 'delta', 1: 'theta', 2: 'alpha1', 3:'alpha2', 4:'beta1', 5:'beta2', 6: 'beta3', 7: 'gamma'}\n",
    "PATIENTS = ['Hemlata', 'Malti', 'Preeti', 'Sharifa', 'Vinita'] if ACTIVE_SHAM == 'Active' else []\n",
    "DATANAME = '5females'"
   ]
  },
  {
   "cell_type": "markdown",
   "metadata": {},
   "source": [
    "## LOAD DATA"
   ]
  },
  {
   "cell_type": "code",
   "execution_count": 3,
   "metadata": {},
   "outputs": [],
   "source": [
    "# PRE VS CONTROL TODO:\n",
    "if not COMPUTE_DATA and GROUP1 == 'PRE-ALL' and GROUP2 == 'CONTROL':\n",
    "    raw_1 = mne.io.read_raw_fif(\"loadData/rawMDDpre5.fif\")\n",
    "    raw_2 = mne.io.read_raw_fif(\"loadData/rawControlOnline104.fif\")\n",
    "\n",
    "    epochs_1 = mne.read_epochs(\"loadData/epochsMDDpre5.fif\", preload=False)\n",
    "    epochs_2 = mne.read_epochs(\"loadData/epochsControlOnline104.fif\", preload=False)"
   ]
  },
  {
   "cell_type": "code",
   "execution_count": 4,
   "metadata": {},
   "outputs": [],
   "source": [
    "# PRE VS POST - ACTIVE\n",
    "if not COMPUTE_DATA and GROUP1 == 'PRE-ACTIVE' and GROUP2 == 'POST-ACTIVE':\n",
    "    raw_1 = mne.io.read_raw_fif(f\"loadData/rawPre{DATANAME}.fif\")\n",
    "    raw_2 = mne.io.read_raw_fif(f\"loadData/rawPost{DATANAME}.fif\")\n",
    "\n",
    "    epochs_1 = mne.read_epochs(f\"loadData/epochsPre{DATANAME}.fif\")\n",
    "    epochs_2 = mne.read_epochs(f\"loadData/epochsPost{DATANAME}.fif\")\n"
   ]
  },
  {
   "cell_type": "code",
   "execution_count": 5,
   "metadata": {},
   "outputs": [],
   "source": [
    "# PRE VS POST - SHAM  TODO:\n",
    "if not COMPUTE_DATA and GROUP1 == 'PRE-SHAM' and GROUP2 == 'POST-SHAM':\n",
    "    raw_1 = mne.io.read_raw_fif(\"loadData/rawMDDpre2Sham.fif\")\n",
    "    raw_2 = mne.io.read_raw_fif(\"loadData/rawMDDpost2Sham.fif\")\n",
    "\n",
    "    epochs_1 = mne.read_epochs(\"loadData/epochsMDDpre2Sham.fif\")\n",
    "    epochs_2 = mne.read_epochs(\"loadData/epochsMDDpost2Sham.fif\")\n"
   ]
  },
  {
   "cell_type": "code",
   "execution_count": 6,
   "metadata": {},
   "outputs": [],
   "source": [
    "# POST -Active vs Control  TODO:\n",
    "if not COMPUTE_DATA and GROUP1 == 'POST-ACTIVE' and GROUP2 == 'CONTROL':\n",
    "    raw_1 = mne.io.read_raw_fif(\"loadData/rawMDDpost3Active.fif\")\n",
    "    raw_2 = mne.io.read_raw_fif(\"loadData/rawControlOnline104.fif\")\n",
    "\n",
    "    epochs_1 = mne.read_epochs(\"loadData/epochsMDDpre3Active.fif\", preload=False)\n",
    "    epochs_2 = mne.read_epochs(\"loadData/epochsControlOnline104.fif\", preload=False)"
   ]
  },
  {
   "cell_type": "code",
   "execution_count": 7,
   "metadata": {},
   "outputs": [],
   "source": [
    "# POST -Active vs Control  TODO:\n",
    "if not COMPUTE_DATA and GROUP1 == 'POST-ACTIVE' and GROUP2 == 'CONTROL':\n",
    "    raw_1 = mne.io.read_raw_fif(\"loadData/rawMDDpost3Active.fif\")\n",
    "    raw_2 = mne.io.read_raw_fif(\"loadData/rawControlOnline104.fif\")\n",
    "\n",
    "    epochs_1 = mne.read_epochs(\"loadData/epochsMDDpre3Active.fif\", preload=False)\n",
    "    epochs_2 = mne.read_epochs(\"loadData/epochsControlOnline104.fif\", preload=False)"
   ]
  },
  {
   "cell_type": "markdown",
   "metadata": {},
   "source": [
    "# ELSE COMPUTE DATA"
   ]
  },
  {
   "cell_type": "markdown",
   "metadata": {},
   "source": [
    "Group 1 data"
   ]
  },
  {
   "cell_type": "code",
   "execution_count": 8,
   "metadata": {},
   "outputs": [],
   "source": [
    "if COMPUTE_DATA:\n",
    "    if GROUP1 in ['PRE-ACTIVE', 'PRE-SHAM'] and GROUP2 in ['POST-ACTIVE', 'POST-SHAM']:\n",
    "        folder1 = '2Pre-TDCS'\n",
    "        folder2 = '4Post-TDCS'"
   ]
  },
  {
   "cell_type": "code",
   "execution_count": 9,
   "metadata": {},
   "outputs": [
    {
     "name": "stdout",
     "output_type": "stream",
     "text": [
      "/home/vishwani/Downloads/IITD/Depression-IITD/Depression-Sample-dataset-AIIMS/32electrodes/Active/2Pre-TDCS/Vinita/20230828162317_VinitaSingh_19.09.23_01_Eye Close.easy\n"
     ]
    },
    {
     "name": "stdout",
     "output_type": "stream",
     "text": [
      "Creating RawArray with float64 data, n_channels=32, n_times=74999\n",
      "    Range : 0 ... 74998 =      0.000 ...   149.996 secs\n",
      "Ready.\n",
      "Filtering raw data in 1 contiguous segment\n",
      "Setting up band-pass filter from 0.01 - 45 Hz\n",
      "\n",
      "FIR filter parameters\n",
      "---------------------\n",
      "Designing a one-pass, non-linear phase, causal bandpass filter:\n",
      "- Windowed time-domain design (firwin) method\n",
      "- Hann window with 0.0546 passband ripple and 44 dB stopband attenuation\n",
      "- Lower transition bandwidth: 0.01 Hz\n",
      "- Upper transition bandwidth: 11.25 Hz\n",
      "- Filter length: 155001 samples (310.002 s)\n",
      "\n"
     ]
    },
    {
     "name": "stderr",
     "output_type": "stream",
     "text": [
      "/home/vishwani/Downloads/IITD/Depression-IITD/common.ipynb:254: RuntimeWarning: filter_length (155001) is longer than the signal (50001), distortion is likely. Reduce filter length or filter a longer signal.\n",
      "  ]\n"
     ]
    },
    {
     "name": "stdout",
     "output_type": "stream",
     "text": [
      "EEG channel type selected for re-referencing\n",
      "Adding average EEG reference projection.\n",
      "1 projection items deactivated\n",
      "Average reference projection was added, but has not been applied yet. Use the apply_proj method to apply it.\n",
      "Created an SSP operator (subspace dimension = 1)\n",
      "1 projection items activated\n",
      "SSP projectors applied...\n"
     ]
    },
    {
     "name": "stderr",
     "output_type": "stream",
     "text": [
      "[Parallel(n_jobs=1)]: Done  17 tasks      | elapsed:    0.2s\n"
     ]
    },
    {
     "name": "stdout",
     "output_type": "stream",
     "text": [
      "/home/vishwani/Downloads/IITD/Depression-IITD/Depression-Sample-dataset-AIIMS/32electrodes/Active/2Pre-TDCS/Preeti/20230718201550_Preeti singh_22.08.23-01_Eye Close.easy\n",
      "Creating RawArray with float64 data, n_channels=32, n_times=74999\n",
      "    Range : 0 ... 74998 =      0.000 ...   149.996 secs\n",
      "Ready.\n",
      "Filtering raw data in 1 contiguous segment\n",
      "Setting up band-pass filter from 0.01 - 45 Hz\n",
      "\n",
      "FIR filter parameters\n",
      "---------------------\n",
      "Designing a one-pass, non-linear phase, causal bandpass filter:\n",
      "- Windowed time-domain design (firwin) method\n",
      "- Hann window with 0.0546 passband ripple and 44 dB stopband attenuation\n",
      "- Lower transition bandwidth: 0.01 Hz\n",
      "- Upper transition bandwidth: 11.25 Hz\n",
      "- Filter length: 155001 samples (310.002 s)\n",
      "\n"
     ]
    },
    {
     "name": "stderr",
     "output_type": "stream",
     "text": [
      "/home/vishwani/Downloads/IITD/Depression-IITD/common.ipynb:254: RuntimeWarning: filter_length (155001) is longer than the signal (50001), distortion is likely. Reduce filter length or filter a longer signal.\n",
      "  ]\n"
     ]
    },
    {
     "name": "stdout",
     "output_type": "stream",
     "text": [
      "EEG channel type selected for re-referencing\n",
      "Adding average EEG reference projection.\n",
      "1 projection items deactivated\n",
      "Average reference projection was added, but has not been applied yet. Use the apply_proj method to apply it.\n",
      "Created an SSP operator (subspace dimension = 1)\n",
      "1 projection items activated\n",
      "SSP projectors applied...\n"
     ]
    },
    {
     "name": "stderr",
     "output_type": "stream",
     "text": [
      "[Parallel(n_jobs=1)]: Done  17 tasks      | elapsed:    0.2s\n"
     ]
    },
    {
     "name": "stdout",
     "output_type": "stream",
     "text": [
      "/home/vishwani/Downloads/IITD/Depression-IITD/Depression-Sample-dataset-AIIMS/32electrodes/Active/2Pre-TDCS/Hemlata/20230831105330_Hemlata_05.10.23_01_Eye Close.easy\n",
      "Creating RawArray with float64 data, n_channels=32, n_times=74999\n",
      "    Range : 0 ... 74998 =      0.000 ...   149.996 secs\n",
      "Ready.\n",
      "Filtering raw data in 1 contiguous segment\n",
      "Setting up band-pass filter from 0.01 - 45 Hz\n",
      "\n",
      "FIR filter parameters\n",
      "---------------------\n",
      "Designing a one-pass, non-linear phase, causal bandpass filter:\n",
      "- Windowed time-domain design (firwin) method\n",
      "- Hann window with 0.0546 passband ripple and 44 dB stopband attenuation\n",
      "- Lower transition bandwidth: 0.01 Hz\n",
      "- Upper transition bandwidth: 11.25 Hz\n",
      "- Filter length: 155001 samples (310.002 s)\n",
      "\n"
     ]
    },
    {
     "name": "stderr",
     "output_type": "stream",
     "text": [
      "/home/vishwani/Downloads/IITD/Depression-IITD/common.ipynb:254: RuntimeWarning: filter_length (155001) is longer than the signal (50001), distortion is likely. Reduce filter length or filter a longer signal.\n",
      "  ]\n"
     ]
    },
    {
     "name": "stdout",
     "output_type": "stream",
     "text": [
      "EEG channel type selected for re-referencing\n",
      "Adding average EEG reference projection.\n",
      "1 projection items deactivated\n",
      "Average reference projection was added, but has not been applied yet. Use the apply_proj method to apply it.\n",
      "Created an SSP operator (subspace dimension = 1)\n",
      "1 projection items activated\n",
      "SSP projectors applied...\n"
     ]
    },
    {
     "name": "stderr",
     "output_type": "stream",
     "text": [
      "[Parallel(n_jobs=1)]: Done  17 tasks      | elapsed:    0.2s\n"
     ]
    },
    {
     "name": "stdout",
     "output_type": "stream",
     "text": [
      "/home/vishwani/Downloads/IITD/Depression-IITD/Depression-Sample-dataset-AIIMS/32electrodes/Active/2Pre-TDCS/Malti/20231102113022_MaltiNegi_2.11.23_01_Eye Close.easy\n",
      "Creating RawArray with float64 data, n_channels=32, n_times=74999\n",
      "    Range : 0 ... 74998 =      0.000 ...   149.996 secs\n",
      "Ready.\n",
      "Filtering raw data in 1 contiguous segment\n",
      "Setting up band-pass filter from 0.01 - 45 Hz\n",
      "\n",
      "FIR filter parameters\n",
      "---------------------\n",
      "Designing a one-pass, non-linear phase, causal bandpass filter:\n",
      "- Windowed time-domain design (firwin) method\n",
      "- Hann window with 0.0546 passband ripple and 44 dB stopband attenuation\n",
      "- Lower transition bandwidth: 0.01 Hz\n",
      "- Upper transition bandwidth: 11.25 Hz\n",
      "- Filter length: 155001 samples (310.002 s)\n",
      "\n"
     ]
    },
    {
     "name": "stderr",
     "output_type": "stream",
     "text": [
      "/home/vishwani/Downloads/IITD/Depression-IITD/common.ipynb:254: RuntimeWarning: filter_length (155001) is longer than the signal (50001), distortion is likely. Reduce filter length or filter a longer signal.\n",
      "  ]\n"
     ]
    },
    {
     "name": "stdout",
     "output_type": "stream",
     "text": [
      "EEG channel type selected for re-referencing\n",
      "Adding average EEG reference projection.\n",
      "1 projection items deactivated\n",
      "Average reference projection was added, but has not been applied yet. Use the apply_proj method to apply it.\n",
      "Created an SSP operator (subspace dimension = 1)\n",
      "1 projection items activated\n",
      "SSP projectors applied...\n"
     ]
    },
    {
     "name": "stderr",
     "output_type": "stream",
     "text": [
      "[Parallel(n_jobs=1)]: Done  17 tasks      | elapsed:    0.2s\n"
     ]
    },
    {
     "name": "stdout",
     "output_type": "stream",
     "text": [
      "/home/vishwani/Downloads/IITD/Depression-IITD/Depression-Sample-dataset-AIIMS/32electrodes/Active/2Pre-TDCS/Sharifa/20231202111255_SharifaNazari_02.12.23_01_Eye Close.easy\n",
      "Creating RawArray with float64 data, n_channels=32, n_times=74999\n",
      "    Range : 0 ... 74998 =      0.000 ...   149.996 secs\n",
      "Ready.\n",
      "Filtering raw data in 1 contiguous segment\n",
      "Setting up band-pass filter from 0.01 - 45 Hz\n",
      "\n",
      "FIR filter parameters\n",
      "---------------------\n",
      "Designing a one-pass, non-linear phase, causal bandpass filter:\n",
      "- Windowed time-domain design (firwin) method\n",
      "- Hann window with 0.0546 passband ripple and 44 dB stopband attenuation\n",
      "- Lower transition bandwidth: 0.01 Hz\n",
      "- Upper transition bandwidth: 11.25 Hz\n",
      "- Filter length: 155001 samples (310.002 s)\n",
      "\n"
     ]
    },
    {
     "name": "stderr",
     "output_type": "stream",
     "text": [
      "/home/vishwani/Downloads/IITD/Depression-IITD/common.ipynb:254: RuntimeWarning: filter_length (155001) is longer than the signal (50001), distortion is likely. Reduce filter length or filter a longer signal.\n",
      "  ]\n"
     ]
    },
    {
     "name": "stdout",
     "output_type": "stream",
     "text": [
      "EEG channel type selected for re-referencing\n",
      "Adding average EEG reference projection.\n",
      "1 projection items deactivated\n",
      "Average reference projection was added, but has not been applied yet. Use the apply_proj method to apply it.\n",
      "Created an SSP operator (subspace dimension = 1)\n",
      "1 projection items activated\n",
      "SSP projectors applied...\n"
     ]
    },
    {
     "name": "stderr",
     "output_type": "stream",
     "text": [
      "[Parallel(n_jobs=1)]: Done  17 tasks      | elapsed:    0.1s\n"
     ]
    }
   ],
   "source": [
    "if COMPUTE_DATA:\n",
    "    folder_path = os.path.join(os.getcwd(), 'Depression-Sample-dataset-AIIMS', '32electrodes',  ACTIVE_SHAM, folder1)\n",
    "    raw_1 = []\n",
    "    for patient in os.listdir(folder_path):\n",
    "        if patient in PATIENTS:\n",
    "            for _ in glob.glob(os.path.join(folder_path, patient) + '/*' + 'Close.easy'):\n",
    "                print(_)\n",
    "                raw = data_transformation_easy(_)\n",
    "                raw = g1_preprocess(raw)\n",
    "                raw_1.append(raw.get_data())"
   ]
  },
  {
   "cell_type": "code",
   "execution_count": 10,
   "metadata": {},
   "outputs": [
    {
     "name": "stdout",
     "output_type": "stream",
     "text": [
      "[[-4.76275465e-04 -4.76887577e-04 -4.77468204e-04 ...  3.66428818e-04\n",
      "   3.67092211e-04  3.67658243e-04]\n",
      " [ 2.72422162e-05  2.67319654e-05  2.61794409e-05 ...  8.69359756e-04\n",
      "   8.70174367e-04  8.70822407e-04]\n",
      " [-4.60354233e-04 -4.60551715e-04 -4.60714764e-04 ...  4.82679815e-05\n",
      "   4.77830825e-05  4.74278862e-05]\n",
      " ...\n",
      " [-2.11632327e-04 -2.11612669e-04 -2.11669986e-04 ...  1.19528920e-04\n",
      "   1.19863775e-04  1.20267878e-04]\n",
      " [ 2.55505594e-04  2.55053892e-04  2.54722087e-04 ...  3.08060112e-04\n",
      "   3.08570948e-04  3.08975306e-04]\n",
      " [-3.78041758e-04 -3.78724748e-04 -3.79492604e-04 ... -7.20301751e-05\n",
      "  -7.16907982e-05 -7.14005542e-05]]\n",
      "Creating RawArray with float64 data, n_channels=32, n_times=50001\n",
      "    Range : 0 ... 50000 =      0.000 ...   100.000 secs\n",
      "Ready.\n"
     ]
    }
   ],
   "source": [
    "if COMPUTE_DATA:\n",
    "    raw_1_avg = np.mean(raw_1, axis=0)\n",
    "    print(raw_1_avg)\n",
    "\n",
    "    del raw_1[:]\n",
    "    del raw_1\n",
    "\n",
    "    info = raw.info\n",
    "    raw_1 = mne.io.RawArray(raw_1_avg, info)"
   ]
  },
  {
   "cell_type": "markdown",
   "metadata": {},
   "source": [
    "Group 2 data "
   ]
  },
  {
   "cell_type": "code",
   "execution_count": 11,
   "metadata": {},
   "outputs": [
    {
     "name": "stdout",
     "output_type": "stream",
     "text": [
      "/home/vishwani/Downloads/IITD/Depression-IITD/Depression-Sample-dataset-AIIMS/32electrodes/Active/4Post-TDCS/Vinita/20230831062025_VinitaSingh_04.10.23_20_Rest_Eye Close.easy\n",
      "Creating RawArray with float64 data, n_channels=32, n_times=149999\n",
      "    Range : 0 ... 149998 =      0.000 ...   299.996 secs\n",
      "Ready.\n",
      "Filtering raw data in 1 contiguous segment\n",
      "Setting up band-pass filter from 0.01 - 45 Hz\n",
      "\n",
      "FIR filter parameters\n",
      "---------------------\n",
      "Designing a one-pass, non-linear phase, causal bandpass filter:\n",
      "- Windowed time-domain design (firwin) method\n",
      "- Hann window with 0.0546 passband ripple and 44 dB stopband attenuation\n",
      "- Lower transition bandwidth: 0.01 Hz\n",
      "- Upper transition bandwidth: 11.25 Hz\n",
      "- Filter length: 155001 samples (310.002 s)\n",
      "\n"
     ]
    },
    {
     "name": "stderr",
     "output_type": "stream",
     "text": [
      "/home/vishwani/Downloads/IITD/Depression-IITD/common.ipynb:254: RuntimeWarning: filter_length (155001) is longer than the signal (50001), distortion is likely. Reduce filter length or filter a longer signal.\n",
      "  ]\n"
     ]
    },
    {
     "name": "stdout",
     "output_type": "stream",
     "text": [
      "EEG channel type selected for re-referencing\n",
      "Adding average EEG reference projection.\n",
      "1 projection items deactivated\n",
      "Average reference projection was added, but has not been applied yet. Use the apply_proj method to apply it.\n",
      "Created an SSP operator (subspace dimension = 1)\n",
      "1 projection items activated\n",
      "SSP projectors applied...\n"
     ]
    },
    {
     "name": "stderr",
     "output_type": "stream",
     "text": [
      "[Parallel(n_jobs=1)]: Done  17 tasks      | elapsed:    0.1s\n"
     ]
    },
    {
     "name": "stdout",
     "output_type": "stream",
     "text": [
      "/home/vishwani/Downloads/IITD/Depression-IITD/Depression-Sample-dataset-AIIMS/32electrodes/Active/4Post-TDCS/Preeti/20230826225729_PreetiSingh_08.09.23_20_Eye Close.easy\n",
      "Creating RawArray with float64 data, n_channels=32, n_times=74999\n",
      "    Range : 0 ... 74998 =      0.000 ...   149.996 secs\n",
      "Ready.\n",
      "Filtering raw data in 1 contiguous segment\n",
      "Setting up band-pass filter from 0.01 - 45 Hz\n",
      "\n",
      "FIR filter parameters\n",
      "---------------------\n",
      "Designing a one-pass, non-linear phase, causal bandpass filter:\n",
      "- Windowed time-domain design (firwin) method\n",
      "- Hann window with 0.0546 passband ripple and 44 dB stopband attenuation\n",
      "- Lower transition bandwidth: 0.01 Hz\n",
      "- Upper transition bandwidth: 11.25 Hz\n",
      "- Filter length: 155001 samples (310.002 s)\n",
      "\n"
     ]
    },
    {
     "name": "stderr",
     "output_type": "stream",
     "text": [
      "/home/vishwani/Downloads/IITD/Depression-IITD/common.ipynb:254: RuntimeWarning: filter_length (155001) is longer than the signal (50001), distortion is likely. Reduce filter length or filter a longer signal.\n",
      "  ]\n"
     ]
    },
    {
     "name": "stdout",
     "output_type": "stream",
     "text": [
      "EEG channel type selected for re-referencing\n",
      "Adding average EEG reference projection.\n",
      "1 projection items deactivated\n",
      "Average reference projection was added, but has not been applied yet. Use the apply_proj method to apply it.\n",
      "Created an SSP operator (subspace dimension = 1)\n",
      "1 projection items activated\n",
      "SSP projectors applied...\n"
     ]
    },
    {
     "name": "stderr",
     "output_type": "stream",
     "text": [
      "[Parallel(n_jobs=1)]: Done  17 tasks      | elapsed:    0.2s\n"
     ]
    },
    {
     "name": "stdout",
     "output_type": "stream",
     "text": [
      "/home/vishwani/Downloads/IITD/Depression-IITD/Depression-Sample-dataset-AIIMS/32electrodes/Active/4Post-TDCS/Hemlata/20231019110530_Hemlata_19.10.23_19A_Eye Close.easy\n",
      "Creating RawArray with float64 data, n_channels=32, n_times=74999\n",
      "    Range : 0 ... 74998 =      0.000 ...   149.996 secs\n",
      "Ready.\n",
      "Filtering raw data in 1 contiguous segment\n",
      "Setting up band-pass filter from 0.01 - 45 Hz\n",
      "\n",
      "FIR filter parameters\n",
      "---------------------\n",
      "Designing a one-pass, non-linear phase, causal bandpass filter:\n",
      "- Windowed time-domain design (firwin) method\n",
      "- Hann window with 0.0546 passband ripple and 44 dB stopband attenuation\n",
      "- Lower transition bandwidth: 0.01 Hz\n",
      "- Upper transition bandwidth: 11.25 Hz\n",
      "- Filter length: 155001 samples (310.002 s)\n",
      "\n"
     ]
    },
    {
     "name": "stderr",
     "output_type": "stream",
     "text": [
      "/home/vishwani/Downloads/IITD/Depression-IITD/common.ipynb:254: RuntimeWarning: filter_length (155001) is longer than the signal (50001), distortion is likely. Reduce filter length or filter a longer signal.\n",
      "  ]\n"
     ]
    },
    {
     "name": "stdout",
     "output_type": "stream",
     "text": [
      "EEG channel type selected for re-referencing\n",
      "Adding average EEG reference projection.\n",
      "1 projection items deactivated\n",
      "Average reference projection was added, but has not been applied yet. Use the apply_proj method to apply it.\n",
      "Created an SSP operator (subspace dimension = 1)\n",
      "1 projection items activated\n",
      "SSP projectors applied...\n"
     ]
    },
    {
     "name": "stderr",
     "output_type": "stream",
     "text": [
      "[Parallel(n_jobs=1)]: Done  17 tasks      | elapsed:    0.2s\n"
     ]
    },
    {
     "name": "stdout",
     "output_type": "stream",
     "text": [
      "/home/vishwani/Downloads/IITD/Depression-IITD/Depression-Sample-dataset-AIIMS/32electrodes/Active/4Post-TDCS/Malti/20231116104240_MaltiNegi_16.11.23_20_Rest_Eye Close.easy\n",
      "Creating RawArray with float64 data, n_channels=32, n_times=114999\n",
      "    Range : 0 ... 114998 =      0.000 ...   229.996 secs\n",
      "Ready.\n",
      "Filtering raw data in 1 contiguous segment\n",
      "Setting up band-pass filter from 0.01 - 45 Hz\n",
      "\n",
      "FIR filter parameters\n",
      "---------------------\n",
      "Designing a one-pass, non-linear phase, causal bandpass filter:\n",
      "- Windowed time-domain design (firwin) method\n",
      "- Hann window with 0.0546 passband ripple and 44 dB stopband attenuation\n",
      "- Lower transition bandwidth: 0.01 Hz\n",
      "- Upper transition bandwidth: 11.25 Hz\n",
      "- Filter length: 155001 samples (310.002 s)\n",
      "\n"
     ]
    },
    {
     "name": "stderr",
     "output_type": "stream",
     "text": [
      "/home/vishwani/Downloads/IITD/Depression-IITD/common.ipynb:254: RuntimeWarning: filter_length (155001) is longer than the signal (50001), distortion is likely. Reduce filter length or filter a longer signal.\n",
      "  ]\n"
     ]
    },
    {
     "name": "stdout",
     "output_type": "stream",
     "text": [
      "EEG channel type selected for re-referencing\n",
      "Adding average EEG reference projection.\n",
      "1 projection items deactivated\n",
      "Average reference projection was added, but has not been applied yet. Use the apply_proj method to apply it.\n",
      "Created an SSP operator (subspace dimension = 1)\n",
      "1 projection items activated\n",
      "SSP projectors applied...\n"
     ]
    },
    {
     "name": "stderr",
     "output_type": "stream",
     "text": [
      "[Parallel(n_jobs=1)]: Done  17 tasks      | elapsed:    0.1s\n"
     ]
    },
    {
     "name": "stdout",
     "output_type": "stream",
     "text": [
      "/home/vishwani/Downloads/IITD/Depression-IITD/Depression-Sample-dataset-AIIMS/32electrodes/Active/4Post-TDCS/Sharifa/20231216113658_SharifaNazari_16.12.23_20_Eye Close.easy\n",
      "Creating RawArray with float64 data, n_channels=32, n_times=74999\n",
      "    Range : 0 ... 74998 =      0.000 ...   149.996 secs\n",
      "Ready.\n",
      "Filtering raw data in 1 contiguous segment\n",
      "Setting up band-pass filter from 0.01 - 45 Hz\n",
      "\n",
      "FIR filter parameters\n",
      "---------------------\n",
      "Designing a one-pass, non-linear phase, causal bandpass filter:\n",
      "- Windowed time-domain design (firwin) method\n",
      "- Hann window with 0.0546 passband ripple and 44 dB stopband attenuation\n",
      "- Lower transition bandwidth: 0.01 Hz\n",
      "- Upper transition bandwidth: 11.25 Hz\n",
      "- Filter length: 155001 samples (310.002 s)\n",
      "\n"
     ]
    },
    {
     "name": "stderr",
     "output_type": "stream",
     "text": [
      "/home/vishwani/Downloads/IITD/Depression-IITD/common.ipynb:254: RuntimeWarning: filter_length (155001) is longer than the signal (50001), distortion is likely. Reduce filter length or filter a longer signal.\n",
      "  ]\n"
     ]
    },
    {
     "name": "stdout",
     "output_type": "stream",
     "text": [
      "EEG channel type selected for re-referencing\n",
      "Adding average EEG reference projection.\n",
      "1 projection items deactivated\n",
      "Average reference projection was added, but has not been applied yet. Use the apply_proj method to apply it.\n",
      "Created an SSP operator (subspace dimension = 1)\n",
      "1 projection items activated\n",
      "SSP projectors applied...\n"
     ]
    },
    {
     "name": "stderr",
     "output_type": "stream",
     "text": [
      "[Parallel(n_jobs=1)]: Done  17 tasks      | elapsed:    0.1s\n"
     ]
    }
   ],
   "source": [
    "if COMPUTE_DATA:\n",
    "    folder_path = os.path.join(os.getcwd(), 'Depression-Sample-dataset-AIIMS', '32electrodes',  ACTIVE_SHAM, folder2)\n",
    "    raw_2 = []\n",
    "    for patient in os.listdir(folder_path):\n",
    "        if patient in PATIENTS:\n",
    "            for _ in glob.glob(os.path.join(folder_path, patient) + '/*' + 'Close.easy'):\n",
    "                print(_)\n",
    "                raw = data_transformation_easy(_)\n",
    "                raw = g1_preprocess(raw)\n",
    "                raw_2.append(raw.get_data())"
   ]
  },
  {
   "cell_type": "code",
   "execution_count": 12,
   "metadata": {},
   "outputs": [
    {
     "name": "stdout",
     "output_type": "stream",
     "text": [
      "[[-9.74086792e-05 -9.73914334e-05 -9.72699068e-05 ... -4.39125606e-04\n",
      "  -4.39234187e-04 -4.39256916e-04]\n",
      " [ 2.06067940e-04  2.06321312e-04  2.06399672e-04 ... -5.72316836e-04\n",
      "  -5.71979208e-04 -5.71599490e-04]\n",
      " [ 6.89715124e-04  6.89506947e-04  6.89362561e-04 ...  1.44973754e-04\n",
      "   1.44994400e-04  1.45026076e-04]\n",
      " ...\n",
      " [-4.01871928e-04 -4.02256966e-04 -4.02710568e-04 ... -6.55944526e-04\n",
      "  -6.55622723e-04 -6.55371390e-04]\n",
      " [ 2.86521688e-03  2.86490125e-03  2.86427984e-03 ...  1.45201246e-02\n",
      "   1.45193454e-02  1.45186522e-02]\n",
      " [ 6.20222093e-04  6.20124693e-04  6.20011423e-04 ... -4.13887080e-04\n",
      "  -4.14087641e-04 -4.14387221e-04]]\n",
      "Creating RawArray with float64 data, n_channels=32, n_times=50001\n",
      "    Range : 0 ... 50000 =      0.000 ...   100.000 secs\n",
      "Ready.\n"
     ]
    }
   ],
   "source": [
    "if COMPUTE_DATA:\n",
    "    raw_2_avg = np.mean(raw_2, axis=0)\n",
    "    print(raw_2_avg)\n",
    "\n",
    "    del raw_2[:]\n",
    "    del raw_2\n",
    "\n",
    "    info = raw.info\n",
    "    raw_2 = mne.io.RawArray(raw_2_avg, info)"
   ]
  },
  {
   "cell_type": "markdown",
   "metadata": {},
   "source": [
    "Saving Raw MDD and control data"
   ]
  },
  {
   "cell_type": "code",
   "execution_count": 13,
   "metadata": {},
   "outputs": [
    {
     "name": "stdout",
     "output_type": "stream",
     "text": [
      "Writing /home/vishwani/Downloads/IITD/Depression-IITD/loadData/rawPre5females.fif\n",
      "Closing /home/vishwani/Downloads/IITD/Depression-IITD/loadData/rawPre5females.fif\n",
      "[done]\n",
      "Writing /home/vishwani/Downloads/IITD/Depression-IITD/loadData/rawPost5females.fif\n"
     ]
    },
    {
     "name": "stderr",
     "output_type": "stream",
     "text": [
      "/tmp/ipykernel_8098/3044777111.py:2: RuntimeWarning: This filename (/home/vishwani/Downloads/IITD/Depression-IITD/loadData/rawPre5females.fif) does not conform to MNE naming conventions. All raw files should end with raw.fif, raw_sss.fif, raw_tsss.fif, _meg.fif, _eeg.fif, _ieeg.fif, raw.fif.gz, raw_sss.fif.gz, raw_tsss.fif.gz, _meg.fif.gz, _eeg.fif.gz or _ieeg.fif.gz\n",
      "  raw_1.save(f\"loadData/rawPre{DATANAME}.fif\", overwrite=True)\n",
      "/tmp/ipykernel_8098/3044777111.py:3: RuntimeWarning: This filename (/home/vishwani/Downloads/IITD/Depression-IITD/loadData/rawPost5females.fif) does not conform to MNE naming conventions. All raw files should end with raw.fif, raw_sss.fif, raw_tsss.fif, _meg.fif, _eeg.fif, _ieeg.fif, raw.fif.gz, raw_sss.fif.gz, raw_tsss.fif.gz, _meg.fif.gz, _eeg.fif.gz or _ieeg.fif.gz\n",
      "  raw_2.save(f\"loadData/rawPost{DATANAME}.fif\", overwrite=True)\n"
     ]
    },
    {
     "name": "stdout",
     "output_type": "stream",
     "text": [
      "Closing /home/vishwani/Downloads/IITD/Depression-IITD/loadData/rawPost5females.fif\n",
      "[done]\n"
     ]
    }
   ],
   "source": [
    "if COMPUTE_DATA:\n",
    "    raw_1.save(f\"loadData/rawPre{DATANAME}.fif\", overwrite=True)\n",
    "    raw_2.save(f\"loadData/rawPost{DATANAME}.fif\", overwrite=True)"
   ]
  },
  {
   "cell_type": "markdown",
   "metadata": {},
   "source": [
    "### Epoching"
   ]
  },
  {
   "cell_type": "code",
   "execution_count": 14,
   "metadata": {},
   "outputs": [],
   "source": [
    "if COMPUTE_DATA:\n",
    "    duration = 4.0\n",
    "    overlap = 2.0 \n",
    "\n",
    "    samples_per_epoch = int(duration * SFREQ)\n",
    "    samples_per_overlap = int(overlap * SFREQ)\n",
    "\n",
    "    # Manually created events\n",
    "    start, stop = 0, samples_per_epoch\n",
    "    events = []\n",
    "    while stop <= len(raw_1):\n",
    "        events.append([start, 0, 1]) \n",
    "        start += samples_per_overlap\n",
    "        stop += samples_per_overlap\n",
    "\n",
    "    events = np.array(events)"
   ]
  },
  {
   "cell_type": "markdown",
   "metadata": {},
   "source": [
    "3.1 Segmenting epochs for group1"
   ]
  },
  {
   "cell_type": "code",
   "execution_count": 15,
   "metadata": {},
   "outputs": [
    {
     "name": "stdout",
     "output_type": "stream",
     "text": [
      "Not setting metadata\n",
      "49 matching events found\n",
      "No baseline correction applied\n",
      "Created an SSP operator (subspace dimension = 1)\n",
      "1 projection items activated\n",
      "Using data from preloaded Raw for 49 events and 2001 original time points ...\n",
      "0 bad epochs dropped\n",
      "Using matplotlib as 2D backend.\n",
      "You seem to have overlapping epochs. Some event lines may be duplicated in the plot.\n"
     ]
    }
   ],
   "source": [
    "if COMPUTE_DATA:\n",
    "    epochs_1 = mne.Epochs(raw_1, events, tmin=0, tmax=duration, baseline=None, detrend=1,\n",
    "                        picks=None, preload=True, reject=None)\n",
    "    raw_1.plot(n_channels=len(raw_1.info['ch_names']), events=events, event_color={1:'r'}, scalings=SCALINGS)\n",
    "    epochs_1.plot(n_channels=len(raw_1.info['ch_names']), event_color={1:'r'}, events=events, scalings=SCALINGS)"
   ]
  },
  {
   "cell_type": "markdown",
   "metadata": {},
   "source": [
    "3.2 Segmenting epochs for group2"
   ]
  },
  {
   "cell_type": "code",
   "execution_count": 16,
   "metadata": {},
   "outputs": [
    {
     "name": "stdout",
     "output_type": "stream",
     "text": [
      "Not setting metadata\n",
      "49 matching events found\n",
      "No baseline correction applied\n",
      "Created an SSP operator (subspace dimension = 1)\n",
      "1 projection items activated\n",
      "Using data from preloaded Raw for 49 events and 2001 original time points ...\n",
      "0 bad epochs dropped\n",
      "You seem to have overlapping epochs. Some event lines may be duplicated in the plot.\n"
     ]
    }
   ],
   "source": [
    "if COMPUTE_DATA:\n",
    "    epochs_2 = mne.Epochs(raw_2, events, tmin=0, tmax=duration, baseline=None, detrend=1,\n",
    "                        picks=None, preload=True, reject=None)\n",
    "    raw_2.plot(n_channels=len(raw_1.info['ch_names']), events=events, event_color={1:'r'}, scalings=SCALINGS)\n",
    "    epochs_2.plot(n_channels=len(raw_1.info['ch_names']), event_color={1:'r'}, events=events, scalings=SCALINGS)"
   ]
  },
  {
   "cell_type": "markdown",
   "metadata": {},
   "source": [
    "Saving epoched g1 and g2 data"
   ]
  },
  {
   "cell_type": "code",
   "execution_count": 17,
   "metadata": {},
   "outputs": [
    {
     "name": "stderr",
     "output_type": "stream",
     "text": [
      "/tmp/ipykernel_8098/2446831304.py:2: RuntimeWarning: This filename (loadData/epochsPre5females.fif) does not conform to MNE naming conventions. All epochs files should end with -epo.fif, -epo.fif.gz, _epo.fif or _epo.fif.gz\n",
      "  epochs_1.save(f\"loadData/epochsPre{DATANAME}.fif\", overwrite=True)\n",
      "/tmp/ipykernel_8098/2446831304.py:3: RuntimeWarning: This filename (loadData/epochsPost5females.fif) does not conform to MNE naming conventions. All epochs files should end with -epo.fif, -epo.fif.gz, _epo.fif or _epo.fif.gz\n",
      "  epochs_2.save(f\"loadData/epochsPost{DATANAME}.fif\", overwrite=True)\n"
     ]
    }
   ],
   "source": [
    "if COMPUTE_DATA:\n",
    "    epochs_1.save(f\"loadData/epochsPre{DATANAME}.fif\", overwrite=True)\n",
    "    epochs_2.save(f\"loadData/epochsPost{DATANAME}.fif\", overwrite=True)"
   ]
  },
  {
   "cell_type": "markdown",
   "metadata": {},
   "source": [
    "### 1. PSD graph plot between MDD and Control group\n",
    "\n",
    "For resting state EEG channel, analyzing the overall average power across channels provides a holistic view of the brain's activity without emphasizing the specificity of individual channels."
   ]
  },
  {
   "cell_type": "code",
   "execution_count": 18,
   "metadata": {},
   "outputs": [
    {
     "name": "stdout",
     "output_type": "stream",
     "text": [
      "Dropped 0 epochs: \n",
      "The following epochs were marked as bad and are dropped:\n",
      "[]\n",
      "Channels marked as bad:\n",
      "none\n",
      "Channels marked as bad:\n",
      "none\n",
      "Dropped 0 epochs: \n",
      "The following epochs were marked as bad and are dropped:\n",
      "[]\n",
      "Channels marked as bad:\n",
      "none\n",
      "Channels marked as bad:\n",
      "none\n"
     ]
    }
   ],
   "source": [
    "# Amplitude plots between both groups\n",
    "epochs_1_avg = epochs_1['1'].average()\n",
    "epochs_2_avg = epochs_2['1'].average()\n",
    "# evokeds = dict(epochs_1=epochs_1)\n",
    "fig_1 = epochs_1_avg.plot(titles=GROUP1, time_unit = 'ms')\n",
    "fig_2 = epochs_2_avg.plot(titles=GROUP2, time_unit = 'ms')"
   ]
  },
  {
   "cell_type": "markdown",
   "metadata": {},
   "source": [
    "1.1 PSD using plot_psd"
   ]
  },
  {
   "cell_type": "code",
   "execution_count": 19,
   "metadata": {},
   "outputs": [
    {
     "name": "stdout",
     "output_type": "stream",
     "text": [
      "NOTE: plot_psd() is a legacy function. New code should use .compute_psd().plot().\n",
      "Effective window size : 4.096 (s)\n",
      "NOTE: plot_psd() is a legacy function. New code should use .compute_psd().plot().\n",
      "Effective window size : 4.096 (s)\n"
     ]
    }
   ],
   "source": [
    "fig, ax = plt.subplots()\n",
    "#plot_psd uses welch method for continuous data\n",
    "raw_1.plot_psd(picks=raw_1.info['ch_names'], average=True, fmin=FMIN, fmax=FMAX, ax=ax, show=False, color='blue', dB=False)\n",
    "raw_2.plot_psd(picks=raw_2.info['ch_names'], average=True, fmin=FMIN, fmax=FMAX, ax=ax, show=False, color='red', dB=False)\n",
    "\n",
    "# dB = True plots PSD in decibels (logarithmic)\n",
    "# different n_fft compared to psd_array_welch\n",
    "ax.set_xlabel('Frequency (Hz)')\n",
    "ax.set_ylabel('Power/Frequency (microV^2/Hz)')\n",
    "ax.set_title('Power Spectral Density Comparison')\n",
    "\n",
    "ax.text(0.8, 0.9, GROUP1, color='blue', transform=ax.transAxes)\n",
    "ax.text(0.8, 0.85, GROUP2, color='red', transform=ax.transAxes)\n",
    "\n",
    "plt.ylim(0, 5)\n",
    "plt.show()"
   ]
  },
  {
   "cell_type": "markdown",
   "metadata": {},
   "source": [
    "1.2 Average of power using welch method"
   ]
  },
  {
   "cell_type": "code",
   "execution_count": 20,
   "metadata": {},
   "outputs": [
    {
     "name": "stdout",
     "output_type": "stream",
     "text": [
      "Effective window size : 0.512 (s)\n",
      "Effective window size : 0.512 (s)\n"
     ]
    }
   ],
   "source": [
    "labels = np.arange(0, FMAX)\n",
    "# welch always gives positive psd\n",
    "psd_1, frequencies = mne.time_frequency.psd_array_welch(raw_1.get_data(), fmin=FMIN, fmax=FMAX, sfreq=SFREQ)\n",
    "psd_2, frequencies = mne.time_frequency.psd_array_welch(raw_2.get_data(), fmin=FMIN, fmax=FMAX, sfreq=SFREQ)\n",
    "avg_abs_power_1, avg_abs_power_2 = np.mean(psd_1, axis=0), np.mean(psd_2, axis=0) \n",
    "\n",
    "plt.figure()\n",
    "plt.plot(frequencies, avg_abs_power_1, color='blue', label=GROUP1)\n",
    "plt.plot(frequencies, avg_abs_power_2, color='red', label=GROUP2)\n",
    "plt.title('Welch - Average Power')\n",
    "plt.xlabel('Frequency (Hz)')\n",
    "plt.xticks(labels, labels, rotation ='vertical') \n",
    "plt.ylabel('Power (V^2/Hz)')\n",
    "plt.legend()\n",
    "plt.show()"
   ]
  },
  {
   "cell_type": "markdown",
   "metadata": {},
   "source": [
    "1.3 Statistical testing between psds of raw"
   ]
  },
  {
   "cell_type": "markdown",
   "metadata": {},
   "source": [
    "1.3.1 Plotting Histogram\n",
    "\n",
    "Shows if the data is bell shaped, skewed (positive or negative), uniform etc. Central tendency - highest peak in histogram. Spread - width of distribution"
   ]
  },
  {
   "cell_type": "code",
   "execution_count": 21,
   "metadata": {},
   "outputs": [],
   "source": [
    "g1_avg = np.mean(raw_1.get_data(), axis=0)\n",
    "plt.hist(g1_avg, bins='auto', alpha=0.7, edgecolor='black')\n",
    "plt.title(f'Histogram of {GROUP1} Data - averaged across all channels')\n",
    "plt.xlabel('Values')\n",
    "plt.ylabel('Frequency')\n",
    "plt.show()"
   ]
  },
  {
   "cell_type": "code",
   "execution_count": 22,
   "metadata": {},
   "outputs": [],
   "source": [
    "g2_avg = np.mean(raw_2.get_data(), axis=0)\n",
    "plt.hist(g2_avg, bins='auto', alpha=0.7, edgecolor='black')\n",
    "plt.title(f'Histogram of {GROUP2} Data - averaged across all channels')\n",
    "plt.xlabel('Values')\n",
    "plt.ylabel('Frequency')\n",
    "plt.show()"
   ]
  },
  {
   "cell_type": "code",
   "execution_count": 23,
   "metadata": {},
   "outputs": [
    {
     "name": "stdout",
     "output_type": "stream",
     "text": [
      "PRE-ACTIVE mean:  -2.3275271436784798e-20\n",
      "POST-ACTIVE mean:  3.1831808974310737e-21\n"
     ]
    }
   ],
   "source": [
    "print(f\"{GROUP1} mean: \", np.mean(g1_avg, axis=0))\n",
    "print(f\"{GROUP2} mean: \", np.mean(g2_avg, axis=0))"
   ]
  },
  {
   "cell_type": "markdown",
   "metadata": {},
   "source": [
    "1.3.2 Calculate variance of both groups"
   ]
  },
  {
   "cell_type": "code",
   "execution_count": null,
   "metadata": {},
   "outputs": [],
   "source": [
    "variance_1 = np.var(psd_1, ddof=1) \n",
    "variance_2 = np.var(psd_2, ddof=1)\n",
    "print(f\"{GROUP1} variance: \", variance_1)\n",
    "print(f\"{GROUP2} variance: \", variance_2)"
   ]
  },
  {
   "cell_type": "markdown",
   "metadata": {},
   "source": [
    "1.3.3 Find differences between the means of two independent groups"
   ]
  },
  {
   "cell_type": "markdown",
   "metadata": {},
   "source": [
    "For example, null hypothesis: there is no significant difference between groups (ie means are equal).\n",
    "alternative hypothesis: there is a significant difference between groups\n",
    "t-test : compares the differences between group means to expected variability in data"
   ]
  },
  {
   "cell_type": "code",
   "execution_count": 24,
   "metadata": {},
   "outputs": [
    {
     "name": "stdout",
     "output_type": "stream",
     "text": [
      "Raw Data PSD Comparison Results:\n",
      "T-statistic: [ 1.26529123  0.97028807  0.59038863 -0.96099075 -0.75705655  0.95199466\n",
      "  0.14361388 -0.17924601  0.21820263 -0.07942078  0.78222149 -0.59559333\n",
      "  0.94571686 -0.31620998  0.76652309  0.84944897  0.97971956  0.99431895\n",
      "  0.99373687  0.27046654 -0.04645639 -0.23230353  0.20520954 -0.67452541\n",
      " -0.97302061 -0.09462328 -0.43890912 -0.52959481 -0.10585882  1.00516915\n",
      " -0.98643579  1.05026264]\n",
      "P-values: [0.21242675 0.33720672 0.55795044 0.34180835 0.4530511  0.34630026\n",
      " 0.88646111 0.85856742 0.82828011 0.93705806 0.43827388 0.55449832\n",
      " 0.34945783 0.75333837 0.44745834 0.40022985 0.33258097 0.32550455\n",
      " 0.32578473 0.78806603 0.96315671 0.81737941 0.83835485 0.50350622\n",
      " 0.33586215 0.92504367 0.66287522 0.59905508 0.91617552 0.32031146\n",
      " 0.3293129  0.29933183]\n"
     ]
    }
   ],
   "source": [
    "p_values = np.zeros(32)\n",
    "t = np.zeros(32)\n",
    "for i in range(32):\n",
    "    t[i], p_values[i] = ttest_ind(psd_1[i, :], psd_2[i, :])\n",
    "# independent t-test comparison : equal_var = True\n",
    "# welch's t-test comparison: equal_var = False\n",
    "print(\"Raw Data PSD Comparison Results:\")\n",
    "print(\"T-statistic:\", t)\n",
    "print(\"P-values:\", p_values) # probability of getting t-statistic >= what we got"
   ]
  },
  {
   "cell_type": "code",
   "execution_count": 25,
   "metadata": {},
   "outputs": [
    {
     "name": "stdout",
     "output_type": "stream",
     "text": [
      "Raw Data PSD Comparison Results:\n",
      "T-statistic: 0.42017565149324615\n",
      "P-values: 0.6768892074324171\n"
     ]
    }
   ],
   "source": [
    "t_statistic, p_values = ttest_ind(np.mean(psd_1, axis=0), np.mean(psd_2, axis=0), equal_var=False)\n",
    "# independent t-test comparison : equal_var = True\n",
    "# welch's t-test comparison: equal_var = False\n",
    "print(\"Raw Data PSD Comparison Results:\")\n",
    "print(\"T-statistic:\", t_statistic)\n",
    "print(\"P-values:\", p_values) # probability of getting t-statistic >= what we got"
   ]
  },
  {
   "cell_type": "markdown",
   "metadata": {},
   "source": [
    "If p value < 0.005, we reject the null hypothesis"
   ]
  },
  {
   "cell_type": "markdown",
   "metadata": {},
   "source": [
    "### 2. PLI and construction of brain function matrices"
   ]
  },
  {
   "cell_type": "code",
   "execution_count": null,
   "metadata": {},
   "outputs": [],
   "source": [
    "# pli method always gives positive correlations\n",
    "connectivity = {}\n",
    "def connectivity_matrix(epochs, i):\n",
    "    return spectral_connectivity_epochs(\n",
    "    epochs, method='pli', mode='multitaper', sfreq=SFREQ,\n",
    "    fmin=FREQ_BANDS[mapping[i]][0], fmax=FREQ_BANDS[mapping[i]][1], faverage=True, n_jobs=1)\n"
   ]
  },
  {
   "cell_type": "code",
   "execution_count": null,
   "metadata": {},
   "outputs": [],
   "source": [
    "n_channels = len(raw_1.info['ch_names'])\n",
    "for i in mapping:\n",
    "    con = connectivity_matrix(epochs_1, i)\n",
    "    connectivity[f'{GROUP1}-{mapping[i]}'] = con.get_data().reshape((n_channels, n_channels))\n",
    "\n",
    "    con = connectivity_matrix(epochs_2, i)\n",
    "    connectivity[f'{GROUP2}-{mapping[i]}'] = con.get_data().reshape((n_channels, n_channels))\n",
    "\n",
    "    # Make matrix symmetric\n",
    "    for row in range(n_channels):\n",
    "        for col in range(n_channels):\n",
    "            connectivity[f'{GROUP1}-{mapping[i]}'][row][col] = connectivity[f'{GROUP1}-{mapping[i]}'][col][row]\n",
    "            connectivity[f'{GROUP2}-{mapping[i]}'][row][col] = connectivity[f'{GROUP2}-{mapping[i]}'][col][row]\n",
    "    "
   ]
  },
  {
   "cell_type": "code",
   "execution_count": null,
   "metadata": {},
   "outputs": [],
   "source": [
    "print((connectivity.keys()))"
   ]
  },
  {
   "cell_type": "markdown",
   "metadata": {},
   "source": [
    "### 3. Thresholding - M1 -  Small World Index"
   ]
  },
  {
   "cell_type": "code",
   "execution_count": null,
   "metadata": {},
   "outputs": [],
   "source": [
    "# Preserves small-world properties in both groups to ensure that any observed differences in connectivity are not biased by the thresholding method.\n",
    "# Preserving these properties ensures that information can be transmitted quickly and effectively across the network."
   ]
  },
  {
   "cell_type": "code",
   "execution_count": null,
   "metadata": {},
   "outputs": [],
   "source": [
    "optimal_threshold = {}\n",
    "edges_1 = {}\n",
    "edges_2 = {}\n",
    "# Generating 50 random networks with same number of vertices and edges \n",
    "random_networks = [nx.gnm_random_graph(n_channels, 496) for _ in range(50)]\n",
    "thresholds = np.arange(0.1, 0.9, 0.002)\n",
    "table = []\n",
    "\n",
    "for i in mapping:\n",
    "    edges_1[mapping[i]] = []\n",
    "    edges_2[mapping[i]] = []\n",
    "    ratios = []\n",
    "    for threshold in thresholds:\n",
    "        # TODO: Cross check should we ignore thresholds which result in matrix to be not connected ?\n",
    "        g1 = calculate_avergae_components(nx.from_numpy_array(connectivity[f'{GROUP1}-{mapping[i]}'] > threshold))\n",
    "        Lw_1_binarized, CC_1_binarized = g1[0], g1[3]\n",
    "\n",
    "        g2 = calculate_avergae_components(nx.from_numpy_array(connectivity[f'{GROUP2}-{mapping[i]}'] > threshold))\n",
    "        Lw_2_binarized, CC_2_binarized = g2[0], g2[3]\n",
    "\n",
    "        swi_ratio_binarized =  (CC_1_binarized*Lw_2_binarized)/(Lw_1_binarized*CC_2_binarized) if Lw_1_binarized and CC_2_binarized else 0\n",
    "        ratios.append(swi_ratio_binarized)\n",
    "        \n",
    "    optimal_threshold[mapping[i]] = thresholds[np.argmax(np.abs(ratios))]\n",
    "    t_stat, p_value = ttest_ind(np.mean(connectivity[f'{GROUP1}-{mapping[i]}'], axis=0), np.mean(connectivity[f'{GROUP2}-{mapping[i]}'], axis=0)) \n",
    "    if p_value < 0.005: # Reject the null hypotheses\n",
    "        Crand = np.mean([calculate_avergae_components(nx.from_numpy_array((nx.to_numpy_array(G) > optimal_threshold[mapping[i]])))[3] for G in random_networks])\n",
    "        Lrand = np.mean([calculate_avergae_components(nx.from_numpy_array((nx.to_numpy_array(G) > optimal_threshold[mapping[i]])))[0] for G in random_networks])\n",
    "\n",
    "        graph1 = calculate_avergae_components(nx.from_numpy_array(connectivity[f'{GROUP1}-{mapping[i]}'] > optimal_threshold[mapping[i]]))\n",
    "        Lw_1_binarized, CC_1_binarized = graph1[0], graph1[3]\n",
    "\n",
    "        graph2 = calculate_avergae_components(nx.from_numpy_array(connectivity[f'{GROUP2}-{mapping[i]}'] > optimal_threshold[mapping[i]]))\n",
    "        Lw_2_binarized, CC_2_binarized = graph2[0], graph2[3]\n",
    "\n",
    "        swi_binarized_1 =  (CC_1_binarized/Crand)/(Lw_1_binarized/Lrand)\n",
    "        swi_binarized_2 = (CC_2_binarized/Crand)/(Lw_2_binarized/Lrand)\n",
    "        print(swi_binarized_1, \"Cc1 \", CC_1_binarized, \"Lw1 \", Lw_1_binarized)\n",
    "        print(swi_binarized_2, \"Cc2 \", CC_2_binarized, \"Lw2 \", Lw_2_binarized)  \n",
    "\n",
    "        edges_1[mapping[i]].append(nx.from_numpy_array(connectivity[f'{GROUP1}-{mapping[i]}'] > optimal_threshold[mapping[i]]).number_of_edges())\n",
    "        edges_2[mapping[i]].append(nx.from_numpy_array(connectivity[f'{GROUP2}-{mapping[i]}'] > optimal_threshold[mapping[i]]).number_of_edges())\n",
    "\n",
    "        print(f\"{mapping[i]} - Optimal Threshold: {optimal_threshold[mapping[i]]} (Significant)\", p_value)\n",
    "        table.append([mapping[i], str(swi_binarized_1)+' ('+str(CC_1_binarized)+','+str(Lw_1_binarized)+') ',  str(swi_binarized_2)+' ('+str(CC_2_binarized)+','+str(Lw_2_binarized)+') '])\n",
    "    else:\n",
    "        table.append([mapping[i], None, None])"
   ]
  },
  {
   "cell_type": "code",
   "execution_count": null,
   "metadata": {},
   "outputs": [],
   "source": [
    "df = pd.DataFrame(table, columns=['FREQ BAND', f'{GROUP1}-CC/Lw', f'{GROUP2}-CC/Lw'])\n",
    "df.to_excel('comparison-results/average-swi.xlsx')"
   ]
  },
  {
   "cell_type": "code",
   "execution_count": null,
   "metadata": {},
   "outputs": [],
   "source": [
    "optimal_threshold"
   ]
  },
  {
   "cell_type": "code",
   "execution_count": null,
   "metadata": {},
   "outputs": [],
   "source": [
    "binarized_matrix = {}\n",
    "for i in mapping:\n",
    "    binarized_matrix[f'{GROUP1}-{mapping[i]}'] = connectivity[f'{GROUP1}-{mapping[i]}'] > optimal_threshold[mapping[i]]\n",
    "    binarized_matrix[f'{GROUP2}-{mapping[i]}'] = connectivity[f'{GROUP2}-{mapping[i]}'] > optimal_threshold[mapping[i]]\n",
    "print(binarized_matrix.keys())"
   ]
  },
  {
   "cell_type": "markdown",
   "metadata": {},
   "source": [
    "Find number of links in each graph"
   ]
  },
  {
   "cell_type": "code",
   "execution_count": null,
   "metadata": {},
   "outputs": [],
   "source": [
    "table = []\n",
    "for i in mapping:\n",
    "    links_g1 = 0\n",
    "    links_g2 = 0\n",
    "\n",
    "    for row in range(n_channels):\n",
    "        for col in range(row+1):\n",
    "            if binarized_matrix[f'{GROUP1}-{mapping[i]}'][row][col] == 1:\n",
    "                links_g1+=1\n",
    "            if binarized_matrix[f'{GROUP2}-{mapping[i]}'][row][col] == 1:\n",
    "                links_g2+=1\n",
    "\n",
    "    print(f'{GROUP1}-{mapping[i]}-number of links: K=', links_g1)\n",
    "    print(f'{GROUP2}-{mapping[i]}-number of links: K=', links_g2)\n",
    "\n",
    "    table.append([mapping[i], links_g1, links_g2])\n",
    "\n",
    "df = pd.DataFrame(table, columns=['FREQ BAND', f'{GROUP1}-Links', f'{GROUP2}-Links'])\n",
    "df.to_excel('comparison-results/average-links.xlsx')"
   ]
  },
  {
   "cell_type": "markdown",
   "metadata": {},
   "source": [
    "### 5. Asymmetry in  each band"
   ]
  },
  {
   "cell_type": "code",
   "execution_count": null,
   "metadata": {},
   "outputs": [],
   "source": [
    "left_region = ['Fp1', 'AF3', 'PO3','O1', 'CP1', 'FC1', 'P3', 'C3', 'F3', 'F7', 'FC5', 'CP5', 'T7', 'P7']\n",
    "right_region = ['P8', 'T8', 'CP6', 'FC6', 'F8', 'F4', 'C4', 'P4', 'AF4', 'Fp2', 'FC2', 'CP2', 'O2', 'PO4']\n",
    "\n",
    "table = []\n",
    "for i in mapping:\n",
    "    lr = 1\n",
    "    rr = 1\n",
    "    lrc = 1\n",
    "    rrc = 1\n",
    "    for row in range(n_channels):\n",
    "        for col in range(row+1):\n",
    "            if binarized_matrix[f'{GROUP1}-{mapping[i]}'][row][col] == 1:\n",
    "                if raw_1.info['ch_names'][row] in left_region or raw_1.info['ch_names'][col] in left_region:\n",
    "                    lr += 1\n",
    "                if raw_1.info['ch_names'][row] in right_region or raw_1.info['ch_names'][col] in right_region:\n",
    "                    rr += 1\n",
    "                # print(raw_1.info['ch_names'][row], raw_1.info['ch_names'][col])\n",
    "\n",
    "            if binarized_matrix[f'{GROUP2}-{mapping[i]}'][row][col] == 1:\n",
    "                if raw_1.info['ch_names'][row] in left_region or raw_1.info['ch_names'][col] in left_region:\n",
    "                    lrc += 1\n",
    "                if raw_1.info['ch_names'][row] in right_region or raw_1.info['ch_names'][col] in right_region:\n",
    "                    rrc += 1\n",
    "                # print(raw_1.info['ch_names'][row], raw_1.info['ch_names'][col])\n",
    "\n",
    "    print(f\"{GROUP1}: \",mapping[i], \"left region: \", lr, \"right region: \", rr, \"proportion: \", lr/rr)\n",
    "    print(f\"{GROUP2}: \", mapping[i], \"left region: \", lrc, \"right region: \", rrc, \"proportion: \", lrc/rrc)\n",
    "\n",
    "    table.append([mapping[i], lr/rr, lrc/rrc])\n",
    "\n",
    "df = pd.DataFrame(table, columns=['FREQ BAND', f'{GROUP1}-Left/Right edges', f'{GROUP2}-Left/Right edges'])\n",
    "df.to_excel('comparison-results/average-asymmetry.xlsx')"
   ]
  },
  {
   "cell_type": "markdown",
   "metadata": {},
   "source": [
    "### 6. Difference matrix"
   ]
  },
  {
   "cell_type": "code",
   "execution_count": null,
   "metadata": {},
   "outputs": [],
   "source": [
    "def return_index(channels_list, raw):\n",
    "    indexes = []\n",
    "    for channel in channels_list:\n",
    "        for i in range(len(raw.info['ch_names'])):\n",
    "            if raw.info['ch_names'][i]==channel:\n",
    "                indexes.append(i)\n",
    "    return(indexes)"
   ]
  },
  {
   "cell_type": "code",
   "execution_count": null,
   "metadata": {},
   "outputs": [],
   "source": [
    "central_channels = return_index(['Pz', 'Oz', 'Fz', 'Cz'], raw_1)\n",
    "central_channels\n",
    "raw_1.info['bads'] = []"
   ]
  },
  {
   "cell_type": "code",
   "execution_count": null,
   "metadata": {},
   "outputs": [],
   "source": [
    "# ALL_CHANNELS = np.array(['P8', 'T8', 'CP6', 'FC6', 'F8', 'F4', 'C4', 'P4', 'AF4', 'Fp2',\n",
    "#        'Fp1', 'AF3', 'Fz', 'FC2', 'Cz', 'CP2', 'PO3', 'O1', 'Oz', 'O2',\n",
    "#        'PO4', 'Pz', 'CP1', 'FC1', 'P3', 'C3', 'F3', 'F7', 'FC5', 'CP5',\n",
    "#        'T7', 'P7'])\n",
    "# def set_montage(raw):\n",
    "#     mont1020 = mne.channels.make_standard_montage('standard_1020')\n",
    "#     ind = [i for (i, channel) in enumerate(mont1020.ch_names) if channel in ALL_CHANNELS]\n",
    "#     mont1020_new = mont1020.copy()\n",
    "#     mont1020_new.ch_names = [mont1020.ch_names[x] for x in ind]\n",
    "#     kept_channel_info = [mont1020.dig[x+3] for x in ind]\n",
    "#     mont1020_new.dig = mont1020.dig[0:3]+kept_channel_info\n",
    "#     print(\"sjkghdkgu\", mont1020_new)\n",
    "#     return raw.set_montage(mont1020_new)"
   ]
  },
  {
   "cell_type": "code",
   "execution_count": null,
   "metadata": {},
   "outputs": [],
   "source": [
    "difference_matrix = {}\n",
    "for i in mapping:\n",
    "    difference_matrix[mapping[i]] = binarized_matrix[f'{GROUP2}-{mapping[i]}'].astype(int) - binarized_matrix[f'{GROUP1}-{mapping[i]}'].astype(int) \n",
    "    # difference_matrix[mapping[i]] = binarized_matrix[f'{GROUP1}-{mapping[i]}'].astype(int) - binarized_matrix[f'{GROUP2}-{mapping[i]}'].astype(int) \n",
    "    for k in range(n_channels):\n",
    "        for l in range(n_channels):\n",
    "            if difference_matrix[mapping[i]][k][l] == -1 or k in central_channels or l in central_channels:\n",
    "                difference_matrix[mapping[i]][k][l] = 0\n",
    "\n",
    "    # Yellow - Higher synchronisation\n",
    "    # plt.imshow(difference_matrix[mapping[i]], interpolation='none')\n",
    "    # plt.title(f'Functional connectivity - {[mapping[i]]} - Visualization')\n",
    "    # plt.xticks([_ for _ in range(n_channels)], raw_1.info['ch_names'], rotation='vertical')\n",
    "    # plt.yticks([_ for _ in range(n_channels)], raw_1.info['ch_names'], rotation='horizontal')\n",
    "    # plt.grid(True, which='both', linestyle='--', linewidth=0.5)\n",
    "    # plt.show()\n",
    "\n",
    "    # plot_sensors_connectivity(\n",
    "    #     raw_1.info,\n",
    "    #     difference_matrix[mapping[i]],\n",
    "    #     cbar_label=f'{mapping[i]}-Connectivity',\n",
    "    #     )"
   ]
  },
  {
   "cell_type": "code",
   "execution_count": null,
   "metadata": {},
   "outputs": [],
   "source": [
    "selected_channels = {}\n",
    "for i in mapping:\n",
    "    selected_channels[mapping[i]] = []\n",
    "\n",
    "    for ch in range(32):\n",
    "        # TODO: instead of number of edges wise, we can explore other algorithm\n",
    "        if len(nx.from_numpy_array(difference_matrix[mapping[i]]).edges(ch)) > 6:\n",
    "            selected_channels[mapping[i]].append(raw_1.info['ch_names'][ch])\n",
    "print(selected_channels)"
   ]
  },
  {
   "cell_type": "code",
   "execution_count": null,
   "metadata": {},
   "outputs": [],
   "source": [
    "selected_channels = {}\n",
    "for i in mapping:\n",
    "    selected_channels[mapping[i]] = []\n",
    "\n",
    "    for ch in range(32):\n",
    "        # TODO: instead of number of edges wise, we can explore other algorithm\n",
    "        if len(nx.from_numpy_array(difference_matrix[mapping[i]]).edges(ch)) > 5:\n",
    "            selected_channels[mapping[i]].append(raw_1.info['ch_names'][ch])\n",
    "print(selected_channels)"
   ]
  },
  {
   "cell_type": "markdown",
   "metadata": {},
   "source": [
    "Create dictionary of Regions in brain vs channels"
   ]
  },
  {
   "cell_type": "code",
   "execution_count": null,
   "metadata": {},
   "outputs": [],
   "source": [
    "regionvschannel = {\n",
    "    'LC': ['C3', 'CP1', 'CP5', 'FC1', 'FC5'], # Left central \n",
    "    'LF': ['FP1', 'AF3', 'F3', 'F7'], # Left frontal\n",
    "    'LT': ['T7'], # Left temporal\n",
    "    'LPO': ['PO3',  'P3', 'P7', 'O1'], # Left parietal-occipital\n",
    "    'RC': ['CP6', 'FC6', 'C4', 'FC2', 'CP2',], # Right central \n",
    "    'RF': ['F8', 'F4', 'AF4', 'FP2'], # Right frontal\n",
    "    'RT': ['T8'], # Right temporal\n",
    "    'RPO': ['P8', 'P4', 'PO4', 'O2'] , # Right parietal-occipital\n",
    "}"
   ]
  },
  {
   "cell_type": "code",
   "execution_count": null,
   "metadata": {},
   "outputs": [],
   "source": [
    "selected_regions = {}\n",
    "# selected_regions['alpha2'] = ['RPO', 'LT', 'LF', 'LC']\n",
    "# selected_regions['alpha1'] = ['LT', 'LC', 'LF', 'RPO'] # 1 in RPO\n",
    "# selected_regions['theta'] = ['LC', 'LF'] # 1 in LC and 1 in LF\n",
    "# selected_regions['delta'] =  ['LF', 'LC', 'RF', 'RC'] # 1-1 in 'LC', 'RF', 'RC'\n",
    "selected_regions['delta'] =  ['LF', 'LC', 'RT']\n",
    "selected_regions['theta'] = ['LPO', 'LC', 'RPO']\n",
    "selected_regions['alpha1'] = ['LPO', 'RPO']\n",
    "selected_regions['alpha2'] = ['LC', 'RPO']"
   ]
  },
  {
   "cell_type": "markdown",
   "metadata": {},
   "source": [
    "### 7. Network Metrics for selected regions for selected bands\n",
    "\n",
    "\n",
    "Boxplot helps in reading median, interquartile range and outliers\n",
    "Box : middle 50% of all data lies (Interquartile range)\n",
    "Lower end: 1st quartile\n",
    "Upper end: 3rd quartile\n",
    "Solid line: Median\n",
    "Dashed line: Mean\n",
    "T shaped whiskers: Last point 1.5 times the interquartile range (max and min without outliers)\n",
    "Points: Further out are outliers"
   ]
  },
  {
   "cell_type": "code",
   "execution_count": null,
   "metadata": {},
   "outputs": [],
   "source": [
    "group_measures = ['Lw', 'NBC', 'Eglo', 'CC', 'Eloc']"
   ]
  },
  {
   "cell_type": "code",
   "execution_count": null,
   "metadata": {},
   "outputs": [],
   "source": [
    "# # Integration metrics - Lavg, Eglo \n",
    "# # Segregation metrics - CC, Eloc, Nbc\n",
    "# import seaborn as sns\n",
    "# for i in mapping:\n",
    "#     selected_region = selected_regions[mapping[i]]\n",
    "\n",
    "#     if selected_region == []:\n",
    "#         continue\n",
    "\n",
    "#     # con_MDD = connectivity_matrix(epochs_1, i)\n",
    "#     # con_control = connectivity_matrix(epochs_2, i)\n",
    "#     G_MDD = nx.from_numpy_array(binarized_matrix[f'{GROUP1}-{mapping[i]}'])\n",
    "#     G_Control = nx.from_numpy_array(binarized_matrix[f'{GROUP2}-{mapping[i]}'])\n",
    "\n",
    "#     for region in selected_region:\n",
    "#         channels_list = regionvschannel[region]\n",
    "#         G_sub = G_MDD.subgraph(return_index(channels_list, raw_1))\n",
    "#         MDD_list = calculate_avergae_components(G_sub)\n",
    "#         G_sub = G_Control.subgraph(return_index(channels_list, raw_2))\n",
    "#         control_list = calculate_avergae_components(G_sub)\n",
    "\n",
    "#         print(MDD_list, \"fdhgjgdfjd\", control_list)\n",
    "\n",
    "#         # CHECK HERE if keys in MDD_list[1] matches with keys in control_list[1]\n",
    "#         # and keys in MDD_list[3] matches with keys in control_list[3]\n",
    "        \n",
    "#         values_MDD = []\n",
    "#         values_control = []\n",
    "#         group_labels_MDD = []\n",
    "#         group_labels_control = [] \n",
    "\n",
    "#         for _ in range(5):\n",
    "#             print(\"********\", MDD_list)\n",
    "#             if len(MDD_list[_]):\n",
    "#                 if type(MDD_list[_][0]) == type(dict()):\n",
    "#                     x = []\n",
    "#                     for __ in range(len(MDD_list[_])):\n",
    "#                         for k,v in MDD_list[_][__].items():\n",
    "#                             x.append(v)\n",
    "#                     values_MDD.append(x)\n",
    "#                 else:\n",
    "#                     values_MDD.append(MDD_list[_])\n",
    "#             else:\n",
    "#                 values_MDD.append([])\n",
    "#             if (control_list[_]):\n",
    "#                 if type(control_list[_][0]) == type(dict()):\n",
    "#                     y = []\n",
    "#                     for __ in range(len(control_list[_])):\n",
    "#                         for k,v in control_list[_][__].items():\n",
    "#                             y.append(v)\n",
    "#                     values_control.append(y)\n",
    "#                 else:\n",
    "#                     values_control.append(control_list[_])\n",
    "#             else:\n",
    "#                 values_control.append([])\n",
    "#             group_labels_MDD.append(f'{GROUP1}-{group_measures[_]}')\n",
    "#             group_labels_control.append(f'{GROUP2}-{group_measures[_]}')\n",
    "            \n",
    "#         values_all = values_1 + values_control\n",
    "#         group_labels = group_labels_MDD + group_labels_control\n",
    "\n",
    "#         print(\"values all\", values_all)\n",
    "#         print(\"group labels\", group_labels)\n",
    "\n",
    "#         plt.figure(figsize=(12, 8))\n",
    "#         plt.boxplot(values_all, labels=group_labels, vert=True)\n",
    "#         plt.title(f'Boxplot of Network Metrics for MDD and Control Groups in {mapping[i]} band in {region} region')\n",
    "#         plt.xlabel('Network Metrics')\n",
    "#         plt.ylabel('Values')\n",
    "#         plt.show()"
   ]
  },
  {
   "cell_type": "markdown",
   "metadata": {},
   "source": [
    "8. Mark all regions in brain along with Netowrk metrics which are significant"
   ]
  },
  {
   "cell_type": "code",
   "execution_count": null,
   "metadata": {},
   "outputs": [],
   "source": []
  }
 ],
 "metadata": {
  "kernelspec": {
   "display_name": "Python 3",
   "language": "python",
   "name": "python3"
  },
  "language_info": {
   "codemirror_mode": {
    "name": "ipython",
    "version": 3
   },
   "file_extension": ".py",
   "mimetype": "text/x-python",
   "name": "python",
   "nbconvert_exporter": "python",
   "pygments_lexer": "ipython3",
   "version": "3.8.10"
  }
 },
 "nbformat": 4,
 "nbformat_minor": 2
}
