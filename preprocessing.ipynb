{
 "cells": [
  {
   "cell_type": "markdown",
   "metadata": {},
   "source": [
    "Band pass filtering"
   ]
  },
  {
   "cell_type": "code",
   "execution_count": null,
   "metadata": {},
   "outputs": [],
   "source": [
    "def band_pass_filter(raw, l_freq=FMIN, h_freq=FMAX):\n",
    "    raw.filter(method= 'fir',\n",
    "        phase= 'minimum',\n",
    "        fir_window= 'hann',\n",
    "        l_freq= l_freq,\n",
    "        h_freq= h_freq)\n",
    "    return raw"
   ]
  },
  {
   "cell_type": "markdown",
   "metadata": {},
   "source": [
    "Rereferencing\n",
    "\n",
    "Calculates the mean voltage from all electrodes at each time point and subtracts this mean from the voltage at each individual electrode."
   ]
  },
  {
   "cell_type": "code",
   "execution_count": null,
   "metadata": {},
   "outputs": [
    {
     "ename": "NameError",
     "evalue": "name 'raw_cleaned' is not defined",
     "output_type": "error",
     "traceback": [
      "\u001b[1;31m---------------------------------------------------------------------------\u001b[0m\n",
      "\u001b[1;31mNameError\u001b[0m                                 Traceback (most recent call last)\n",
      "Cell \u001b[1;32mIn[3], line 4\u001b[0m\n",
      "\u001b[0;32m      2\u001b[0m     raw_cleaned\u001b[38;5;241m.\u001b[39mset_eeg_reference(\u001b[38;5;124m'\u001b[39m\u001b[38;5;124maverage\u001b[39m\u001b[38;5;124m'\u001b[39m, projection\u001b[38;5;241m=\u001b[39m\u001b[38;5;28;01mTrue\u001b[39;00m)\u001b[38;5;241m.\u001b[39mapply_proj() \n",
      "\u001b[0;32m      3\u001b[0m     \u001b[38;5;28;01mreturn\u001b[39;00m raw_cleaned\n",
      "\u001b[1;32m----> 4\u001b[0m raw_cleaned \u001b[38;5;241m=\u001b[39m rereferencing(\u001b[43mraw_cleaned\u001b[49m)\n",
      "\n",
      "\u001b[1;31mNameError\u001b[0m: name 'raw_cleaned' is not defined"
     ]
    }
   ],
   "source": [
    "def rereferencing(raw):\n",
    "    raw.set_eeg_reference('average', projection=True).apply_proj() \n",
    "    return raw"
   ]
  },
  {
   "cell_type": "markdown",
   "metadata": {},
   "source": [
    "Artifact Rejection (EOG/ECG) using Wavelet decomposition"
   ]
  },
  {
   "cell_type": "code",
   "execution_count": null,
   "metadata": {},
   "outputs": [],
   "source": [
    "def wavelet_decompose(raw):\n",
    "    info = raw.info\n",
    "    coeffs = pywt.wavedec(raw.get_data(), 'db13', level=4)\n",
    "    threshold = 0.00001 # applying a shrinkage function that smoothly brings coefficients below the threshold to zero\n",
    "    coeffs_thresholded = [pywt.threshold(c, threshold, mode='soft') for c in coeffs] \n",
    "    denoised_signal = pywt.waverec(coeffs_thresholded, 'db13')\n",
    "    raw = mne.io.RawArray(denoised_signal, info)\n",
    "    return raw"
   ]
  },
  {
   "cell_type": "markdown",
   "metadata": {},
   "source": [
    "Crop signal"
   ]
  },
  {
   "cell_type": "code",
   "execution_count": null,
   "metadata": {},
   "outputs": [],
   "source": [
    "def crop(raw, l, h):\n",
    "    return raw.crop(l,h)"
   ]
  },
  {
   "cell_type": "markdown",
   "metadata": {},
   "source": [
    "Resampling"
   ]
  },
  {
   "cell_type": "code",
   "execution_count": null,
   "metadata": {},
   "outputs": [],
   "source": [
    "def resampling(raw, SFREQ=SFREQ):\n",
    "    return raw.resample(sfreq=SFREQ)"
   ]
  },
  {
   "cell_type": "markdown",
   "metadata": {},
   "source": [
    "Drop channels\n",
    "\n",
    "Dropping extra channels in both groups\n",
    "TODO: Instead of dropping we can convert 10-10 64 channels montage to 10-20 32 channels"
   ]
  },
  {
   "cell_type": "code",
   "execution_count": null,
   "metadata": {},
   "outputs": [],
   "source": [
    "def drop_channels(raw, raw_MDD):\n",
    "    drop = []\n",
    "    for chan in raw.info['ch_names']:\n",
    "        if chan not in raw_MDD.info['ch_names']:\n",
    "            drop.append(chan)\n",
    "    raw.drop_channels(drop)\n",
    "    return raw"
   ]
  },
  {
   "cell_type": "markdown",
   "metadata": {},
   "source": [
    "MDD group preprocessing"
   ]
  },
  {
   "cell_type": "code",
   "execution_count": null,
   "metadata": {},
   "outputs": [],
   "source": [
    "def MDD_preprocess(raw):\n",
    "    raw = set_montage(raw)\n",
    "    raw  = band_pass_filter(raw, l_freq = 0.01, h_freq = 45)\n",
    "    raw = rereferencing(raw)\n",
    "    # raw = wavelet_decompose(raw)\n",
    "    raw.info['bads'] = []\n",
    "    return raw"
   ]
  },
  {
   "cell_type": "markdown",
   "metadata": {},
   "source": [
    "Control group preprcessing"
   ]
  },
  {
   "cell_type": "code",
   "execution_count": null,
   "metadata": {},
   "outputs": [],
   "source": [
    "def control_preprocessing(raw, raw_MDD, crop=True):\n",
    "    # For epochs crop=False\n",
    "    raw = drop_channels(raw, raw_MDD)\n",
    "    if crop:\n",
    "        raw = set_montage(raw)\n",
    "        raw = raw.crop(50, 200)\n",
    "    raw = resampling(raw)\n",
    "    raw = band_pass_filter(raw, l_freq = 0.01, h_freq = 45)\n",
    "    # raw = wavelet_decompose(raw)\n",
    "    raw.info['bads'] = []\n",
    "    return raw"
   ]
  }
 ],
 "metadata": {
  "language_info": {
   "name": "python"
  }
 },
 "nbformat": 4,
 "nbformat_minor": 2
}
