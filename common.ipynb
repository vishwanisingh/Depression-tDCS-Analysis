{
 "cells": [
  {
   "cell_type": "markdown",
   "metadata": {},
   "source": [
    "Variables"
   ]
  },
  {
   "cell_type": "code",
   "execution_count": null,
   "metadata": {},
   "outputs": [],
   "source": [
    "SCALINGS = 4e-4\n",
    "SFREQ = 500\n",
    "WINDOW_SIZE = 1\n",
    "SHOW = False\n",
    "FMIN = 0.01\n",
    "FMAX = 45\n",
    "FREQ_BANDS = {\n",
    "    'delta': (0.01, 4),\n",
    "    'theta': (4, 8),\n",
    "    'alpha1': (8, 10),\n",
    "    'alpha2': (10, 13),\n",
    "    'beta': (13, 30),\n",
    "    'gamma': (30, 45)\n",
    "}\n",
    "ALL_CHANNELS=[]"
   ]
  },
  {
   "cell_type": "markdown",
   "metadata": {},
   "source": [
    "Importing all packages"
   ]
  },
  {
   "cell_type": "code",
   "execution_count": null,
   "metadata": {},
   "outputs": [],
   "source": [
    "import numpy as np\n",
    "import pandas as pd\n",
    "from scipy import fftpack\n",
    "from scipy.fft import fft\n",
    "import time\n",
    "import mne\n",
    "import matplotlib\n",
    "import matplotlib.pyplot as plt\n",
    "import os\n",
    "from scipy.stats import kurtosis, zscore, ttest_ind\n",
    "from mne.preprocessing import create_ecg_epochs, create_eog_epochs, read_ica\n",
    "from mne.time_frequency import tfr_morlet, tfr_array_morlet, morlet, AverageTFR\n",
    "from itertools import product\n",
    "import pywt\n",
    "from scipy.signal import hilbert\n",
    "from mne_connectivity import spectral_connectivity_epochs\n",
    "from mne_connectivity.viz import plot_sensors_connectivity\n",
    "import networkx as nx\n",
    "import numpy as np \n",
    "import re\n",
    "from scipy.cluster.hierarchy import dendrogram, linkage\n",
    "\n",
    "matplotlib.use('TkAgg')"
   ]
  },
  {
   "cell_type": "markdown",
   "metadata": {},
   "source": [
    "## Reading the EEG data"
   ]
  },
  {
   "cell_type": "code",
   "execution_count": null,
   "metadata": {},
   "outputs": [],
   "source": [
    "# folder_path = os.getcwd()+'\\\\Depression-Sample-dataset-AIIMS\\\\'\n",
    "# items = os.listdir(folder_path)\n",
    "# active_or_sham_list = [item for item in items if os.path.isdir(os.path.join(folder_path, item))]\n",
    "# for active_or_sham in active_or_sham_list:\n",
    "#     patient_folder_path = os.path.join(folder_path, active_or_sham)\n",
    "#     items = os.listdir(patient_folder_path)\n",
    "#     patients_list = [item for item in items if os.path.isdir(os.path.join(patient_folder_path, item))]\n",
    "#     patients_list = ['PreetiSingh', 'Hemlata', 'VinodKumarSharma']\n",
    "#     for patient in patients_list:\n",
    "#         pre_post_int_folder_path = os.path.join(patient_folder_path, patient)\n",
    "#         items = os.listdir(pre_post_int_folder_path)\n",
    "#         pre_post_int_list = [item for item in items if os.path.isdir(os.path.join(pre_post_int_folder_path, item))]\n",
    "#         for var in pre_post_int_list:\n",
    "#             if var=='Pre':\n",
    "#                 pre_path = os.path.join(pre_post_int_folder_path, var)\n",
    "#                 file_path = pre_path + '\\\\' + '20230718201550_Preeti singh_22.08.23-01_Eye Close' + '.easy'\n",
    "#                 break # Remove for all pre, post and intervention for a patient\n",
    "#         break # Remove for all patients in active or sham\n",
    "#     break # Remove for both active and sham"
   ]
  },
  {
   "cell_type": "markdown",
   "metadata": {},
   "source": [
    "Data analysis"
   ]
  },
  {
   "cell_type": "code",
   "execution_count": null,
   "metadata": {},
   "outputs": [],
   "source": [
    "# file_path = os.getcwd()+'\\\\Depression-Sample-dataset-AIIMS\\\\Active\\\\VinodKumarSharma\\\\pre\\\\20230829195416_VinodKumarSharma_25.9.23_01_Eye Close.easy'\n",
    "def data_transformation_easy(file_path):\n",
    "\tdf = pd.read_csv(file_path, sep='\\t')\n",
    "\tchannel_str='Channel 1:P8\\\n",
    "\t\tChannel 2:T8\\\n",
    "\t\tChannel 3:CP6\\\n",
    "\t\tChannel 4:FC6\\\n",
    "\t\tChannel 5:F8\\\n",
    "\t\tChannel 6:F4\\\n",
    "\t\tChannel 7:C4\\\n",
    "\t\tChannel 8:P4\\\n",
    "\t\tChannel 9:AF4\\\n",
    "\t\tChannel 10:Fp2\\\n",
    "\t\tChannel 11:Fp1\\\n",
    "\t\tChannel 12:AF3\\\n",
    "\t\tChannel 13:Fz\\\n",
    "\t\tChannel 14:FC2\\\n",
    "\t\tChannel 15:Cz\\\n",
    "\t\tChannel 16:CP2\\\n",
    "\t\tChannel 17:PO3\\\n",
    "\t\tChannel 18:O1\\\n",
    "\t\tChannel 19:Oz\\\n",
    "\t\tChannel 20:O2\\\n",
    "\t\tChannel 21:PO4\\\n",
    "\t\tChannel 22:Pz\\\n",
    "\t\tChannel 23:CP1\\\n",
    "\t\tChannel 24:FC1\\\n",
    "\t\tChannel 25:P3\\\n",
    "\t\tChannel 26:C3\\\n",
    "\t\tChannel 27:F3\\\n",
    "\t\tChannel 28:F7\\\n",
    "\t\tChannel 29:FC5\\\n",
    "\t\tChannel 30:CP5\\\n",
    "\t\tChannel 31:T7\\\n",
    "\t\tChannel 32:P7'\n",
    "\n",
    "\tchannel_names = re.findall(r'Channel \\d+:(\\w+)', channel_str)\n",
    "\tchannel_names.append('ax')\n",
    "\tchannel_names.append('ay')\n",
    "\tchannel_names.append('az')\n",
    "\tchannel_names.append('trigger')\n",
    "\tchannel_names.append('timestamp(ms)')\n",
    "\tglobal ALL_CHANNELS\n",
    "\tALL_CHANNELS = np.array(channel_names[:-5])\n",
    "\tdf.columns=channel_names\n",
    "\ttransposed_data=df.T\n",
    "\tch_names = df.columns.tolist()[:-5]\n",
    "\tch_types = ['eeg' for i in range(32)]\n",
    "\tinfo = mne.create_info(ch_names=ch_names,ch_types=ch_types, sfreq=500)\n",
    "\traw = mne.io.RawArray(transposed_data.values[:-5,:]/1e9, info) # Example: 33129984 nV = 0.033129984 V = 33129.984000000004 uV\n",
    "\treturn raw\n",
    "# data_transformation_easy(file_path)"
   ]
  },
  {
   "cell_type": "code",
   "execution_count": null,
   "metadata": {},
   "outputs": [],
   "source": [
    "ALL_CHANNELS"
   ]
  },
  {
   "cell_type": "markdown",
   "metadata": {},
   "source": [
    "Set montage"
   ]
  },
  {
   "cell_type": "code",
   "execution_count": null,
   "metadata": {},
   "outputs": [],
   "source": [
    "def set_montage(raw):\n",
    "    mont1020 = mne.channels.make_standard_montage('standard_1020')\n",
    "    ind = [i for (i, channel) in enumerate(mont1020.ch_names) if channel in ALL_CHANNELS]\n",
    "    mont1020_new = mont1020.copy()\n",
    "    mont1020_new.ch_names = [mont1020.ch_names[x] for x in ind]\n",
    "    kept_channel_info = [mont1020.dig[x+3] for x in ind]\n",
    "    mont1020_new.dig = mont1020.dig[0:3]+kept_channel_info\n",
    "    raw.set_montage(mont1020_new)\n",
    "    return raw"
   ]
  },
  {
   "cell_type": "markdown",
   "metadata": {},
   "source": [
    "Calculate absolute power"
   ]
  },
  {
   "cell_type": "code",
   "execution_count": null,
   "metadata": {},
   "outputs": [],
   "source": [
    "def calculate_absolute_power(raw_data):\n",
    "    FMIN=0.01\n",
    "    FMAX=45\n",
    "    psds, freqs = mne.time_frequency.psd_array_welch(raw_data.get_data(), fmin=FMIN, fmax=FMAX, sfreq=SFREQ)\n",
    "    absolute_powers = {}\n",
    "    for band, (FMIN, FMAX) in FREQ_BANDS.items():\n",
    "        idx_band = np.logical_and(freqs >= FMIN, freqs <= FMAX)\n",
    "        absolute_power = np.trapz(psds[:, idx_band], dx=(freqs[1] - freqs[0]), axis=-1)\n",
    "        absolute_powers[band] = absolute_power\n",
    "    total_absolute_power = sum(absolute_powers.values())\n",
    "    return total_absolute_power\n"
   ]
  },
  {
   "cell_type": "markdown",
   "metadata": {},
   "source": [
    "#### Time amplitude plot"
   ]
  },
  {
   "cell_type": "code",
   "execution_count": null,
   "metadata": {},
   "outputs": [],
   "source": [
    "def time_amplitude(raw, title):\n",
    "    fig = raw.plot(\n",
    "        n_channels=32, \n",
    "        scalings=SCALINGS,\n",
    "        show=SHOW\n",
    "        )\n",
    "    fig.savefig(f'MNE-graphs/time-amplitude/{title}-EEG.png')\n",
    "\n",
    "    print(raw.info)\n",
    "    # TODO: Extract statistical features from time domain such as mean, median, variance, skewness, kurtosis"
   ]
  },
  {
   "cell_type": "markdown",
   "metadata": {},
   "source": [
    "#### Power spectral density plot"
   ]
  },
  {
   "cell_type": "code",
   "execution_count": null,
   "metadata": {},
   "outputs": [],
   "source": [
    "def psd(raw, title):\n",
    "    fig = raw.plot_psd(\n",
    "        picks=raw.info['ch_names'], \n",
    "        show=SHOW)\n",
    "    fig.savefig(f'MNE-graphs/psd-frequency/{title}.png')"
   ]
  },
  {
   "cell_type": "markdown",
   "metadata": {},
   "source": [
    "#### Wavelet plot"
   ]
  },
  {
   "cell_type": "code",
   "execution_count": null,
   "metadata": {},
   "outputs": [],
   "source": [
    "# def wavelet(raw1, raw2=None, title):\n",
    "#     raw1_avg = np.mean(raw1.get_data(), axis=0)\n",
    "#     t = np.arange(0, 150, 1/SFREQ)\n",
    "#     ts = t[:-1]\n",
    "#     wavelet = 'db13'\n",
    "#     level = 5 # level of decomposition based on your signal characteristics\n",
    "\n",
    "#     # coeffs_multi_channel = []\n",
    "#     # for i in range(32): \n",
    "#     coeffs1 = pywt.wavedec(raw1_avg, wavelet, level=level)\n",
    "#         # coeffs_multi_channel.append(coeffs)\n",
    "    \n",
    "#     plt.figure(figsize=(10, 6))\n",
    "\n",
    "#     # raw1\n",
    "#     plt.subplot(4, 1, 1)\n",
    "#     plt.plot(ts, raw1_avg, label='xyz')\n",
    "#     plt.title('Channel 1')\n",
    "#     plt.xlabel('Time')\n",
    "#     plt.ylabel('Amplitude')\n",
    "#     plt.legend()\n",
    "\n",
    "#     # raw1 coeffs\n",
    "#     plt.subplot(4, 1, 2)\n",
    "#     for i in range(level+1):\n",
    "#         plt.plot(t, pywt.upcoef('a', coeffs1[i], wavelet, level=level)[:len(t)], label=f'Level {i}')\n",
    "#     plt.title('DWT')\n",
    "#     plt.xlabel('Time')\n",
    "#     plt.ylabel('Amplitude')\n",
    "#     plt.legend()\n",
    "\n",
    "#     if raw2:\n",
    "#         raw2_avg = np.mean(raw2.get_data(), axis=0)\n",
    "#         coeffs2 = pywt.wavedec(raw2_avg, wavelet, level=level)\n",
    "\n",
    "#         # raw2\n",
    "#         plt.subplot(4, 1, 3)\n",
    "#         plt.plot(t, raw2_avg, label='ddd')\n",
    "#         plt.title('Channel 1')\n",
    "#         plt.xlabel('Time')\n",
    "#         plt.ylabel('Amplitude')\n",
    "#         plt.legend()\n",
    "\n",
    "#         # raw2 coeffs\n",
    "#         plt.subplot(4, 1, 4)\n",
    "#         for i in range(level+1):\n",
    "#             plt.plot(t, pywt.upcoef('a', coeffs2[i], wavelet, level=level)[:len(t)], label=f'Level {i}')\n",
    "#         plt.title('DWT')\n",
    "#         plt.xlabel('Time')\n",
    "#         plt.ylabel('Amplitude')\n",
    "#         plt.legend()\n",
    "\n",
    "#     plt.tight_layout()\n",
    "#     plt.show()"
   ]
  }
 ],
 "metadata": {
  "kernelspec": {
   "display_name": "Python 3",
   "language": "python",
   "name": "python3"
  },
  "language_info": {
   "codemirror_mode": {
    "name": "ipython",
    "version": 3
   },
   "file_extension": ".py",
   "mimetype": "text/x-python",
   "name": "python",
   "nbconvert_exporter": "python",
   "pygments_lexer": "ipython3",
   "version": "3.11.4"
  }
 },
 "nbformat": 4,
 "nbformat_minor": 2
}
