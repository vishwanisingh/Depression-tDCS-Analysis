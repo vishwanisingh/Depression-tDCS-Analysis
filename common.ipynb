{
 "cells": [
  {
   "cell_type": "markdown",
   "metadata": {},
   "source": [
    "## Flow"
   ]
  },
  {
   "cell_type": "code",
   "execution_count": null,
   "metadata": {},
   "outputs": [],
   "source": [
    "# RQA -- in between - raw quality assessment (amplitude * power frequency ratio * alpha band psd ratio)\n",
    "# Extract file ---> collective data ---> Bad channel removal ----- Not needed [sampling rate correction (500Hz)] -----\n",
    "# filtering (butterworth bandpass - tune coefficient)  ----- rereferencing ----- epoching ----- ERP ----- baseline removal ---- "
   ]
  },
  {
   "cell_type": "markdown",
   "metadata": {},
   "source": [
    "Variables"
   ]
  },
  {
   "cell_type": "code",
   "execution_count": null,
   "metadata": {},
   "outputs": [],
   "source": [
    "SCALINGS = 4e-4\n",
    "SFREQ = 500\n",
    "WINDOW_SIZE = 1"
   ]
  },
  {
   "cell_type": "markdown",
   "metadata": {},
   "source": [
    "Importing all packages"
   ]
  },
  {
   "cell_type": "code",
   "execution_count": null,
   "metadata": {},
   "outputs": [],
   "source": [
    "import numpy as np\n",
    "import pandas as pd\n",
    "from scipy import fftpack\n",
    "from scipy.fft import fft\n",
    "import time\n",
    "import mne\n",
    "import matplotlib\n",
    "import matplotlib.pyplot as plt\n",
    "import os\n",
    "from scipy.stats import kurtosis, zscore\n",
    "from mne.preprocessing import create_ecg_epochs, create_eog_epochs, read_ica\n",
    "from mne.time_frequency import tfr_morlet, tfr_array_morlet, morlet, AverageTFR\n",
    "from itertools import product\n",
    "import pywt\n",
    "from scipy.signal import hilbert\n",
    "from mne_connectivity import spectral_connectivity_epochs\n",
    "from mne_connectivity.viz import plot_sensors_connectivity\n",
    "import networkx as nx\n",
    "\n",
    "matplotlib.use('TkAgg')"
   ]
  },
  {
   "cell_type": "markdown",
   "metadata": {},
   "source": [
    "## Reading the EEG data"
   ]
  },
  {
   "cell_type": "code",
   "execution_count": null,
   "metadata": {},
   "outputs": [],
   "source": [
    "# folder_path = os.getcwd()+'\\\\Depression-Sample-dataset-AIIMS\\\\'\n",
    "# items = os.listdir(folder_path)\n",
    "# active_or_sham_list = [item for item in items if os.path.isdir(os.path.join(folder_path, item))]\n",
    "# for active_or_sham in active_or_sham_list:\n",
    "#     patient_folder_path = os.path.join(folder_path, active_or_sham)\n",
    "#     items = os.listdir(patient_folder_path)\n",
    "#     patients_list = [item for item in items if os.path.isdir(os.path.join(patient_folder_path, item))]\n",
    "#     patients_list = ['PreetiSingh', 'Hemlata', 'VinodKumarSharma']\n",
    "#     for patient in patients_list:\n",
    "#         pre_post_int_folder_path = os.path.join(patient_folder_path, patient)\n",
    "#         items = os.listdir(pre_post_int_folder_path)\n",
    "#         pre_post_int_list = [item for item in items if os.path.isdir(os.path.join(pre_post_int_folder_path, item))]\n",
    "#         for var in pre_post_int_list:\n",
    "#             if var=='Pre':\n",
    "#                 pre_path = os.path.join(pre_post_int_folder_path, var)\n",
    "#                 file_path = pre_path + '\\\\' + '20230718201550_Preeti singh_22.08.23-01_Eye Close' + '.easy'\n",
    "#                 break # Remove for all pre, post and intervention for a patient\n",
    "#         break # Remove for all patients in active or sham\n",
    "#     break # Remove for both active and sham"
   ]
  },
  {
   "cell_type": "code",
   "execution_count": null,
   "metadata": {},
   "outputs": [],
   "source": [
    "df = pd.read_csv(file_path, sep='\\t')\n",
    "channel_str='Channel 1:P8\\\n",
    "\tChannel 2:T8\\\n",
    "\tChannel 3:CP6\\\n",
    "\tChannel 4:FC6\\\n",
    "\tChannel 5:F8\\\n",
    "\tChannel 6:F4\\\n",
    "\tChannel 7:C4\\\n",
    "\tChannel 8:P4\\\n",
    "\tChannel 9:AF4\\\n",
    "\tChannel 10:Fp2\\\n",
    "\tChannel 11:Fp1\\\n",
    "\tChannel 12:AF3\\\n",
    "\tChannel 13:Fz\\\n",
    "\tChannel 14:FC2\\\n",
    "\tChannel 15:Cz\\\n",
    "\tChannel 16:CP2\\\n",
    "\tChannel 17:PO3\\\n",
    "\tChannel 18:O1\\\n",
    "\tChannel 19:Oz\\\n",
    "\tChannel 20:O2\\\n",
    "\tChannel 21:PO4\\\n",
    "\tChannel 22:Pz\\\n",
    "\tChannel 23:CP1\\\n",
    "\tChannel 24:FC1\\\n",
    "\tChannel 25:P3\\\n",
    "\tChannel 26:C3\\\n",
    "\tChannel 27:F3\\\n",
    "\tChannel 28:F7\\\n",
    "\tChannel 29:FC5\\\n",
    "\tChannel 30:CP5\\\n",
    "\tChannel 31:T7\\\n",
    "\tChannel 32:P7'\n",
    "\n",
    "string_channels = channel_str.replace('\\t', ':').split(':')\n",
    "channel_names = [string_channels[i] for i in range(len(string_channels)) if i % 2 != 0]\n",
    "channel_names.append('ax')\n",
    "channel_names.append('ay')\n",
    "channel_names.append('az')\n",
    "channel_names.append('trigger')\n",
    "channel_names.append('timestamp(ms)')\n",
    "all_channels = np.array(channel_names[:-5])\n",
    "df.columns=channel_names\n",
    "df.head()"
   ]
  },
  {
   "cell_type": "markdown",
   "metadata": {},
   "source": [
    "Data analysis"
   ]
  },
  {
   "cell_type": "code",
   "execution_count": null,
   "metadata": {},
   "outputs": [],
   "source": [
    "transposed_data=df.T\n",
    "\n",
    "# Create a MNE-Python info object and specifying sampling rate of data\n",
    "ch_names = df.columns.tolist()[:-5]\n",
    "ch_types = ['eeg' for i in range(32)]\n",
    "info = mne.create_info(ch_names=ch_names,ch_types=ch_types, sfreq=500)\n",
    "\n",
    "# Convert all EEG units to nV\n",
    "raw = mne.io.RawArray(transposed_data.values[:-5,:]/1e9, info)\n",
    "\n",
    "print(f\"num of channels: {raw.info.get('nchan')}\")\n",
    "print(f'Shape of the data: {raw.get_data().shape}')"
   ]
  },
  {
   "cell_type": "markdown",
   "metadata": {},
   "source": [
    "Setting custom Montage"
   ]
  },
  {
   "cell_type": "code",
   "execution_count": null,
   "metadata": {},
   "outputs": [],
   "source": [
    "def set_montage(raw):\n",
    "    mne.channels\n",
    "    mont1020 = mne.channels.make_standard_montage('standard_1020')\n",
    "    mont1005 = mne.channels.make_standard_montage('standard_1005')\n",
    "\n",
    "    ind = [i for (i, channel) in enumerate(mont1020.ch_names) if channel in all_channels]\n",
    "    mont1020_new = mont1020.copy()\n",
    "\n",
    "    mont1020_new.ch_names = [mont1020.ch_names[x] for x in ind]\n",
    "    kept_channel_info = [mont1020.dig[x+3] for x in ind]\n",
    "\n",
    "    # Keeping the first three rows as they are the fiducial points information\n",
    "    mont1020_new.dig = mont1020.dig[0:3]+kept_channel_info\n",
    "\n",
    "    raw.set_montage(mont1020_new)\n",
    "    mont1020_new.plot()\n",
    "set_montage(raw)"
   ]
  },
  {
   "cell_type": "markdown",
   "metadata": {},
   "source": [
    "#### Time amplitude plot"
   ]
  },
  {
   "cell_type": "code",
   "execution_count": null,
   "metadata": {},
   "outputs": [],
   "source": [
    "def time_amplitude(raw, title):\n",
    "    fig = raw.plot(\n",
    "        n_channels=32, \n",
    "        scalings=SCALINGS\n",
    "        )\n",
    "    fig.savefig(f'MNE-graphs/time-amplitude/{title}-EEG.png')\n",
    "\n",
    "    print(raw.info)\n",
    "    # TODO: Extract statistical features from time domain such as mean, median, variance, skewness, kurtosis"
   ]
  },
  {
   "cell_type": "markdown",
   "metadata": {},
   "source": [
    "#### Power spectral density plot"
   ]
  },
  {
   "cell_type": "code",
   "execution_count": null,
   "metadata": {},
   "outputs": [],
   "source": [
    "def psd(raw, title):\n",
    "    fig = raw.plot_psd(picks=raw.info['ch_names'])\n",
    "    fig.savefig(f'MNE-graphs/psd-frequency/{title}.png')"
   ]
  },
  {
   "cell_type": "markdown",
   "metadata": {},
   "source": [
    "#### Wavelet plot"
   ]
  },
  {
   "cell_type": "code",
   "execution_count": null,
   "metadata": {},
   "outputs": [],
   "source": [
    "#### Wavelet plot\n",
    "def wavelet(raw, title):\n",
    "    signal = raw.get_data()[0]\n",
    "    t = np.linspace(0, 299, len(signal))\n",
    "    coefficients, frequencies = pywt.cwt(signal, scales=np.arange(1, 128), wavelet='cmor')  \n",
    "\n",
    "    plt.figure(figsize=(10, 6))\n",
    "    plt.imshow(np.abs(coefficients), aspect='auto', cmap='jet', extent=[0, 299, 1, 128])\n",
    "    plt.colorbar(label=\"Magnitude\")\n",
    "    plt.ylabel(\"Scale\")\n",
    "    plt.xlabel(\"Time\")\n",
    "    plt.title(\"CWT\")\n",
    "    plt.show()"
   ]
  },
  {
   "cell_type": "markdown",
   "metadata": {},
   "source": [
    "#### Raw graph plot"
   ]
  },
  {
   "cell_type": "code",
   "execution_count": null,
   "metadata": {},
   "outputs": [],
   "source": [
    "title = \"0--raw graph with line filter\"\n",
    "# time_amplitude(raw, title)\n",
    "# psd(raw, title)"
   ]
  },
  {
   "cell_type": "markdown",
   "metadata": {},
   "source": [
    "# Preprocessing"
   ]
  },
  {
   "cell_type": "markdown",
   "metadata": {},
   "source": [
    "1. Band pass filtering"
   ]
  },
  {
   "cell_type": "code",
   "execution_count": null,
   "metadata": {},
   "outputs": [],
   "source": [
    "def band_pass_filter(raw_cleaned):\n",
    "    l_freq = 0.01\n",
    "    h_freq = 45\n",
    "    raw_cleaned.filter(method= 'fir',\n",
    "        phase= 'minimum',\n",
    "        fir_window= 'hann',\n",
    "        l_freq= l_freq,\n",
    "        h_freq= h_freq)\n",
    "\n",
    "    title = \"1--Band pass filtered graph\"\n",
    "    time_amplitude(raw_cleaned, title)\n",
    "    # psd(raw_cleaned, title)\n",
    "    return raw_cleaned\n",
    "raw_cleaned  = band_pass_filter(raw.copy())"
   ]
  },
  {
   "cell_type": "markdown",
   "metadata": {},
   "source": [
    "2. Rereferencing\n",
    "\n",
    "Calculates the mean voltage from all electrodes at each time point and subtracts this mean from the voltage at each individual electrode."
   ]
  },
  {
   "cell_type": "code",
   "execution_count": null,
   "metadata": {},
   "outputs": [],
   "source": [
    "def rereferencing(raw_cleaned):\n",
    "    raw_cleaned.set_eeg_reference('average', projection=True).apply_proj() \n",
    "\n",
    "    title = \"2---Rereferenced\"\n",
    "    time_amplitude(raw_cleaned, title)\n",
    "    # psd(raw_cleaned, title)\n",
    "    return raw_cleaned\n",
    "raw_cleaned = rereferencing(raw_cleaned)\n"
   ]
  },
  {
   "cell_type": "markdown",
   "metadata": {},
   "source": [
    "<!-- 4. ECG/EOG Correction using ICA on Raw data\n",
    "\n",
    "ICA decomposes data into different components each representing a spatial pattern. Excluding a component means discarding that specific spatial pattern and its contribution to original data -->"
   ]
  },
  {
   "cell_type": "markdown",
   "metadata": {},
   "source": [
    "3. Artifact Rejection (EOG/ECG) using Wavelet decomposition"
   ]
  },
  {
   "cell_type": "code",
   "execution_count": null,
   "metadata": {},
   "outputs": [],
   "source": [
    "# coeffs = pywt.wavedec(raw_cleaned.get_data(), 'db1', level=2)\n",
    "# # TODO: Set threshold also don't disturb info field of raw_cleaned - modify this code\n",
    "# threshold = 0.0000001\n",
    "# coeffs_thresholded = [pywt.threshold(c, threshold, mode='soft') for c in coeffs]\n",
    "# denoised_signal = pywt.waverec(coeffs_thresholded, 'db1')"
   ]
  },
  {
   "cell_type": "code",
   "execution_count": null,
   "metadata": {},
   "outputs": [],
   "source": [
    "# title=\"3---denoised\"\n",
    "# raw_cleaned = mne.io.RawArray(denoised_signal, info)\n",
    "\n",
    "# time_amplitude(raw_cleaned, title)\n",
    "# # psd(raw_cleaned, title)"
   ]
  }
 ],
 "metadata": {
  "kernelspec": {
   "display_name": "Python 3",
   "language": "python",
   "name": "python3"
  },
  "language_info": {
   "codemirror_mode": {
    "name": "ipython",
    "version": 3
   },
   "file_extension": ".py",
   "mimetype": "text/x-python",
   "name": "python",
   "nbconvert_exporter": "python",
   "pygments_lexer": "ipython3",
   "version": "3.11.4"
  }
 },
 "nbformat": 4,
 "nbformat_minor": 2
}
