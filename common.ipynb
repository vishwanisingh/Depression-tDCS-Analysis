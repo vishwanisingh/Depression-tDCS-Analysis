{
 "cells": [
  {
   "cell_type": "markdown",
   "metadata": {},
   "source": [
    "Variables"
   ]
  },
  {
   "cell_type": "code",
   "execution_count": 1,
   "metadata": {},
   "outputs": [],
   "source": [
    "SCALINGS = 4e-4\n",
    "SFREQ = 500\n",
    "WINDOW_SIZE = 1\n",
    "SHOW = False\n",
    "FMIN = 0.01\n",
    "FMAX = 45\n",
    "FREQ_BANDS = {\n",
    "    'theta': (4, 8),\n",
    "    'alpha': (8, 13),\n",
    "    'beta': (13, 30),\n",
    "}\n",
    "ALL_CHANNELS=[]"
   ]
  },
  {
   "cell_type": "markdown",
   "metadata": {},
   "source": [
    "Importing all packages"
   ]
  },
  {
   "cell_type": "code",
   "execution_count": 2,
   "metadata": {},
   "outputs": [],
   "source": [
    "import numpy as np\n",
    "import pandas as pd\n",
    "from scipy import fftpack\n",
    "from scipy.fft import fft\n",
    "import time\n",
    "import mne\n",
    "import matplotlib\n",
    "import matplotlib.pyplot as plt\n",
    "import os\n",
    "from scipy.stats import kurtosis, zscore, ttest_rel\n",
    "from mne.preprocessing import create_ecg_epochs, create_eog_epochs, read_ica\n",
    "from mne.time_frequency import tfr_morlet, tfr_array_morlet, morlet, AverageTFR\n",
    "from itertools import product\n",
    "import pywt\n",
    "from scipy.signal import hilbert\n",
    "from mne_connectivity import spectral_connectivity_epochs\n",
    "from mne_connectivity.viz import plot_sensors_connectivity\n",
    "import networkx as nx\n",
    "import numpy as np \n",
    "import re\n",
    "from scipy.cluster.hierarchy import dendrogram, linkage\n",
    "import glob\n",
    "\n",
    "matplotlib.use('TkAgg')"
   ]
  },
  {
   "cell_type": "markdown",
   "metadata": {},
   "source": [
    "## Reading the EEG data"
   ]
  },
  {
   "cell_type": "code",
   "execution_count": 3,
   "metadata": {},
   "outputs": [],
   "source": [
    "def data_transformation_easy(file_path):\n",
    "\tdf = pd.read_csv(file_path, sep='\\t')\n",
    "\tchannel_str='Channel 1:P8\\\n",
    "\t\tChannel 2:T8\\\n",
    "\t\tChannel 3:CP6\\\n",
    "\t\tChannel 4:FC6\\\n",
    "\t\tChannel 5:F8\\\n",
    "\t\tChannel 6:F4\\\n",
    "\t\tChannel 7:C4\\\n",
    "\t\tChannel 8:P4\\\n",
    "\t\tChannel 9:AF4\\\n",
    "\t\tChannel 10:Fp2\\\n",
    "\t\tChannel 11:Fp1\\\n",
    "\t\tChannel 12:AF3\\\n",
    "\t\tChannel 13:Fz\\\n",
    "\t\tChannel 14:FC2\\\n",
    "\t\tChannel 15:Cz\\\n",
    "\t\tChannel 16:CP2\\\n",
    "\t\tChannel 17:PO3\\\n",
    "\t\tChannel 18:O1\\\n",
    "\t\tChannel 19:Oz\\\n",
    "\t\tChannel 20:O2\\\n",
    "\t\tChannel 21:PO4\\\n",
    "\t\tChannel 22:Pz\\\n",
    "\t\tChannel 23:CP1\\\n",
    "\t\tChannel 24:FC1\\\n",
    "\t\tChannel 25:P3\\\n",
    "\t\tChannel 26:C3\\\n",
    "\t\tChannel 27:F3\\\n",
    "\t\tChannel 28:F7\\\n",
    "\t\tChannel 29:FC5\\\n",
    "\t\tChannel 30:CP5\\\n",
    "\t\tChannel 31:T7\\\n",
    "\t\tChannel 32:P7'\n",
    "\n",
    "\tchannel_names = re.findall(r'Channel \\d+:(\\w+)', channel_str)\n",
    "\tchannel_names.append('ax')\n",
    "\tchannel_names.append('ay')\n",
    "\tchannel_names.append('az')\n",
    "\tchannel_names.append('trigger')\n",
    "\tchannel_names.append('timestamp(ms)')\n",
    "\tglobal ALL_CHANNELS\n",
    "\tALL_CHANNELS = np.array(channel_names[:-5])\n",
    "\tdf.columns=channel_names\n",
    "\ttransposed_data=df.T\n",
    "\tch_names = df.columns.tolist()[:-5]\n",
    "\tch_types = ['eeg' for i in range(32)]\n",
    "\tinfo = mne.create_info(ch_names=ch_names,ch_types=ch_types, sfreq=500)\n",
    "\traw = mne.io.RawArray(transposed_data.values[:-5,:]/1e9, info) # Example: 33129984 nV = 0.033129984 V = 33129.984000000004 uV\n",
    "\treturn raw"
   ]
  },
  {
   "cell_type": "markdown",
   "metadata": {},
   "source": [
    "Set montage"
   ]
  },
  {
   "cell_type": "code",
   "execution_count": 5,
   "metadata": {},
   "outputs": [],
   "source": [
    "def set_montage(raw):\n",
    "    mont1020 = mne.channels.make_standard_montage('standard_1020')\n",
    "    ind = [i for (i, channel) in enumerate(mont1020.ch_names) if channel in ALL_CHANNELS]\n",
    "    mont1020_new = mont1020.copy()\n",
    "    mont1020_new.ch_names = [mont1020.ch_names[x] for x in ind]\n",
    "    kept_channel_info = [mont1020.dig[x+3] for x in ind]\n",
    "    mont1020_new.dig = mont1020.dig[0:3]+kept_channel_info\n",
    "    raw.set_montage(mont1020_new)\n",
    "    return raw"
   ]
  },
  {
   "cell_type": "markdown",
   "metadata": {},
   "source": [
    "Calculate absolute power"
   ]
  },
  {
   "cell_type": "code",
   "execution_count": 6,
   "metadata": {},
   "outputs": [],
   "source": [
    "# def calculate_absolute_power(raw_data):\n",
    "#     FMIN=0.01\n",
    "#     FMAX=45\n",
    "#     psds, freqs = mne.time_frequency.psd_array_welch(raw_data.get_data(), fmin=FMIN, fmax=FMAX, sfreq=SFREQ)\n",
    "#     absolute_powers = {}\n",
    "#     for band, (FMIN, FMAX) in FREQ_BANDS.items():\n",
    "#         idx_band = np.logical_and(freqs >= FMIN, freqs <= FMAX)\n",
    "#         absolute_power = np.trapz(psds[:, idx_band], dx=(freqs[1] - freqs[0]), axis=-1)\n",
    "#         absolute_powers[band] = absolute_power\n",
    "#     total_absolute_power = sum(absolute_powers.values())\n",
    "#     return total_absolute_power\n"
   ]
  },
  {
   "cell_type": "markdown",
   "metadata": {},
   "source": [
    "Calculate average components of a graph"
   ]
  },
  {
   "cell_type": "code",
   "execution_count": 7,
   "metadata": {},
   "outputs": [],
   "source": [
    "def calculate_avergae_components(G):\n",
    "    connected_components = list(nx.connected_components(G))\n",
    "    component_avg_lengths = []\n",
    "    component_nbc_values = []\n",
    "    component_eglo_values = []\n",
    "    component_cc_values = []\n",
    "    component_eloc_values = []\n",
    "    # component_degree_centrality = []\n",
    "\n",
    "    for component in connected_components:\n",
    "        subgraph = G.subgraph(component)\n",
    "        component_avg_lengths.append(nx.average_shortest_path_length(subgraph))\n",
    "        component_nbc_values.append(nx.betweenness_centrality(subgraph))\n",
    "        component_eglo_values.append(nx.global_efficiency(subgraph))\n",
    "        component_cc_values.append(nx.average_clustering(subgraph))\n",
    "        component_eloc_values.append(nx.local_efficiency(subgraph))\n",
    "        # component_degree_centrality.append(nx.degree_centrality(subgraph))\n",
    "\n",
    "    merged_nbc_values = {}\n",
    "    for dnbc in component_nbc_values:\n",
    "        merged_nbc_values.update(dnbc)\n",
    "    merged_nbc_values = dict(sorted(merged_nbc_values.items(), key=lambda item: item[0]))\n",
    " \n",
    "    overall_avg_length = sum(component_avg_lengths) / len(component_avg_lengths)\n",
    "    overall_eglo_values = sum(component_eglo_values) / len(component_eglo_values)\n",
    "    overall_cc_values = sum(component_cc_values) / len(component_cc_values)\n",
    "    overall_eloc_values = sum(component_eloc_values) / len(component_eloc_values)\n",
    "    # overall_centrality_values = sum(component_degree_centrality) / len(component_degree_centrality)\n",
    "\n",
    "    return [overall_avg_length, merged_nbc_values, overall_eglo_values, overall_cc_values, overall_eloc_values]"
   ]
  },
  {
   "cell_type": "markdown",
   "metadata": {},
   "source": [
    "#### Time amplitude plot"
   ]
  },
  {
   "cell_type": "code",
   "execution_count": 8,
   "metadata": {},
   "outputs": [],
   "source": [
    "def time_amplitude(raw, title):\n",
    "    fig = raw.plot(\n",
    "        n_channels=32, \n",
    "        scalings=SCALINGS,\n",
    "        show=SHOW\n",
    "        )\n",
    "    fig.savefig(f'MNE-graphs/time-amplitude/{title}-EEG.png')\n",
    "\n",
    "    print(raw.info)\n",
    "    # TODO: Extract statistical features from time domain such as mean, median, variance, skewness, kurtosis"
   ]
  },
  {
   "cell_type": "markdown",
   "metadata": {},
   "source": [
    "#### Power spectral density plot"
   ]
  },
  {
   "cell_type": "code",
   "execution_count": 9,
   "metadata": {},
   "outputs": [],
   "source": [
    "def psd(raw, title):\n",
    "    fig = raw.plot_psd(\n",
    "        picks=raw.info['ch_names'], \n",
    "        show=SHOW)\n",
    "    fig.savefig(f'MNE-graphs/psd-frequency/{title}.png')"
   ]
  },
  {
   "cell_type": "markdown",
   "metadata": {},
   "source": [
    "#### Wavelet plot"
   ]
  },
  {
   "cell_type": "code",
   "execution_count": 10,
   "metadata": {},
   "outputs": [],
   "source": [
    "# def wavelet(raw1, raw2=None, title):\n",
    "#     raw1_avg = np.mean(raw1.get_data(), axis=0)\n",
    "#     t = np.arange(0, 150, 1/SFREQ)\n",
    "#     ts = t[:-1]\n",
    "#     wavelet = 'db13'\n",
    "#     level = 5 # level of decomposition based on your signal characteristics\n",
    "\n",
    "#     # coeffs_multi_channel = []\n",
    "#     # for i in range(32): \n",
    "#     coeffs1 = pywt.wavedec(raw1_avg, wavelet, level=level)\n",
    "#         # coeffs_multi_channel.append(coeffs)\n",
    "    \n",
    "#     plt.figure(figsize=(10, 6))\n",
    "\n",
    "#     # raw1\n",
    "#     plt.subplot(4, 1, 1)\n",
    "#     plt.plot(ts, raw1_avg, label='xyz')\n",
    "#     plt.title('Channel 1')\n",
    "#     plt.xlabel('Time')\n",
    "#     plt.ylabel('Amplitude')\n",
    "#     plt.legend()\n",
    "\n",
    "#     # raw1 coeffs\n",
    "#     plt.subplot(4, 1, 2)\n",
    "#     for i in range(level+1):\n",
    "#         plt.plot(t, pywt.upcoef('a', coeffs1[i], wavelet, level=level)[:len(t)], label=f'Level {i}')\n",
    "#     plt.title('DWT')\n",
    "#     plt.xlabel('Time')\n",
    "#     plt.ylabel('Amplitude')\n",
    "#     plt.legend()\n",
    "\n",
    "#     if raw2:\n",
    "#         raw2_avg = np.mean(raw2.get_data(), axis=0)\n",
    "#         coeffs2 = pywt.wavedec(raw2_avg, wavelet, level=level)\n",
    "\n",
    "#         # raw2\n",
    "#         plt.subplot(4, 1, 3)\n",
    "#         plt.plot(t, raw2_avg, label='ddd')\n",
    "#         plt.title('Channel 1')\n",
    "#         plt.xlabel('Time')\n",
    "#         plt.ylabel('Amplitude')\n",
    "#         plt.legend()\n",
    "\n",
    "#         # raw2 coeffs\n",
    "#         plt.subplot(4, 1, 4)\n",
    "#         for i in range(level+1):\n",
    "#             plt.plot(t, pywt.upcoef('a', coeffs2[i], wavelet, level=level)[:len(t)], label=f'Level {i}')\n",
    "#         plt.title('DWT')\n",
    "#         plt.xlabel('Time')\n",
    "#         plt.ylabel('Amplitude')\n",
    "#         plt.legend()\n",
    "\n",
    "#     plt.tight_layout()\n",
    "#     plt.show()"
   ]
  },
  {
   "cell_type": "markdown",
   "metadata": {},
   "source": [
    "Band pass filtering"
   ]
  },
  {
   "cell_type": "code",
   "execution_count": 11,
   "metadata": {},
   "outputs": [],
   "source": [
    "def band_pass_filter(raw, l_freq=FMIN, h_freq=FMAX):\n",
    "    raw.filter(method= 'fir',\n",
    "        phase= 'minimum',\n",
    "        fir_window= 'hann',\n",
    "        l_freq= l_freq,\n",
    "        h_freq= h_freq)\n",
    "    return raw"
   ]
  },
  {
   "cell_type": "markdown",
   "metadata": {},
   "source": [
    "Rereferencing\n",
    "\n",
    "Calculates the mean voltage from all electrodes at each time point and subtracts this mean from the voltage at each individual electrode."
   ]
  },
  {
   "cell_type": "code",
   "execution_count": 12,
   "metadata": {},
   "outputs": [],
   "source": [
    "def rereferencing(raw):\n",
    "    raw.set_eeg_reference('average', projection=True).apply_proj() \n",
    "    return raw"
   ]
  },
  {
   "cell_type": "markdown",
   "metadata": {},
   "source": [
    "Artifact Rejection (EOG/ECG) using Wavelet decomposition"
   ]
  },
  {
   "cell_type": "code",
   "execution_count": 13,
   "metadata": {},
   "outputs": [],
   "source": [
    "# def wavelet_decompose(raw):\n",
    "#     info = raw.info\n",
    "#     coeffs = pywt.wavedec(raw.get_data(), 'db13', level=4)\n",
    "#     threshold = 0.00001 # applying a shrinkage function that smoothly brings coefficients below the threshold to zero\n",
    "#     coeffs_thresholded = [pywt.threshold(c, threshold, mode='soft') for c in coeffs] \n",
    "#     denoised_signal = pywt.waverec(coeffs_thresholded, 'db13')\n",
    "#     raw = mne.io.RawArray(denoised_signal, info)\n",
    "#     return raw"
   ]
  },
  {
   "cell_type": "markdown",
   "metadata": {},
   "source": [
    "Crop signal"
   ]
  },
  {
   "cell_type": "code",
   "execution_count": 14,
   "metadata": {},
   "outputs": [],
   "source": [
    "def crop(raw, l, h):\n",
    "    return raw.crop(l,h)"
   ]
  },
  {
   "cell_type": "markdown",
   "metadata": {},
   "source": [
    "Resampling"
   ]
  },
  {
   "cell_type": "code",
   "execution_count": 15,
   "metadata": {},
   "outputs": [],
   "source": [
    "def resampling(raw, SFREQ=SFREQ):\n",
    "    return raw.resample(sfreq=SFREQ)"
   ]
  },
  {
   "cell_type": "markdown",
   "metadata": {},
   "source": [
    "Drop channels\n",
    "\n",
    "Dropping extra channels in both groups\n",
    "TODO: Instead of dropping we can convert 10-10 64 channels montage to 10-20 32 channels"
   ]
  },
  {
   "cell_type": "code",
   "execution_count": 16,
   "metadata": {},
   "outputs": [],
   "source": [
    "def drop_channels(raw, raw_MDD):\n",
    "    drop = []\n",
    "    for chan in raw.info['ch_names']:\n",
    "        if chan not in raw_MDD.info['ch_names']:\n",
    "            drop.append(chan)\n",
    "    raw.drop_channels(drop)\n",
    "    return raw"
   ]
  },
  {
   "cell_type": "markdown",
   "metadata": {},
   "source": [
    "Group 1 preprocessing"
   ]
  },
  {
   "cell_type": "code",
   "execution_count": 17,
   "metadata": {},
   "outputs": [],
   "source": [
    "def g1_preprocess(raw):\n",
    "    raw = set_montage(raw)\n",
    "    raw = raw.crop(10, 110)\n",
    "    raw  = band_pass_filter(raw, l_freq = FMIN, h_freq = FMAX)\n",
    "    raw = rereferencing(raw)\n",
    "    raw.info['bads'] = []\n",
    "    return raw"
   ]
  },
  {
   "cell_type": "markdown",
   "metadata": {},
   "source": [
    "Group 2 preprcessing"
   ]
  },
  {
   "cell_type": "code",
   "execution_count": 18,
   "metadata": {},
   "outputs": [],
   "source": [
    "def g2_preprocessing(raw, raw_1, crop=True):\n",
    "    # For epochs crop=False\n",
    "    raw = drop_channels(raw, raw_1)\n",
    "    if crop:\n",
    "        raw = set_montage(raw)\n",
    "        raw = raw.crop(50, 200)\n",
    "    raw = resampling(raw)\n",
    "    raw = band_pass_filter(raw, l_freq = 0.01, h_freq = 45)\n",
    "    raw.info['bads'] = []\n",
    "    return raw"
   ]
  }
 ],
 "metadata": {
  "kernelspec": {
   "display_name": "Python 3",
   "language": "python",
   "name": "python3"
  },
  "language_info": {
   "codemirror_mode": {
    "name": "ipython",
    "version": 3
   },
   "file_extension": ".py",
   "mimetype": "text/x-python",
   "name": "python",
   "nbconvert_exporter": "python",
   "pygments_lexer": "ipython3",
   "version": "3.8.10"
  }
 },
 "nbformat": 4,
 "nbformat_minor": 2
}
